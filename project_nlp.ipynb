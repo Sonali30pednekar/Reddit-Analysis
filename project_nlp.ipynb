{
 "cells": [
  {
   "cell_type": "markdown",
   "id": "41d6ea80-2882-434e-b849-58828b101c01",
   "metadata": {},
   "source": [
    "## Reddit Analysis - NLP"
   ]
  },
  {
   "cell_type": "markdown",
   "id": "411690e6-f71a-41c0-9f20-06ae473119b0",
   "metadata": {},
   "source": [
    "### Initializing Spark Session"
   ]
  },
  {
   "cell_type": "code",
   "execution_count": 1,
   "id": "cceae0c7-b68b-4102-9ff4-bfb1fa39060b",
   "metadata": {},
   "outputs": [],
   "source": [
    "import findspark\n",
    "findspark.init()"
   ]
  },
  {
   "cell_type": "code",
   "execution_count": 2,
   "id": "563bf3e6-20be-4bd7-ad54-23db412a5914",
   "metadata": {},
   "outputs": [
    {
     "name": "stdout",
     "output_type": "stream",
     "text": [
      "Collecting sparknlp\n",
      "  Downloading sparknlp-1.0.0-py3-none-any.whl (1.4 kB)\n",
      "Requirement already satisfied: numpy in /mnt/miniconda/lib/python3.7/site-packages (from sparknlp) (1.21.2)\n",
      "Collecting spark-nlp\n",
      "  Downloading spark_nlp-3.4.3-py2.py3-none-any.whl (144 kB)\n",
      "\u001b[K     |████████████████████████████████| 144 kB 30.7 MB/s eta 0:00:01\n",
      "\u001b[?25hInstalling collected packages: spark-nlp, sparknlp\n",
      "Successfully installed spark-nlp-3.4.3 sparknlp-1.0.0\n"
     ]
    }
   ],
   "source": [
    "!/mnt/miniconda/bin/pip install sparknlp"
   ]
  },
  {
   "cell_type": "code",
   "execution_count": 3,
   "id": "c51e2beb-85df-4999-92a3-5cf776858ae6",
   "metadata": {},
   "outputs": [],
   "source": [
    "import pyspark.sql.functions as F\n",
    "from pyspark.sql.functions import col, lit,size\n",
    "from pyspark.sql import SparkSession\n",
    "import warnings\n",
    "warnings.filterwarnings('ignore')\n",
    "import pandas as pd\n",
    "import numpy as np\n",
    "import json\n",
    "from pyspark.ml import Pipeline\n",
    "from sparknlp.annotator import *\n",
    "from sparknlp.base import *\n",
    "import sparknlp\n",
    "from sparknlp.pretrained import PretrainedPipeline"
   ]
  },
  {
   "cell_type": "code",
   "execution_count": 4,
   "id": "9baffd1a-a190-48f3-9731-0c23a0e4967b",
   "metadata": {},
   "outputs": [
    {
     "name": "stderr",
     "output_type": "stream",
     "text": [
      "Ivy Default Cache set to: /home/hadoop/.ivy2/cache\n",
      "The jars for the packages stored in: /home/hadoop/.ivy2/jars\n",
      ":: loading settings :: url = jar:file:/usr/lib/spark/jars/ivy-2.4.0.jar!/org/apache/ivy/core/settings/ivysettings.xml\n",
      "com.johnsnowlabs.nlp#spark-nlp_2.12 added as a dependency\n",
      ":: resolving dependencies :: org.apache.spark#spark-submit-parent-c342d107-ad2a-4bf6-85b2-decf3f433d62;1.0\n",
      "\tconfs: [default]\n",
      "\tfound com.johnsnowlabs.nlp#spark-nlp_2.12;3.4.2 in central\n",
      "\tfound com.typesafe#config;1.4.1 in central\n",
      "\tfound org.rocksdb#rocksdbjni;6.5.3 in central\n",
      "\tfound com.amazonaws#aws-java-sdk-bundle;1.11.603 in central\n",
      "\tfound com.github.universal-automata#liblevenshtein;3.0.0 in central\n",
      "\tfound com.google.code.findbugs#annotations;3.0.1 in central\n",
      "\tfound net.jcip#jcip-annotations;1.0 in central\n",
      "\tfound com.google.code.findbugs#jsr305;3.0.1 in central\n",
      "\tfound com.google.protobuf#protobuf-java-util;3.0.0-beta-3 in central\n",
      "\tfound com.google.protobuf#protobuf-java;3.0.0-beta-3 in central\n",
      "\tfound com.google.code.gson#gson;2.3 in central\n",
      "\tfound it.unimi.dsi#fastutil;7.0.12 in central\n",
      "\tfound org.projectlombok#lombok;1.16.8 in central\n",
      "\tfound org.slf4j#slf4j-api;1.7.21 in central\n",
      "\tfound com.navigamez#greex;1.0 in central\n",
      "\tfound dk.brics.automaton#automaton;1.11-8 in central\n",
      "\tfound org.json4s#json4s-ext_2.12;3.5.3 in central\n",
      "\tfound joda-time#joda-time;2.9.5 in central\n",
      "\tfound org.joda#joda-convert;1.8.1 in central\n",
      "\tfound com.johnsnowlabs.nlp#tensorflow-cpu_2.12;0.3.3 in central\n",
      "\tfound net.sf.trove4j#trove4j;3.0.3 in central\n",
      "downloading https://repo1.maven.org/maven2/com/johnsnowlabs/nlp/spark-nlp_2.12/3.4.2/spark-nlp_2.12-3.4.2.jar ...\n",
      "\t[SUCCESSFUL ] com.johnsnowlabs.nlp#spark-nlp_2.12;3.4.2!spark-nlp_2.12.jar (573ms)\n",
      "downloading https://repo1.maven.org/maven2/com/typesafe/config/1.4.1/config-1.4.1.jar ...\n",
      "\t[SUCCESSFUL ] com.typesafe#config;1.4.1!config.jar(bundle) (5ms)\n",
      "downloading https://repo1.maven.org/maven2/org/rocksdb/rocksdbjni/6.5.3/rocksdbjni-6.5.3.jar ...\n",
      "\t[SUCCESSFUL ] org.rocksdb#rocksdbjni;6.5.3!rocksdbjni.jar (206ms)\n",
      "downloading https://repo1.maven.org/maven2/com/amazonaws/aws-java-sdk-bundle/1.11.603/aws-java-sdk-bundle-1.11.603.jar ...\n",
      "\t[SUCCESSFUL ] com.amazonaws#aws-java-sdk-bundle;1.11.603!aws-java-sdk-bundle.jar (854ms)\n",
      "downloading https://repo1.maven.org/maven2/com/github/universal-automata/liblevenshtein/3.0.0/liblevenshtein-3.0.0.jar ...\n",
      "\t[SUCCESSFUL ] com.github.universal-automata#liblevenshtein;3.0.0!liblevenshtein.jar (4ms)\n",
      "downloading https://repo1.maven.org/maven2/com/navigamez/greex/1.0/greex-1.0.jar ...\n",
      "\t[SUCCESSFUL ] com.navigamez#greex;1.0!greex.jar (2ms)\n",
      "downloading https://repo1.maven.org/maven2/org/json4s/json4s-ext_2.12/3.5.3/json4s-ext_2.12-3.5.3.jar ...\n",
      "\t[SUCCESSFUL ] org.json4s#json4s-ext_2.12;3.5.3!json4s-ext_2.12.jar (3ms)\n",
      "downloading https://repo1.maven.org/maven2/com/johnsnowlabs/nlp/tensorflow-cpu_2.12/0.3.3/tensorflow-cpu_2.12-0.3.3.jar ...\n",
      "\t[SUCCESSFUL ] com.johnsnowlabs.nlp#tensorflow-cpu_2.12;0.3.3!tensorflow-cpu_2.12.jar (1076ms)\n",
      "downloading https://repo1.maven.org/maven2/net/sf/trove4j/trove4j/3.0.3/trove4j-3.0.3.jar ...\n",
      "\t[SUCCESSFUL ] net.sf.trove4j#trove4j;3.0.3!trove4j.jar (20ms)\n",
      "downloading https://repo1.maven.org/maven2/com/google/code/findbugs/annotations/3.0.1/annotations-3.0.1.jar ...\n",
      "\t[SUCCESSFUL ] com.google.code.findbugs#annotations;3.0.1!annotations.jar (2ms)\n",
      "downloading https://repo1.maven.org/maven2/com/google/protobuf/protobuf-java-util/3.0.0-beta-3/protobuf-java-util-3.0.0-beta-3.jar ...\n",
      "\t[SUCCESSFUL ] com.google.protobuf#protobuf-java-util;3.0.0-beta-3!protobuf-java-util.jar(bundle) (3ms)\n",
      "downloading https://repo1.maven.org/maven2/com/google/protobuf/protobuf-java/3.0.0-beta-3/protobuf-java-3.0.0-beta-3.jar ...\n",
      "\t[SUCCESSFUL ] com.google.protobuf#protobuf-java;3.0.0-beta-3!protobuf-java.jar(bundle) (9ms)\n",
      "downloading https://repo1.maven.org/maven2/it/unimi/dsi/fastutil/7.0.12/fastutil-7.0.12.jar ...\n",
      "\t[SUCCESSFUL ] it.unimi.dsi#fastutil;7.0.12!fastutil.jar (115ms)\n",
      "downloading https://repo1.maven.org/maven2/org/projectlombok/lombok/1.16.8/lombok-1.16.8.jar ...\n",
      "\t[SUCCESSFUL ] org.projectlombok#lombok;1.16.8!lombok.jar (11ms)\n",
      "downloading https://repo1.maven.org/maven2/org/slf4j/slf4j-api/1.7.21/slf4j-api-1.7.21.jar ...\n",
      "\t[SUCCESSFUL ] org.slf4j#slf4j-api;1.7.21!slf4j-api.jar (2ms)\n",
      "downloading https://repo1.maven.org/maven2/net/jcip/jcip-annotations/1.0/jcip-annotations-1.0.jar ...\n",
      "\t[SUCCESSFUL ] net.jcip#jcip-annotations;1.0!jcip-annotations.jar (1ms)\n",
      "downloading https://repo1.maven.org/maven2/com/google/code/findbugs/jsr305/3.0.1/jsr305-3.0.1.jar ...\n",
      "\t[SUCCESSFUL ] com.google.code.findbugs#jsr305;3.0.1!jsr305.jar (1ms)\n",
      "downloading https://repo1.maven.org/maven2/com/google/code/gson/gson/2.3/gson-2.3.jar ...\n",
      "\t[SUCCESSFUL ] com.google.code.gson#gson;2.3!gson.jar (3ms)\n",
      "downloading https://repo1.maven.org/maven2/dk/brics/automaton/automaton/1.11-8/automaton-1.11-8.jar ...\n",
      "\t[SUCCESSFUL ] dk.brics.automaton#automaton;1.11-8!automaton.jar (3ms)\n",
      "downloading https://repo1.maven.org/maven2/joda-time/joda-time/2.9.5/joda-time-2.9.5.jar ...\n",
      "\t[SUCCESSFUL ] joda-time#joda-time;2.9.5!joda-time.jar (6ms)\n",
      "downloading https://repo1.maven.org/maven2/org/joda/joda-convert/1.8.1/joda-convert-1.8.1.jar ...\n",
      "\t[SUCCESSFUL ] org.joda#joda-convert;1.8.1!joda-convert.jar (3ms)\n",
      ":: resolution report :: resolve 2937ms :: artifacts dl 2912ms\n",
      "\t:: modules in use:\n",
      "\tcom.amazonaws#aws-java-sdk-bundle;1.11.603 from central in [default]\n",
      "\tcom.github.universal-automata#liblevenshtein;3.0.0 from central in [default]\n",
      "\tcom.google.code.findbugs#annotations;3.0.1 from central in [default]\n",
      "\tcom.google.code.findbugs#jsr305;3.0.1 from central in [default]\n",
      "\tcom.google.code.gson#gson;2.3 from central in [default]\n",
      "\tcom.google.protobuf#protobuf-java;3.0.0-beta-3 from central in [default]\n",
      "\tcom.google.protobuf#protobuf-java-util;3.0.0-beta-3 from central in [default]\n",
      "\tcom.johnsnowlabs.nlp#spark-nlp_2.12;3.4.2 from central in [default]\n",
      "\tcom.johnsnowlabs.nlp#tensorflow-cpu_2.12;0.3.3 from central in [default]\n",
      "\tcom.navigamez#greex;1.0 from central in [default]\n",
      "\tcom.typesafe#config;1.4.1 from central in [default]\n",
      "\tdk.brics.automaton#automaton;1.11-8 from central in [default]\n",
      "\tit.unimi.dsi#fastutil;7.0.12 from central in [default]\n",
      "\tjoda-time#joda-time;2.9.5 from central in [default]\n",
      "\tnet.jcip#jcip-annotations;1.0 from central in [default]\n",
      "\tnet.sf.trove4j#trove4j;3.0.3 from central in [default]\n",
      "\torg.joda#joda-convert;1.8.1 from central in [default]\n",
      "\torg.json4s#json4s-ext_2.12;3.5.3 from central in [default]\n",
      "\torg.projectlombok#lombok;1.16.8 from central in [default]\n",
      "\torg.rocksdb#rocksdbjni;6.5.3 from central in [default]\n",
      "\torg.slf4j#slf4j-api;1.7.21 from central in [default]\n",
      "\t---------------------------------------------------------------------\n",
      "\t|                  |            modules            ||   artifacts   |\n",
      "\t|       conf       | number| search|dwnlded|evicted|| number|dwnlded|\n",
      "\t---------------------------------------------------------------------\n",
      "\t|      default     |   21  |   21  |   21  |   0   ||   21  |   21  |\n",
      "\t---------------------------------------------------------------------\n",
      "\n",
      ":: problems summary ::\n",
      ":::: ERRORS\n",
      "\tSERVER ERROR: Bad Gateway url=https://dl.bintray.com/spark-packages/maven/com/amazonaws/aws-java-sdk-pom/1.11.603/aws-java-sdk-pom-1.11.603.jar\n",
      "\n",
      "\tSERVER ERROR: Bad Gateway url=https://dl.bintray.com/spark-packages/maven/org/sonatype/oss/oss-parent/7/oss-parent-7.jar\n",
      "\n",
      "\tSERVER ERROR: Bad Gateway url=https://dl.bintray.com/spark-packages/maven/net/jcip/jcip-annotations/1.0/jcip-annotations-1.0-javadoc.jar\n",
      "\n",
      "\tSERVER ERROR: Bad Gateway url=https://dl.bintray.com/spark-packages/maven/com/google/google/1/google-1.jar\n",
      "\n",
      "\tSERVER ERROR: Bad Gateway url=https://dl.bintray.com/spark-packages/maven/com/google/protobuf/protobuf-parent/3.0.0-beta-3/protobuf-parent-3.0.0-beta-3.jar\n",
      "\n",
      "\tSERVER ERROR: Bad Gateway url=https://dl.bintray.com/spark-packages/maven/com/google/protobuf/protobuf-java-util/3.0.0-beta-3/protobuf-java-util-3.0.0-beta-3-sources.jar\n",
      "\n",
      "\tSERVER ERROR: Bad Gateway url=https://dl.bintray.com/spark-packages/maven/com/google/protobuf/protobuf-java-util/3.0.0-beta-3/protobuf-java-util-3.0.0-beta-3-src.jar\n",
      "\n",
      "\tSERVER ERROR: Bad Gateway url=https://dl.bintray.com/spark-packages/maven/com/google/protobuf/protobuf-java-util/3.0.0-beta-3/protobuf-java-util-3.0.0-beta-3-javadoc.jar\n",
      "\n",
      "\tSERVER ERROR: Bad Gateway url=https://dl.bintray.com/spark-packages/maven/com/google/protobuf/protobuf-java/3.0.0-beta-3/protobuf-java-3.0.0-beta-3-sources.jar\n",
      "\n",
      "\tSERVER ERROR: Bad Gateway url=https://dl.bintray.com/spark-packages/maven/com/google/protobuf/protobuf-java/3.0.0-beta-3/protobuf-java-3.0.0-beta-3-src.jar\n",
      "\n",
      "\tSERVER ERROR: Bad Gateway url=https://dl.bintray.com/spark-packages/maven/com/google/protobuf/protobuf-java/3.0.0-beta-3/protobuf-java-3.0.0-beta-3-javadoc.jar\n",
      "\n",
      "\tSERVER ERROR: Bad Gateway url=https://dl.bintray.com/spark-packages/maven/org/sonatype/oss/oss-parent/9/oss-parent-9.jar\n",
      "\n",
      "\tSERVER ERROR: Bad Gateway url=https://dl.bintray.com/spark-packages/maven/org/slf4j/slf4j-parent/1.7.21/slf4j-parent-1.7.21.jar\n",
      "\n",
      "\n",
      ":: USE VERBOSE OR DEBUG MESSAGE LEVEL FOR MORE DETAILS\n",
      ":: retrieving :: org.apache.spark#spark-submit-parent-c342d107-ad2a-4bf6-85b2-decf3f433d62\n",
      "\tconfs: [default]\n",
      "\t21 artifacts copied, 0 already retrieved (399905kB/258ms)\n",
      "Setting default log level to \"WARN\".\n",
      "To adjust logging level use sc.setLogLevel(newLevel). For SparkR, use setLogLevel(newLevel).\n",
      "22/04/16 23:39:22 WARN Client: Neither spark.yarn.jars nor spark.yarn.archive is set, falling back to uploading libraries under SPARK_HOME.\n",
      "22/04/16 23:39:27 WARN Client: Same path resource file:///home/hadoop/.ivy2/jars/com.johnsnowlabs.nlp_spark-nlp_2.12-3.4.2.jar added multiple times to distributed cache.\n",
      "22/04/16 23:39:27 WARN Client: Same path resource file:///home/hadoop/.ivy2/jars/com.typesafe_config-1.4.1.jar added multiple times to distributed cache.\n",
      "22/04/16 23:39:27 WARN Client: Same path resource file:///home/hadoop/.ivy2/jars/org.rocksdb_rocksdbjni-6.5.3.jar added multiple times to distributed cache.\n",
      "22/04/16 23:39:27 WARN Client: Same path resource file:///home/hadoop/.ivy2/jars/com.amazonaws_aws-java-sdk-bundle-1.11.603.jar added multiple times to distributed cache.\n",
      "22/04/16 23:39:27 WARN Client: Same path resource file:///home/hadoop/.ivy2/jars/com.github.universal-automata_liblevenshtein-3.0.0.jar added multiple times to distributed cache.\n",
      "22/04/16 23:39:27 WARN Client: Same path resource file:///home/hadoop/.ivy2/jars/com.navigamez_greex-1.0.jar added multiple times to distributed cache.\n",
      "22/04/16 23:39:27 WARN Client: Same path resource file:///home/hadoop/.ivy2/jars/org.json4s_json4s-ext_2.12-3.5.3.jar added multiple times to distributed cache.\n",
      "22/04/16 23:39:27 WARN Client: Same path resource file:///home/hadoop/.ivy2/jars/com.johnsnowlabs.nlp_tensorflow-cpu_2.12-0.3.3.jar added multiple times to distributed cache.\n",
      "22/04/16 23:39:27 WARN Client: Same path resource file:///home/hadoop/.ivy2/jars/net.sf.trove4j_trove4j-3.0.3.jar added multiple times to distributed cache.\n",
      "22/04/16 23:39:27 WARN Client: Same path resource file:///home/hadoop/.ivy2/jars/com.google.code.findbugs_annotations-3.0.1.jar added multiple times to distributed cache.\n",
      "22/04/16 23:39:27 WARN Client: Same path resource file:///home/hadoop/.ivy2/jars/com.google.protobuf_protobuf-java-util-3.0.0-beta-3.jar added multiple times to distributed cache.\n",
      "22/04/16 23:39:27 WARN Client: Same path resource file:///home/hadoop/.ivy2/jars/com.google.protobuf_protobuf-java-3.0.0-beta-3.jar added multiple times to distributed cache.\n",
      "22/04/16 23:39:27 WARN Client: Same path resource file:///home/hadoop/.ivy2/jars/it.unimi.dsi_fastutil-7.0.12.jar added multiple times to distributed cache.\n",
      "22/04/16 23:39:27 WARN Client: Same path resource file:///home/hadoop/.ivy2/jars/org.projectlombok_lombok-1.16.8.jar added multiple times to distributed cache.\n",
      "22/04/16 23:39:27 WARN Client: Same path resource file:///home/hadoop/.ivy2/jars/org.slf4j_slf4j-api-1.7.21.jar added multiple times to distributed cache.\n",
      "22/04/16 23:39:27 WARN Client: Same path resource file:///home/hadoop/.ivy2/jars/net.jcip_jcip-annotations-1.0.jar added multiple times to distributed cache.\n",
      "22/04/16 23:39:27 WARN Client: Same path resource file:///home/hadoop/.ivy2/jars/com.google.code.findbugs_jsr305-3.0.1.jar added multiple times to distributed cache.\n",
      "22/04/16 23:39:27 WARN Client: Same path resource file:///home/hadoop/.ivy2/jars/com.google.code.gson_gson-2.3.jar added multiple times to distributed cache.\n",
      "22/04/16 23:39:27 WARN Client: Same path resource file:///home/hadoop/.ivy2/jars/dk.brics.automaton_automaton-1.11-8.jar added multiple times to distributed cache.\n",
      "22/04/16 23:39:27 WARN Client: Same path resource file:///home/hadoop/.ivy2/jars/joda-time_joda-time-2.9.5.jar added multiple times to distributed cache.\n",
      "22/04/16 23:39:27 WARN Client: Same path resource file:///home/hadoop/.ivy2/jars/org.joda_joda-convert-1.8.1.jar added multiple times to distributed cache.\n",
      "22/04/16 23:39:36 WARN YarnSchedulerBackend$YarnSchedulerEndpoint: Attempted to request executors before the AM has registered!\n"
     ]
    }
   ],
   "source": [
    "spark = SparkSession.builder \\\n",
    "        .appName(\"reddit\") \\\n",
    "        .config(\"spark.serializer\", \"org.apache.spark.serializer.KryoSerializer\") \\\n",
    "        .config(\"spark.jars.packages\", \"com.johnsnowlabs.nlp:spark-nlp_2.12:3.4.2\") \\\n",
    "    .master('yarn') \\\n",
    "    .getOrCreate()"
   ]
  },
  {
   "cell_type": "code",
   "execution_count": 5,
   "id": "c0b67bf9-e704-418b-b332-3cd60e900112",
   "metadata": {},
   "outputs": [
    {
     "data": {
      "text/html": [
       "\n",
       "            <div>\n",
       "                <p><b>SparkSession - in-memory</b></p>\n",
       "                \n",
       "        <div>\n",
       "            <p><b>SparkContext</b></p>\n",
       "\n",
       "            <p><a href=\"http://ip-172-31-87-112.ec2.internal:4040\">Spark UI</a></p>\n",
       "\n",
       "            <dl>\n",
       "              <dt>Version</dt>\n",
       "                <dd><code>v3.0.0-amzn-0</code></dd>\n",
       "              <dt>Master</dt>\n",
       "                <dd><code>yarn</code></dd>\n",
       "              <dt>AppName</dt>\n",
       "                <dd><code>reddit</code></dd>\n",
       "            </dl>\n",
       "        </div>\n",
       "        \n",
       "            </div>\n",
       "        "
      ],
      "text/plain": [
       "<pyspark.sql.session.SparkSession at 0x7f8b3718ed90>"
      ]
     },
     "execution_count": 5,
     "metadata": {},
     "output_type": "execute_result"
    }
   ],
   "source": [
    "spark"
   ]
  },
  {
   "cell_type": "markdown",
   "id": "2cf4e632-9968-485d-8f32-e54b44a0c149",
   "metadata": {},
   "source": [
    "### Reading the entire dataset from s3"
   ]
  },
  {
   "cell_type": "code",
   "execution_count": 6,
   "id": "044c520b-e465-4dcc-ae63-a56524f66fbe",
   "metadata": {},
   "outputs": [
    {
     "name": "stderr",
     "output_type": "stream",
     "text": [
      "                                                                                \r"
     ]
    }
   ],
   "source": [
    "df_full = spark.read.parquet('s3://ssp88-labdata2/eda_df_full')"
   ]
  },
  {
   "cell_type": "code",
   "execution_count": 7,
   "id": "32591637-59ba-4e5f-8cf5-722f6d002991",
   "metadata": {},
   "outputs": [
    {
     "name": "stdout",
     "output_type": "stream",
     "text": [
      "root\n",
      " |-- all_awardings: string (nullable = true)\n",
      " |-- author: string (nullable = true)\n",
      " |-- author_created_utc: double (nullable = true)\n",
      " |-- author_flair_richtext: string (nullable = true)\n",
      " |-- author_flair_type: string (nullable = true)\n",
      " |-- author_fullname: string (nullable = true)\n",
      " |-- author_patreon_flair: boolean (nullable = true)\n",
      " |-- author_premium: boolean (nullable = true)\n",
      " |-- awarders: string (nullable = true)\n",
      " |-- body: string (nullable = true)\n",
      " |-- can_gild: boolean (nullable = true)\n",
      " |-- can_mod_post: boolean (nullable = true)\n",
      " |-- collapsed: boolean (nullable = true)\n",
      " |-- controversiality: long (nullable = true)\n",
      " |-- created_utc: long (nullable = true)\n",
      " |-- gilded: long (nullable = true)\n",
      " |-- gildings: string (nullable = true)\n",
      " |-- id: string (nullable = true)\n",
      " |-- is_submitter: boolean (nullable = true)\n",
      " |-- link_id: string (nullable = true)\n",
      " |-- locked: boolean (nullable = true)\n",
      " |-- no_follow: boolean (nullable = true)\n",
      " |-- parent_id: string (nullable = true)\n",
      " |-- permalink: string (nullable = true)\n",
      " |-- quarantined: boolean (nullable = true)\n",
      " |-- retrieved_on: long (nullable = true)\n",
      " |-- score: long (nullable = true)\n",
      " |-- send_replies: boolean (nullable = true)\n",
      " |-- stickied: boolean (nullable = true)\n",
      " |-- subreddit_id: string (nullable = true)\n",
      " |-- subreddit_name_prefixed: string (nullable = true)\n",
      " |-- subreddit_type: string (nullable = true)\n",
      " |-- total_awards_received: long (nullable = true)\n",
      " |-- treatment_tags: string (nullable = true)\n",
      " |-- editable: boolean (nullable = true)\n",
      " |-- ym_partition: integer (nullable = true)\n",
      " |-- comment_date: string (nullable = true)\n",
      " |-- year: string (nullable = true)\n",
      " |-- month: string (nullable = true)\n",
      " |-- hour: string (nullable = true)\n",
      " |-- original_post: string (nullable = true)\n",
      "\n"
     ]
    }
   ],
   "source": [
    "df_full.printSchema()"
   ]
  },
  {
   "cell_type": "markdown",
   "id": "99d6f4ce-26fb-4408-9ecf-0977b791c889",
   "metadata": {},
   "source": [
    "#### Data Text Checks"
   ]
  },
  {
   "cell_type": "code",
   "execution_count": 8,
   "id": "fcbbec6e-4a3b-4122-82c5-bf1bdc0f2fd2",
   "metadata": {},
   "outputs": [],
   "source": [
    "# Most Common Words\n",
    "import pyspark.sql.functions as f\n",
    "common_word = df_full.withColumn('word', f.explode(f.split(f.col('body'), ' '))) \\\n",
    "  .groupBy('word') \\\n",
    "  .count() \\\n",
    "  .sort('count', ascending=False) \\\n",
    "  .limit(10)"
   ]
  },
  {
   "cell_type": "code",
   "execution_count": 9,
   "id": "d2016304-a239-4da5-851f-f8d6a325d038",
   "metadata": {},
   "outputs": [
    {
     "name": "stderr",
     "output_type": "stream",
     "text": [
      "22/04/16 23:39:50 WARN package: Truncated the string representation of a plan since it was too large. This behavior can be adjusted by setting 'spark.sql.debug.maxToStringFields'.\n",
      "[Stage 3:=====================================>                   (17 + 9) / 26]\r"
     ]
    },
    {
     "name": "stdout",
     "output_type": "stream",
     "text": [
      "+----+--------+\n",
      "|word|   count|\n",
      "+----+--------+\n",
      "| the|14798077|\n",
      "|  to|10378945|\n",
      "|   a| 9822211|\n",
      "| and| 7735354|\n",
      "|  of| 6655809|\n",
      "|   I| 5741511|\n",
      "|  is| 5584017|\n",
      "|that| 5065040|\n",
      "| you| 5022835|\n",
      "|  in| 4913229|\n",
      "+----+--------+\n",
      "\n"
     ]
    },
    {
     "name": "stderr",
     "output_type": "stream",
     "text": [
      "                                                                                \r"
     ]
    }
   ],
   "source": [
    "common_word.show()"
   ]
  },
  {
   "cell_type": "markdown",
   "id": "5dac6402-a814-4079-af49-38e33c014687",
   "metadata": {},
   "source": [
    "Cleaning is required as stopwords cannot be the top 10 words with highest count"
   ]
  },
  {
   "cell_type": "code",
   "execution_count": 10,
   "id": "e8bf90d7-0b14-4cc3-a8d1-4d375cf8802e",
   "metadata": {},
   "outputs": [
    {
     "name": "stderr",
     "output_type": "stream",
     "text": [
      "                                                                                \r"
     ]
    },
    {
     "name": "stdout",
     "output_type": "stream",
     "text": [
      "+--------------------+--------------+\n",
      "|                body|comment_length|\n",
      "+--------------------+--------------+\n",
      "|**Money in Electi...|         11252|\n",
      "|&gt; \n",
      "&gt; \n",
      "&gt; ...|         10271|\n",
      "|Original comment ...|         10192|\n",
      "|Original comment ...|         10190|\n",
      "|LOL wait didnt yo...|         10166|\n",
      "|Biases in Stops, ...|         10145|\n",
      "|Part 2.\n",
      "\n",
      "&gt; You...|         10081|\n",
      "|&gt;I do understa...|         10079|\n",
      "|UNDELETED comment...|         10074|\n",
      "|UNDELETED comment...|         10074|\n",
      "+--------------------+--------------+\n",
      "only showing top 10 rows\n",
      "\n"
     ]
    }
   ],
   "source": [
    "#Distribution of Text Lengths\n",
    "df_full = df_full.withColumn(\"comment_length\", F.length(col('body')))\n",
    "df_full.select('body','comment_length').sort('comment_length', ascending=False).show(10)"
   ]
  },
  {
   "cell_type": "markdown",
   "id": "e73f8688-512d-420c-8bd6-15fe4c1e56ee",
   "metadata": {},
   "source": [
    "It can be observed that some of the texts with the higher comment length are not useful for analysis (deleted etc). These words/sentences can be removed later."
   ]
  },
  {
   "cell_type": "markdown",
   "id": "94517c6d-c45c-4649-b4f6-50fcfb72e67e",
   "metadata": {},
   "source": [
    "##### Important words according to TF-IDF"
   ]
  },
  {
   "cell_type": "code",
   "execution_count": 159,
   "id": "7a318e3c-79e7-467a-a5fc-0b7bbd207afc",
   "metadata": {},
   "outputs": [
    {
     "name": "stderr",
     "output_type": "stream",
     "text": [
      "[Stage 152:>                                                        (0 + 1) / 1]\r"
     ]
    },
    {
     "name": "stdout",
     "output_type": "stream",
     "text": [
      "Row(features=SparseVector(20, {3: 0.6267, 7: 0.7122, 10: 1.7161, 19: 0.6819}), words=['so,', 'theyre', 'like', 'australian', 'geese?'])\n",
      "Row(features=SparseVector(20, {0: 4.6762, 1: 3.639, 2: 1.1016, 3: 3.7599, 4: 3.136, 5: 3.5421, 6: 3.0408, 7: 4.2731, 8: 2.0492, 9: 4.9559, 10: 1.7161, 11: 3.14, 12: 2.6444, 13: 1.6626, 15: 3.1381, 16: 2.78, 17: 3.8672, 18: 4.4873, 19: 0.6819}), words=['by', 'that', 'definition', 'literally', 'any', 'food', 'is', 'a', 'drug.', \"there's\", 'nothing', 'special', 'about', \"sugar's\", 'effect', 'on', 'the', 'reward', 'system.', 'you', 'eat', 'food,', 'you', 'feel', 'good.', 'the', 'tongue', 'enjoys', 'the', 'sweetness', 'and', 'you', 'get', 'a', 'hit', 'of', 'dopamine', 'from', 'your', 'reward', 'system.', 'the', 'sugar', \"isn't\", 'binding', 'to', 'any', 'receptors', 'in', 'your', 'brain', \"it's\", 'entirely', 'your', \"brain's\", 'own', 'response', 'to', 'positive', 'stimulus.', 'other', 'examples', 'are', 'finishing', 'paperwork', 'or', 'getting', 'a', 'massage.', 'sugar', 'is', 'not', 'even', 'close', 'to', 'a', 'drug.'])\n",
      "Row(features=SparseVector(20, {3: 1.2533, 6: 1.5204, 7: 1.4244, 11: 0.785, 13: 1.6626, 15: 2.3536, 18: 0.8975, 19: 1.3638}), words=[\"i'm\", 'a', 'follower', 'of', 'beau', 'in', 'yt', 'and', 'twitter.', 'he', 'makes', 'a', 'lot', 'of', 'sense.'])\n"
     ]
    },
    {
     "name": "stderr",
     "output_type": "stream",
     "text": [
      "                                                                                \r"
     ]
    }
   ],
   "source": [
    "from pyspark.ml.feature import HashingTF, IDF, Tokenizer\n",
    "\n",
    "sentenceData = df_full.select(df_full[\"body\"])\n",
    "\n",
    "\n",
    "tokenizer = Tokenizer(inputCol=\"body\", outputCol=\"words\")\n",
    "wordsData = tokenizer.transform(sentenceData)\n",
    "\n",
    "\n",
    "hashingTF = HashingTF(inputCol=\"words\", outputCol=\"rawFeatures\", numFeatures=20)\n",
    "featurizedData = hashingTF.transform(wordsData)\n",
    "\n",
    "idf = IDF(inputCol=\"rawFeatures\", outputCol=\"features\")\n",
    "idfModel = idf.fit(featurizedData)\n",
    "rescaledData = idfModel.transform(featurizedData)\n",
    "\n",
    "for features_label in rescaledData.select(\"features\", \"words\").take(3):\n",
    "    print(features_label)"
   ]
  },
  {
   "cell_type": "markdown",
   "id": "3380fef6-d3df-4224-93f7-7fa507dd67ea",
   "metadata": {},
   "source": [
    "#### Creating Dummy Variables"
   ]
  },
  {
   "cell_type": "code",
   "execution_count": 11,
   "id": "661a0909-5fea-4195-9127-fe7c4e6f7a7d",
   "metadata": {},
   "outputs": [],
   "source": [
    "df_full_reddit = df_full.withColumn(\"Pandemic_Freakout\", F.regexp_extract('body', \\\n",
    "                                                        r'(?i)\\bcovid\\b|(?i)\\bpandemic\\b|(?i)\\bcovid-19\\b|(?i)\\bcorona\\b|(?i)\\bvirus\\b|(?i)\\bmasks\\b|(?i)\\hospital\\b',0))\n",
    "df_full_reddit = df_full_reddit.withColumn(\"Arrest_Freakout\", F.regexp_extract('body', \\\n",
    "                                                        r'(?i)\\barrest\\b|(?i)\\bofficer\\b|(?i)\\bpolice\\b|(?i)\\bcop\\b|(?i)\\bstab\\b|(?i)\\billegal\\b|(?i)\\brutal\\b',0))"
   ]
  },
  {
   "cell_type": "code",
   "execution_count": 12,
   "id": "baa510a9-57c2-41ec-b02f-131fa526b9ec",
   "metadata": {},
   "outputs": [],
   "source": [
    "df_full_reddit = df_full_reddit.withColumn(\"Pandemic_Freakout\",F.lower(F.col('Pandemic_Freakout')))\n",
    "df_full_reddit = df_full_reddit.withColumn(\"Arrest_Freakout\",F.lower(F.col('Arrest_Freakout')))"
   ]
  },
  {
   "cell_type": "markdown",
   "id": "9cc310c3-c2b5-401a-b618-e32e3b90f0b2",
   "metadata": {},
   "source": [
    "### Cleaning the data "
   ]
  },
  {
   "cell_type": "code",
   "execution_count": 13,
   "id": "b639d8a7-ef0a-43eb-838e-b2ee5ae909fc",
   "metadata": {},
   "outputs": [
    {
     "name": "stderr",
     "output_type": "stream",
     "text": [
      "[nltk_data] Downloading package stopwords to /home/hadoop/nltk_data...\n",
      "[nltk_data]   Unzipping corpora/stopwords.zip.\n"
     ]
    },
    {
     "data": {
      "text/plain": [
       "True"
      ]
     },
     "execution_count": 13,
     "metadata": {},
     "output_type": "execute_result"
    }
   ],
   "source": [
    "import nltk\n",
    "nltk.download('stopwords')"
   ]
  },
  {
   "cell_type": "code",
   "execution_count": 14,
   "id": "97f794b6-0b4e-4960-8e0d-35e4d880b444",
   "metadata": {},
   "outputs": [],
   "source": [
    "from nltk.corpus import stopwords\n",
    "eng_stopwords = stopwords.words('english')\n",
    "#eng_stopwords.append('xxxx')"
   ]
  },
  {
   "cell_type": "code",
   "execution_count": 15,
   "id": "87c7a239-d942-4522-92be-b77430380fc2",
   "metadata": {},
   "outputs": [],
   "source": [
    "from sparknlp.base import Finisher, DocumentAssembler\n",
    "from sparknlp.annotator import (Tokenizer, Normalizer,\n",
    "                                LemmatizerModel, StopWordsCleaner)\n",
    "from pyspark.ml import Pipeline"
   ]
  },
  {
   "cell_type": "code",
   "execution_count": 16,
   "id": "b1abf78c-31c9-420d-88f6-afb192278b69",
   "metadata": {},
   "outputs": [
    {
     "name": "stdout",
     "output_type": "stream",
     "text": [
      "lemma_antbnc download started this may take some time.\n",
      "Approximate size to download 907.6 KB\n",
      "[ | ]lemma_antbnc download started this may take some time.\n",
      "Approximate size to download 907.6 KB\n",
      "Download done! Loading the resource.\n",
      "[ / ]"
     ]
    },
    {
     "name": "stderr",
     "output_type": "stream",
     "text": [
      "                                                                                \r"
     ]
    },
    {
     "name": "stdout",
     "output_type": "stream",
     "text": [
      "[OK!]\n"
     ]
    }
   ],
   "source": [
    "documentAssembler = DocumentAssembler() \\\n",
    "     .setInputCol('body') \\\n",
    "     .setOutputCol('document')\n",
    "tokenizer = Tokenizer() \\\n",
    "     .setInputCols(['document']) \\\n",
    "     .setOutputCol('token')\n",
    "# note normalizer defaults to changing all words to lowercase.\n",
    "# Use .setLowercase(False) to maintain input case.\n",
    "normalizer = Normalizer() \\\n",
    "     .setInputCols(['token']) \\\n",
    "     .setOutputCol('normalized') \\\n",
    "     .setLowercase(True)\n",
    "# note that lemmatizer needs a dictionary. So I used the pre-trained\n",
    "# model (note that it defaults to english)\n",
    "lemmatizer = LemmatizerModel.pretrained() \\\n",
    "     .setInputCols(['normalized']) \\\n",
    "     .setOutputCol('lemma')\n",
    "stopwords_cleaner = StopWordsCleaner() \\\n",
    "     .setInputCols(['lemma']) \\\n",
    "     .setOutputCol('clean_lemma') \\\n",
    "     .setCaseSensitive(False) \\\n",
    "     .setStopWords(eng_stopwords)\n",
    "# finisher converts tokens to human-readable output\n",
    "finisher = Finisher() \\\n",
    "     .setInputCols(['clean_lemma']) \\\n",
    "     .setCleanAnnotations(False)"
   ]
  },
  {
   "cell_type": "code",
   "execution_count": 17,
   "id": "0d0fa944-7a1c-4e0e-8627-60bec1679601",
   "metadata": {},
   "outputs": [],
   "source": [
    "pipeline = Pipeline() \\\n",
    "     .setStages([\n",
    "           documentAssembler,\n",
    "           tokenizer,\n",
    "           normalizer,\n",
    "           lemmatizer,\n",
    "           stopwords_cleaner,\n",
    "           finisher\n",
    "     ])"
   ]
  },
  {
   "cell_type": "code",
   "execution_count": 18,
   "id": "c57f30d6-d70d-448e-aeec-01392b2b68d3",
   "metadata": {},
   "outputs": [],
   "source": [
    "df_full_clean = pipeline.fit(df_full_reddit).transform(df_full_reddit)"
   ]
  },
  {
   "cell_type": "code",
   "execution_count": 19,
   "id": "0e221d91-960c-4a2b-a438-4ee706b5be84",
   "metadata": {},
   "outputs": [
    {
     "name": "stdout",
     "output_type": "stream",
     "text": [
      "root\n",
      " |-- all_awardings: string (nullable = true)\n",
      " |-- author: string (nullable = true)\n",
      " |-- author_created_utc: double (nullable = true)\n",
      " |-- author_flair_richtext: string (nullable = true)\n",
      " |-- author_flair_type: string (nullable = true)\n",
      " |-- author_fullname: string (nullable = true)\n",
      " |-- author_patreon_flair: boolean (nullable = true)\n",
      " |-- author_premium: boolean (nullable = true)\n",
      " |-- awarders: string (nullable = true)\n",
      " |-- body: string (nullable = true)\n",
      " |-- can_gild: boolean (nullable = true)\n",
      " |-- can_mod_post: boolean (nullable = true)\n",
      " |-- collapsed: boolean (nullable = true)\n",
      " |-- controversiality: long (nullable = true)\n",
      " |-- created_utc: long (nullable = true)\n",
      " |-- gilded: long (nullable = true)\n",
      " |-- gildings: string (nullable = true)\n",
      " |-- id: string (nullable = true)\n",
      " |-- is_submitter: boolean (nullable = true)\n",
      " |-- link_id: string (nullable = true)\n",
      " |-- locked: boolean (nullable = true)\n",
      " |-- no_follow: boolean (nullable = true)\n",
      " |-- parent_id: string (nullable = true)\n",
      " |-- permalink: string (nullable = true)\n",
      " |-- quarantined: boolean (nullable = true)\n",
      " |-- retrieved_on: long (nullable = true)\n",
      " |-- score: long (nullable = true)\n",
      " |-- send_replies: boolean (nullable = true)\n",
      " |-- stickied: boolean (nullable = true)\n",
      " |-- subreddit_id: string (nullable = true)\n",
      " |-- subreddit_name_prefixed: string (nullable = true)\n",
      " |-- subreddit_type: string (nullable = true)\n",
      " |-- total_awards_received: long (nullable = true)\n",
      " |-- treatment_tags: string (nullable = true)\n",
      " |-- editable: boolean (nullable = true)\n",
      " |-- ym_partition: integer (nullable = true)\n",
      " |-- comment_date: string (nullable = true)\n",
      " |-- year: string (nullable = true)\n",
      " |-- month: string (nullable = true)\n",
      " |-- hour: string (nullable = true)\n",
      " |-- original_post: string (nullable = true)\n",
      " |-- comment_length: integer (nullable = true)\n",
      " |-- Pandemic_Freakout: string (nullable = true)\n",
      " |-- Arrest_Freakout: string (nullable = true)\n",
      " |-- document: array (nullable = true)\n",
      " |    |-- element: struct (containsNull = true)\n",
      " |    |    |-- annotatorType: string (nullable = true)\n",
      " |    |    |-- begin: integer (nullable = false)\n",
      " |    |    |-- end: integer (nullable = false)\n",
      " |    |    |-- result: string (nullable = true)\n",
      " |    |    |-- metadata: map (nullable = true)\n",
      " |    |    |    |-- key: string\n",
      " |    |    |    |-- value: string (valueContainsNull = true)\n",
      " |    |    |-- embeddings: array (nullable = true)\n",
      " |    |    |    |-- element: float (containsNull = false)\n",
      " |-- token: array (nullable = true)\n",
      " |    |-- element: struct (containsNull = true)\n",
      " |    |    |-- annotatorType: string (nullable = true)\n",
      " |    |    |-- begin: integer (nullable = false)\n",
      " |    |    |-- end: integer (nullable = false)\n",
      " |    |    |-- result: string (nullable = true)\n",
      " |    |    |-- metadata: map (nullable = true)\n",
      " |    |    |    |-- key: string\n",
      " |    |    |    |-- value: string (valueContainsNull = true)\n",
      " |    |    |-- embeddings: array (nullable = true)\n",
      " |    |    |    |-- element: float (containsNull = false)\n",
      " |-- normalized: array (nullable = true)\n",
      " |    |-- element: struct (containsNull = true)\n",
      " |    |    |-- annotatorType: string (nullable = true)\n",
      " |    |    |-- begin: integer (nullable = false)\n",
      " |    |    |-- end: integer (nullable = false)\n",
      " |    |    |-- result: string (nullable = true)\n",
      " |    |    |-- metadata: map (nullable = true)\n",
      " |    |    |    |-- key: string\n",
      " |    |    |    |-- value: string (valueContainsNull = true)\n",
      " |    |    |-- embeddings: array (nullable = true)\n",
      " |    |    |    |-- element: float (containsNull = false)\n",
      " |-- lemma: array (nullable = true)\n",
      " |    |-- element: struct (containsNull = true)\n",
      " |    |    |-- annotatorType: string (nullable = true)\n",
      " |    |    |-- begin: integer (nullable = false)\n",
      " |    |    |-- end: integer (nullable = false)\n",
      " |    |    |-- result: string (nullable = true)\n",
      " |    |    |-- metadata: map (nullable = true)\n",
      " |    |    |    |-- key: string\n",
      " |    |    |    |-- value: string (valueContainsNull = true)\n",
      " |    |    |-- embeddings: array (nullable = true)\n",
      " |    |    |    |-- element: float (containsNull = false)\n",
      " |-- clean_lemma: array (nullable = true)\n",
      " |    |-- element: struct (containsNull = true)\n",
      " |    |    |-- annotatorType: string (nullable = true)\n",
      " |    |    |-- begin: integer (nullable = false)\n",
      " |    |    |-- end: integer (nullable = false)\n",
      " |    |    |-- result: string (nullable = true)\n",
      " |    |    |-- metadata: map (nullable = true)\n",
      " |    |    |    |-- key: string\n",
      " |    |    |    |-- value: string (valueContainsNull = true)\n",
      " |    |    |-- embeddings: array (nullable = true)\n",
      " |    |    |    |-- element: float (containsNull = false)\n",
      " |-- finished_clean_lemma: array (nullable = true)\n",
      " |    |-- element: string (containsNull = true)\n",
      "\n"
     ]
    }
   ],
   "source": [
    "df_full_clean.printSchema()"
   ]
  },
  {
   "cell_type": "code",
   "execution_count": 20,
   "id": "52af8242-fa94-46ba-96ef-9b821ac47da2",
   "metadata": {},
   "outputs": [],
   "source": [
    "from pyspark.sql.functions import concat_ws\n",
    "\n",
    "df_full_new = df_full_clean.withColumn(\"text\", concat_ws(\" \", \"clean_lemma.result\"))"
   ]
  },
  {
   "cell_type": "markdown",
   "id": "b1af6289-fcee-4d09-be23-876118ff44f5",
   "metadata": {},
   "source": [
    "#### Finding the Sentiment of comments"
   ]
  },
  {
   "cell_type": "code",
   "execution_count": 21,
   "id": "fc1bd0be-ea76-46da-8e34-7cf123b4bdde",
   "metadata": {},
   "outputs": [
    {
     "name": "stdout",
     "output_type": "stream",
     "text": [
      "tfhub_use download started this may take some time.\n",
      "Approximate size to download 923.7 MB\n",
      "[ | ]tfhub_use download started this may take some time.\n",
      "Approximate size to download 923.7 MB\n",
      "[ — ]Download done! Loading the resource.\n",
      "[ \\ ]"
     ]
    },
    {
     "name": "stderr",
     "output_type": "stream",
     "text": [
      "2022-04-16 23:41:30.869956: I external/org_tensorflow/tensorflow/core/platform/cpu_feature_guard.cc:142] This TensorFlow binary is optimized with oneAPI Deep Neural Network Library (oneDNN) to use the following CPU instructions in performance-critical operations:  AVX2 AVX512F FMA\n",
      "To enable them in other operations, rebuild TensorFlow with the appropriate compiler flags.\n"
     ]
    },
    {
     "name": "stdout",
     "output_type": "stream",
     "text": [
      "[ | ]"
     ]
    },
    {
     "name": "stderr",
     "output_type": "stream",
     "text": [
      "2022-04-16 23:41:31.300613: I external/org_tensorflow/tensorflow/core/platform/profile_utils/cpu_utils.cc:112] CPU Frequency: 2499995000 Hz\n"
     ]
    },
    {
     "name": "stdout",
     "output_type": "stream",
     "text": [
      "[ / ]"
     ]
    },
    {
     "name": "stderr",
     "output_type": "stream",
     "text": [
      "2022-04-16 23:41:35.912778: W external/org_tensorflow/tensorflow/core/framework/cpu_allocator_impl.cc:80] Allocation of 60236800 exceeds 10% of free system memory.\n",
      "2022-04-16 23:41:35.959925: W external/org_tensorflow/tensorflow/core/framework/cpu_allocator_impl.cc:80] Allocation of 60236800 exceeds 10% of free system memory.\n",
      "2022-04-16 23:41:36.078408: W external/org_tensorflow/tensorflow/core/framework/cpu_allocator_impl.cc:80] Allocation of 60236800 exceeds 10% of free system memory.\n"
     ]
    },
    {
     "name": "stdout",
     "output_type": "stream",
     "text": [
      "[ — ]"
     ]
    },
    {
     "name": "stderr",
     "output_type": "stream",
     "text": [
      "2022-04-16 23:41:36.143312: W external/org_tensorflow/tensorflow/core/framework/cpu_allocator_impl.cc:80] Allocation of 60236800 exceeds 10% of free system memory.\n",
      "2022-04-16 23:41:36.183993: W external/org_tensorflow/tensorflow/core/framework/cpu_allocator_impl.cc:80] Allocation of 60236800 exceeds 10% of free system memory.\n"
     ]
    },
    {
     "name": "stdout",
     "output_type": "stream",
     "text": [
      "[OK!]\n",
      "sentimentdl_use_twitter download started this may take some time.\n",
      "Approximate size to download 11.4 MB\n",
      "[ | ]sentimentdl_use_twitter download started this may take some time.\n",
      "Approximate size to download 11.4 MB\n",
      "[ / ]Download done! Loading the resource.\n",
      "[OK!]\n"
     ]
    }
   ],
   "source": [
    "#Sentiment \n",
    "document_t = DocumentAssembler()\\\n",
    "    .setInputCol(\"text\")\\\n",
    "    .setOutputCol(\"document\")\n",
    "\n",
    "use_t = UniversalSentenceEncoder.pretrained() \\\n",
    " .setInputCols([\"document\"])\\\n",
    " .setOutputCol(\"use_embeddings\")\n",
    "\n",
    "docClassifier_t = SentimentDLModel.pretrained('sentimentdl_use_twitter', lang = 'en') \\\n",
    "  .setInputCols([\"use_embeddings\"])\\\n",
    "  .setOutputCol(\"sentiment\")\n",
    "\n",
    "pipeline_t = Pipeline(\n",
    "    stages = [\n",
    "        document_t,\n",
    "        use_t,\n",
    "        docClassifier_t\n",
    "    ])"
   ]
  },
  {
   "cell_type": "code",
   "execution_count": 22,
   "id": "024306ad-edce-44ed-9d18-ef7b77e4b4b6",
   "metadata": {},
   "outputs": [],
   "source": [
    "pipelineModel_t = pipeline_t.fit(df_full_new)\n",
    "result_t = pipelineModel_t.transform(df_full_new)"
   ]
  },
  {
   "cell_type": "code",
   "execution_count": 23,
   "id": "a28969b6-6211-4fbf-9316-6d9b9960b9bf",
   "metadata": {},
   "outputs": [
    {
     "name": "stdout",
     "output_type": "stream",
     "text": [
      "root\n",
      " |-- all_awardings: string (nullable = true)\n",
      " |-- author: string (nullable = true)\n",
      " |-- author_created_utc: double (nullable = true)\n",
      " |-- author_flair_richtext: string (nullable = true)\n",
      " |-- author_flair_type: string (nullable = true)\n",
      " |-- author_fullname: string (nullable = true)\n",
      " |-- author_patreon_flair: boolean (nullable = true)\n",
      " |-- author_premium: boolean (nullable = true)\n",
      " |-- awarders: string (nullable = true)\n",
      " |-- body: string (nullable = true)\n",
      " |-- can_gild: boolean (nullable = true)\n",
      " |-- can_mod_post: boolean (nullable = true)\n",
      " |-- collapsed: boolean (nullable = true)\n",
      " |-- controversiality: long (nullable = true)\n",
      " |-- created_utc: long (nullable = true)\n",
      " |-- gilded: long (nullable = true)\n",
      " |-- gildings: string (nullable = true)\n",
      " |-- id: string (nullable = true)\n",
      " |-- is_submitter: boolean (nullable = true)\n",
      " |-- link_id: string (nullable = true)\n",
      " |-- locked: boolean (nullable = true)\n",
      " |-- no_follow: boolean (nullable = true)\n",
      " |-- parent_id: string (nullable = true)\n",
      " |-- permalink: string (nullable = true)\n",
      " |-- quarantined: boolean (nullable = true)\n",
      " |-- retrieved_on: long (nullable = true)\n",
      " |-- score: long (nullable = true)\n",
      " |-- send_replies: boolean (nullable = true)\n",
      " |-- stickied: boolean (nullable = true)\n",
      " |-- subreddit_id: string (nullable = true)\n",
      " |-- subreddit_name_prefixed: string (nullable = true)\n",
      " |-- subreddit_type: string (nullable = true)\n",
      " |-- total_awards_received: long (nullable = true)\n",
      " |-- treatment_tags: string (nullable = true)\n",
      " |-- editable: boolean (nullable = true)\n",
      " |-- ym_partition: integer (nullable = true)\n",
      " |-- comment_date: string (nullable = true)\n",
      " |-- year: string (nullable = true)\n",
      " |-- month: string (nullable = true)\n",
      " |-- hour: string (nullable = true)\n",
      " |-- original_post: string (nullable = true)\n",
      " |-- comment_length: integer (nullable = true)\n",
      " |-- Pandemic_Freakout: string (nullable = true)\n",
      " |-- Arrest_Freakout: string (nullable = true)\n",
      " |-- document: array (nullable = true)\n",
      " |    |-- element: struct (containsNull = true)\n",
      " |    |    |-- annotatorType: string (nullable = true)\n",
      " |    |    |-- begin: integer (nullable = false)\n",
      " |    |    |-- end: integer (nullable = false)\n",
      " |    |    |-- result: string (nullable = true)\n",
      " |    |    |-- metadata: map (nullable = true)\n",
      " |    |    |    |-- key: string\n",
      " |    |    |    |-- value: string (valueContainsNull = true)\n",
      " |    |    |-- embeddings: array (nullable = true)\n",
      " |    |    |    |-- element: float (containsNull = false)\n",
      " |-- token: array (nullable = true)\n",
      " |    |-- element: struct (containsNull = true)\n",
      " |    |    |-- annotatorType: string (nullable = true)\n",
      " |    |    |-- begin: integer (nullable = false)\n",
      " |    |    |-- end: integer (nullable = false)\n",
      " |    |    |-- result: string (nullable = true)\n",
      " |    |    |-- metadata: map (nullable = true)\n",
      " |    |    |    |-- key: string\n",
      " |    |    |    |-- value: string (valueContainsNull = true)\n",
      " |    |    |-- embeddings: array (nullable = true)\n",
      " |    |    |    |-- element: float (containsNull = false)\n",
      " |-- normalized: array (nullable = true)\n",
      " |    |-- element: struct (containsNull = true)\n",
      " |    |    |-- annotatorType: string (nullable = true)\n",
      " |    |    |-- begin: integer (nullable = false)\n",
      " |    |    |-- end: integer (nullable = false)\n",
      " |    |    |-- result: string (nullable = true)\n",
      " |    |    |-- metadata: map (nullable = true)\n",
      " |    |    |    |-- key: string\n",
      " |    |    |    |-- value: string (valueContainsNull = true)\n",
      " |    |    |-- embeddings: array (nullable = true)\n",
      " |    |    |    |-- element: float (containsNull = false)\n",
      " |-- lemma: array (nullable = true)\n",
      " |    |-- element: struct (containsNull = true)\n",
      " |    |    |-- annotatorType: string (nullable = true)\n",
      " |    |    |-- begin: integer (nullable = false)\n",
      " |    |    |-- end: integer (nullable = false)\n",
      " |    |    |-- result: string (nullable = true)\n",
      " |    |    |-- metadata: map (nullable = true)\n",
      " |    |    |    |-- key: string\n",
      " |    |    |    |-- value: string (valueContainsNull = true)\n",
      " |    |    |-- embeddings: array (nullable = true)\n",
      " |    |    |    |-- element: float (containsNull = false)\n",
      " |-- clean_lemma: array (nullable = true)\n",
      " |    |-- element: struct (containsNull = true)\n",
      " |    |    |-- annotatorType: string (nullable = true)\n",
      " |    |    |-- begin: integer (nullable = false)\n",
      " |    |    |-- end: integer (nullable = false)\n",
      " |    |    |-- result: string (nullable = true)\n",
      " |    |    |-- metadata: map (nullable = true)\n",
      " |    |    |    |-- key: string\n",
      " |    |    |    |-- value: string (valueContainsNull = true)\n",
      " |    |    |-- embeddings: array (nullable = true)\n",
      " |    |    |    |-- element: float (containsNull = false)\n",
      " |-- finished_clean_lemma: array (nullable = true)\n",
      " |    |-- element: string (containsNull = true)\n",
      " |-- text: string (nullable = false)\n",
      " |-- use_embeddings: array (nullable = true)\n",
      " |    |-- element: struct (containsNull = true)\n",
      " |    |    |-- annotatorType: string (nullable = true)\n",
      " |    |    |-- begin: integer (nullable = false)\n",
      " |    |    |-- end: integer (nullable = false)\n",
      " |    |    |-- result: string (nullable = true)\n",
      " |    |    |-- metadata: map (nullable = true)\n",
      " |    |    |    |-- key: string\n",
      " |    |    |    |-- value: string (valueContainsNull = true)\n",
      " |    |    |-- embeddings: array (nullable = true)\n",
      " |    |    |    |-- element: float (containsNull = false)\n",
      " |-- sentiment: array (nullable = true)\n",
      " |    |-- element: struct (containsNull = true)\n",
      " |    |    |-- annotatorType: string (nullable = true)\n",
      " |    |    |-- begin: integer (nullable = false)\n",
      " |    |    |-- end: integer (nullable = false)\n",
      " |    |    |-- result: string (nullable = true)\n",
      " |    |    |-- metadata: map (nullable = true)\n",
      " |    |    |    |-- key: string\n",
      " |    |    |    |-- value: string (valueContainsNull = true)\n",
      " |    |    |-- embeddings: array (nullable = true)\n",
      " |    |    |    |-- element: float (containsNull = false)\n",
      "\n"
     ]
    }
   ],
   "source": [
    "result_t.printSchema()"
   ]
  },
  {
   "cell_type": "markdown",
   "id": "ae3dc7f6-e131-4937-a099-eac9e1102242",
   "metadata": {},
   "source": [
    "Selecting the required comments to store in s3"
   ]
  },
  {
   "cell_type": "code",
   "execution_count": 24,
   "id": "c074021c-a25e-40d5-803b-d0d1f0b96a0f",
   "metadata": {},
   "outputs": [],
   "source": [
    "sentiment_df = result_t.select(F.explode(F.arrays_zip('document.result', 'sentiment.result')).alias(\"cols\"),\n",
    "                               F.expr(\"author\").alias(\"author\"),\n",
    "                               F.expr(\"controversiality\").alias(\"controversiality\"),\n",
    "                               F.expr(\"score\").alias(\"score\"),\n",
    "                               F.expr(\"total_awards_received\").alias(\"total_awards_received\"),\n",
    "                               F.expr(\"comment_date\").alias(\"comment_date\"),\n",
    "                               F.expr(\"year\").alias(\"year\"),\n",
    "                               F.expr(\"month\").alias(\"month\"),\n",
    "                               F.expr(\"hour\").alias(\"hour\"),\n",
    "                               F.expr(\"comment_length\").alias(\"comment_length\"),\n",
    "                               F.expr(\"Arrest_Freakout\").alias(\"Arrest_Freakout\"),\n",
    "                               F.expr(\"Pandemic_Freakout\").alias(\"Pandemic_Freakout\")) \\\n",
    ".select(F.expr(\"cols['0']\").alias(\"document\"),\n",
    "        F.expr(\"cols['1']\").alias(\"sentiment\"),\n",
    "       \"author\",\"controversiality\",\"score\",\"total_awards_received\",\"comment_date\",\"year\",\"month\",\"hour\",\"comment_length\",\"Arrest_Freakout\",\"Pandemic_Freakout\")"
   ]
  },
  {
   "cell_type": "code",
   "execution_count": 25,
   "id": "625a7af2-db64-465b-8dc5-af0bfbd9d858",
   "metadata": {},
   "outputs": [
    {
     "name": "stderr",
     "output_type": "stream",
     "text": [
      "                                                                                \r"
     ]
    }
   ],
   "source": [
    "sentiment_df.write.parquet(\"s3://ssp88-labdata2/sentiment_df/\")"
   ]
  },
  {
   "cell_type": "code",
   "execution_count": 66,
   "id": "edc90983-1ac6-4564-9f3f-1cdef44fff2f",
   "metadata": {},
   "outputs": [
    {
     "name": "stderr",
     "output_type": "stream",
     "text": [
      "                                                                                \r"
     ]
    }
   ],
   "source": [
    "#Read parquet \n",
    "sentiment_read = spark.read.parquet('s3://ssp88-labdata2/sentiment_df')"
   ]
  },
  {
   "cell_type": "code",
   "execution_count": 67,
   "id": "e8fb6210-4ce0-455b-8069-10a5ed0f1807",
   "metadata": {},
   "outputs": [
    {
     "name": "stdout",
     "output_type": "stream",
     "text": [
      "root\n",
      " |-- document: string (nullable = true)\n",
      " |-- sentiment: string (nullable = true)\n",
      " |-- author: string (nullable = true)\n",
      " |-- controversiality: long (nullable = true)\n",
      " |-- score: long (nullable = true)\n",
      " |-- total_awards_received: long (nullable = true)\n",
      " |-- comment_date: string (nullable = true)\n",
      " |-- year: string (nullable = true)\n",
      " |-- month: string (nullable = true)\n",
      " |-- hour: string (nullable = true)\n",
      " |-- comment_length: integer (nullable = true)\n",
      " |-- Arrest_Freakout: string (nullable = true)\n",
      " |-- Pandemic_Freakout: string (nullable = true)\n",
      "\n"
     ]
    }
   ],
   "source": [
    "sentiment_read.printSchema()"
   ]
  },
  {
   "cell_type": "code",
   "execution_count": 68,
   "id": "a868e414-7dbc-47fd-9a3f-049e2c289477",
   "metadata": {},
   "outputs": [
    {
     "name": "stdout",
     "output_type": "stream",
     "text": [
      "Requirement already satisfied: altair in /mnt/miniconda/lib/python3.7/site-packages (4.2.0)\n",
      "Requirement already satisfied: jinja2 in /mnt/miniconda/lib/python3.7/site-packages (from altair) (3.0.3)\n",
      "Requirement already satisfied: toolz in /mnt/miniconda/lib/python3.7/site-packages (from altair) (0.11.2)\n",
      "Requirement already satisfied: pandas>=0.18 in /mnt/miniconda/lib/python3.7/site-packages (from altair) (1.3.5)\n",
      "Requirement already satisfied: numpy in /mnt/miniconda/lib/python3.7/site-packages (from altair) (1.21.2)\n",
      "Requirement already satisfied: entrypoints in /mnt/miniconda/lib/python3.7/site-packages (from altair) (0.3)\n",
      "Requirement already satisfied: jsonschema>=3.0 in /mnt/miniconda/lib/python3.7/site-packages (from altair) (3.2.0)\n",
      "Requirement already satisfied: setuptools in /mnt/miniconda/lib/python3.7/site-packages (from jsonschema>=3.0->altair) (58.0.4)\n",
      "Requirement already satisfied: attrs>=17.4.0 in /mnt/miniconda/lib/python3.7/site-packages (from jsonschema>=3.0->altair) (21.4.0)\n",
      "Requirement already satisfied: six>=1.11.0 in /mnt/miniconda/lib/python3.7/site-packages (from jsonschema>=3.0->altair) (1.16.0)\n",
      "Requirement already satisfied: importlib-metadata in /mnt/miniconda/lib/python3.7/site-packages (from jsonschema>=3.0->altair) (4.8.2)\n",
      "Requirement already satisfied: pyrsistent>=0.14.0 in /mnt/miniconda/lib/python3.7/site-packages (from jsonschema>=3.0->altair) (0.18.0)\n",
      "Requirement already satisfied: python-dateutil>=2.7.3 in /mnt/miniconda/lib/python3.7/site-packages (from pandas>=0.18->altair) (2.8.2)\n",
      "Requirement already satisfied: pytz>=2017.3 in /mnt/miniconda/lib/python3.7/site-packages (from pandas>=0.18->altair) (2021.3)\n",
      "Requirement already satisfied: typing-extensions>=3.6.4 in /mnt/miniconda/lib/python3.7/site-packages (from importlib-metadata->jsonschema>=3.0->altair) (3.10.0.2)\n",
      "Requirement already satisfied: zipp>=0.5 in /mnt/miniconda/lib/python3.7/site-packages (from importlib-metadata->jsonschema>=3.0->altair) (3.7.0)\n",
      "Requirement already satisfied: MarkupSafe>=2.0 in /mnt/miniconda/lib/python3.7/site-packages (from jinja2->altair) (2.0.1)\n"
     ]
    }
   ],
   "source": [
    "!/mnt/miniconda/bin/pip install altair"
   ]
  },
  {
   "cell_type": "code",
   "execution_count": 69,
   "id": "471a6661-e44e-4d6f-8cc9-730f9bc61133",
   "metadata": {},
   "outputs": [
    {
     "data": {
      "text/plain": [
       "DataTransformerRegistry.enable('default')"
      ]
     },
     "execution_count": 69,
     "metadata": {},
     "output_type": "execute_result"
    }
   ],
   "source": [
    "import altair as alt\n",
    "alt.data_transformers.disable_max_rows()"
   ]
  },
  {
   "cell_type": "markdown",
   "id": "d037da66-fb3a-4e18-b1cc-04e9f13d91bb",
   "metadata": {},
   "source": [
    "### Graphs - Business Questions "
   ]
  },
  {
   "cell_type": "markdown",
   "id": "afb8626d-685e-468b-91ac-68f2c380f1b8",
   "metadata": {},
   "source": [
    "##### Sentiment Count "
   ]
  },
  {
   "cell_type": "code",
   "execution_count": 70,
   "id": "418a55c5-3646-4b06-a3b2-51eeb495653b",
   "metadata": {},
   "outputs": [],
   "source": [
    "sentiment_count = sentiment_read.groupby('sentiment').agg(F.count('document'))"
   ]
  },
  {
   "cell_type": "code",
   "execution_count": 71,
   "id": "48573a6a-4b83-4890-91ec-d9eaa5e3be85",
   "metadata": {},
   "outputs": [],
   "source": [
    "sentiment_count = sentiment_count.withColumnRenamed('count(document)','sentiment_count')"
   ]
  },
  {
   "cell_type": "code",
   "execution_count": 72,
   "id": "23dce614-a4ac-471c-85ff-9c3ffff07d97",
   "metadata": {},
   "outputs": [
    {
     "name": "stderr",
     "output_type": "stream",
     "text": [
      "                                                                                \r"
     ]
    },
    {
     "name": "stdout",
     "output_type": "stream",
     "text": [
      "+---------+---------------+\n",
      "|sentiment|sentiment_count|\n",
      "+---------+---------------+\n",
      "| positive|        9880051|\n",
      "|     null|         108800|\n",
      "|  neutral|         968815|\n",
      "| negative|        7163286|\n",
      "+---------+---------------+\n",
      "\n"
     ]
    }
   ],
   "source": [
    "sentiment_count.show()"
   ]
  },
  {
   "cell_type": "code",
   "execution_count": 73,
   "id": "7b8e601f-492e-4fa6-8281-82498847ebc8",
   "metadata": {},
   "outputs": [
    {
     "name": "stderr",
     "output_type": "stream",
     "text": [
      "                                                                                \r"
     ]
    }
   ],
   "source": [
    "sentiment_count = sentiment_count.toPandas()"
   ]
  },
  {
   "cell_type": "code",
   "execution_count": 74,
   "id": "f6d3d5ed-ffed-4da0-9089-c2b2c520061b",
   "metadata": {},
   "outputs": [],
   "source": [
    "sentiment_count_altered = sentiment_count.dropna(subset=['sentiment'])"
   ]
  },
  {
   "cell_type": "code",
   "execution_count": 75,
   "id": "15530238-e110-491c-8723-f7e0081d80b0",
   "metadata": {},
   "outputs": [
    {
     "data": {
      "text/html": [
       "<div>\n",
       "<style scoped>\n",
       "    .dataframe tbody tr th:only-of-type {\n",
       "        vertical-align: middle;\n",
       "    }\n",
       "\n",
       "    .dataframe tbody tr th {\n",
       "        vertical-align: top;\n",
       "    }\n",
       "\n",
       "    .dataframe thead th {\n",
       "        text-align: right;\n",
       "    }\n",
       "</style>\n",
       "<table border=\"1\" class=\"dataframe\">\n",
       "  <thead>\n",
       "    <tr style=\"text-align: right;\">\n",
       "      <th></th>\n",
       "      <th>sentiment</th>\n",
       "      <th>sentiment_count</th>\n",
       "    </tr>\n",
       "  </thead>\n",
       "  <tbody>\n",
       "    <tr>\n",
       "      <th>0</th>\n",
       "      <td>positive</td>\n",
       "      <td>9880051</td>\n",
       "    </tr>\n",
       "    <tr>\n",
       "      <th>2</th>\n",
       "      <td>neutral</td>\n",
       "      <td>968815</td>\n",
       "    </tr>\n",
       "    <tr>\n",
       "      <th>3</th>\n",
       "      <td>negative</td>\n",
       "      <td>7163286</td>\n",
       "    </tr>\n",
       "  </tbody>\n",
       "</table>\n",
       "</div>"
      ],
      "text/plain": [
       "  sentiment  sentiment_count\n",
       "0  positive          9880051\n",
       "2   neutral           968815\n",
       "3  negative          7163286"
      ]
     },
     "execution_count": 75,
     "metadata": {},
     "output_type": "execute_result"
    }
   ],
   "source": [
    "sentiment_count_altered.head()"
   ]
  },
  {
   "cell_type": "code",
   "execution_count": 178,
   "id": "90d5fc75-4464-4537-a15c-fdc09f6fe76a",
   "metadata": {},
   "outputs": [
    {
     "data": {
      "text/html": [
       "\n",
       "<div id=\"altair-viz-ca4d3dbeebc64fa793148510ec4501a0\"></div>\n",
       "<script type=\"text/javascript\">\n",
       "  var VEGA_DEBUG = (typeof VEGA_DEBUG == \"undefined\") ? {} : VEGA_DEBUG;\n",
       "  (function(spec, embedOpt){\n",
       "    let outputDiv = document.currentScript.previousElementSibling;\n",
       "    if (outputDiv.id !== \"altair-viz-ca4d3dbeebc64fa793148510ec4501a0\") {\n",
       "      outputDiv = document.getElementById(\"altair-viz-ca4d3dbeebc64fa793148510ec4501a0\");\n",
       "    }\n",
       "    const paths = {\n",
       "      \"vega\": \"https://cdn.jsdelivr.net/npm//vega@5?noext\",\n",
       "      \"vega-lib\": \"https://cdn.jsdelivr.net/npm//vega-lib?noext\",\n",
       "      \"vega-lite\": \"https://cdn.jsdelivr.net/npm//vega-lite@4.17.0?noext\",\n",
       "      \"vega-embed\": \"https://cdn.jsdelivr.net/npm//vega-embed@6?noext\",\n",
       "    };\n",
       "\n",
       "    function maybeLoadScript(lib, version) {\n",
       "      var key = `${lib.replace(\"-\", \"\")}_version`;\n",
       "      return (VEGA_DEBUG[key] == version) ?\n",
       "        Promise.resolve(paths[lib]) :\n",
       "        new Promise(function(resolve, reject) {\n",
       "          var s = document.createElement('script');\n",
       "          document.getElementsByTagName(\"head\")[0].appendChild(s);\n",
       "          s.async = true;\n",
       "          s.onload = () => {\n",
       "            VEGA_DEBUG[key] = version;\n",
       "            return resolve(paths[lib]);\n",
       "          };\n",
       "          s.onerror = () => reject(`Error loading script: ${paths[lib]}`);\n",
       "          s.src = paths[lib];\n",
       "        });\n",
       "    }\n",
       "\n",
       "    function showError(err) {\n",
       "      outputDiv.innerHTML = `<div class=\"error\" style=\"color:red;\">${err}</div>`;\n",
       "      throw err;\n",
       "    }\n",
       "\n",
       "    function displayChart(vegaEmbed) {\n",
       "      vegaEmbed(outputDiv, spec, embedOpt)\n",
       "        .catch(err => showError(`Javascript Error: ${err.message}<br>This usually means there's a typo in your chart specification. See the javascript console for the full traceback.`));\n",
       "    }\n",
       "\n",
       "    if(typeof define === \"function\" && define.amd) {\n",
       "      requirejs.config({paths});\n",
       "      require([\"vega-embed\"], displayChart, err => showError(`Error loading script: ${err.message}`));\n",
       "    } else {\n",
       "      maybeLoadScript(\"vega\", \"5\")\n",
       "        .then(() => maybeLoadScript(\"vega-lite\", \"4.17.0\"))\n",
       "        .then(() => maybeLoadScript(\"vega-embed\", \"6\"))\n",
       "        .catch(showError)\n",
       "        .then(() => displayChart(vegaEmbed));\n",
       "    }\n",
       "  })({\"config\": {\"view\": {\"continuousWidth\": 400, \"continuousHeight\": 300}}, \"data\": {\"name\": \"data-e377135007877744f42d6117ccc71698\"}, \"mark\": \"bar\", \"encoding\": {\"color\": {\"value\": \"#7fc97f\"}, \"tooltip\": [{\"field\": \"sentiment\", \"type\": \"nominal\"}, {\"field\": \"sentiment_count\", \"type\": \"quantitative\"}], \"x\": {\"axis\": {\"title\": \"Sentiment\"}, \"field\": \"sentiment\", \"sort\": \"-y\", \"type\": \"nominal\"}, \"y\": {\"axis\": {\"title\": \"Count\"}, \"field\": \"sentiment_count\", \"type\": \"quantitative\"}}, \"height\": 500, \"title\": {\"text\": \"Sentiment Count\", \"subtitle\": \"Sentiment of authors through each comment\"}, \"width\": 500, \"$schema\": \"https://vega.github.io/schema/vega-lite/v4.17.0.json\", \"datasets\": {\"data-e377135007877744f42d6117ccc71698\": [{\"sentiment\": \"positive\", \"sentiment_count\": 9880051}, {\"sentiment\": \"neutral\", \"sentiment_count\": 968815}, {\"sentiment\": \"negative\", \"sentiment_count\": 7163286}]}}, {\"mode\": \"vega-lite\"});\n",
       "</script>"
      ],
      "text/plain": [
       "alt.Chart(...)"
      ]
     },
     "execution_count": 178,
     "metadata": {},
     "output_type": "execute_result"
    }
   ],
   "source": [
    "fig = (alt.Chart(sentiment_count_altered).mark_bar().encode(\n",
    "    y=alt.Y('sentiment_count', axis = alt.Axis(title = \"Count\")),\n",
    "    x=alt.X('sentiment', axis = alt.Axis(title = \"Sentiment\"),sort='-y'),\n",
    "    color=alt.value('#7fc97f'),\n",
    "    tooltip=['sentiment','sentiment_count']\n",
    ")).properties(title={\"text\":'Sentiment Count',\"subtitle\" : \"Sentiment of authors through each comment\"},width = 500, height = 500)\n",
    "\n",
    "fig.save(\"fig1.html\")\n",
    "fig\n"
   ]
  },
  {
   "cell_type": "markdown",
   "id": "ca858b19-8e7a-443e-bd8c-dbe720a18c1e",
   "metadata": {},
   "source": [
    "There are very few comments overall having neutral sentiment compared to the other two sentiments. Majority of the comments have a positive sentiment, this might be the case as the authors might leave motivational or happy comments under freakout videos or else there are comparatively more video under happy freakout category."
   ]
  },
  {
   "cell_type": "markdown",
   "id": "fa9fe718-3512-4800-8319-622880b16cb0",
   "metadata": {},
   "source": [
    "##### Sentiments through time"
   ]
  },
  {
   "cell_type": "code",
   "execution_count": 87,
   "id": "45ac3cdf-cc74-496c-b6f7-c1485fb26a84",
   "metadata": {},
   "outputs": [],
   "source": [
    "sentiment_time = sentiment_read.groupby('year','month','sentiment').agg(F.count('document'))"
   ]
  },
  {
   "cell_type": "code",
   "execution_count": 88,
   "id": "878647b5-160a-407e-8332-8385c6ccdbae",
   "metadata": {},
   "outputs": [],
   "source": [
    "sentiment_time = sentiment_time.withColumnRenamed('count(document)','count')"
   ]
  },
  {
   "cell_type": "code",
   "execution_count": 89,
   "id": "8e4208d6-cdf2-4bae-9868-b0960976eea7",
   "metadata": {},
   "outputs": [
    {
     "name": "stderr",
     "output_type": "stream",
     "text": [
      "                                                                                \r"
     ]
    },
    {
     "name": "stdout",
     "output_type": "stream",
     "text": [
      "+----+-----+---------+------+\n",
      "|year|month|sentiment| count|\n",
      "+----+-----+---------+------+\n",
      "|2020|   04| negative|236243|\n",
      "|2019|   08|  neutral| 22363|\n",
      "|2020|   01| positive|231719|\n",
      "|2020|   11| negative|379104|\n",
      "|2019|   09|     null|  2636|\n",
      "+----+-----+---------+------+\n",
      "only showing top 5 rows\n",
      "\n"
     ]
    }
   ],
   "source": [
    "sentiment_time.show(5)"
   ]
  },
  {
   "cell_type": "code",
   "execution_count": 90,
   "id": "6cc4f459-02c2-432c-85d4-e45ff9302d9d",
   "metadata": {},
   "outputs": [
    {
     "name": "stderr",
     "output_type": "stream",
     "text": [
      "                                                                                \r"
     ]
    }
   ],
   "source": [
    "sentiment_time_df = sentiment_time.toPandas()"
   ]
  },
  {
   "cell_type": "code",
   "execution_count": 93,
   "id": "d1590a21-99ea-42a3-b874-1c7076ce3c5b",
   "metadata": {},
   "outputs": [],
   "source": [
    "sentiment_time_df = sentiment_time_df.dropna(subset=['sentiment'])"
   ]
  },
  {
   "cell_type": "code",
   "execution_count": 94,
   "id": "9602837f-920f-4f97-8b99-5ec2e5f22b3c",
   "metadata": {},
   "outputs": [
    {
     "data": {
      "text/html": [
       "<div>\n",
       "<style scoped>\n",
       "    .dataframe tbody tr th:only-of-type {\n",
       "        vertical-align: middle;\n",
       "    }\n",
       "\n",
       "    .dataframe tbody tr th {\n",
       "        vertical-align: top;\n",
       "    }\n",
       "\n",
       "    .dataframe thead th {\n",
       "        text-align: right;\n",
       "    }\n",
       "</style>\n",
       "<table border=\"1\" class=\"dataframe\">\n",
       "  <thead>\n",
       "    <tr style=\"text-align: right;\">\n",
       "      <th></th>\n",
       "      <th>year</th>\n",
       "      <th>month</th>\n",
       "      <th>sentiment</th>\n",
       "      <th>count</th>\n",
       "    </tr>\n",
       "  </thead>\n",
       "  <tbody>\n",
       "    <tr>\n",
       "      <th>0</th>\n",
       "      <td>2020</td>\n",
       "      <td>11</td>\n",
       "      <td>negative</td>\n",
       "      <td>379104</td>\n",
       "    </tr>\n",
       "    <tr>\n",
       "      <th>1</th>\n",
       "      <td>2020</td>\n",
       "      <td>04</td>\n",
       "      <td>negative</td>\n",
       "      <td>236243</td>\n",
       "    </tr>\n",
       "    <tr>\n",
       "      <th>2</th>\n",
       "      <td>2019</td>\n",
       "      <td>08</td>\n",
       "      <td>neutral</td>\n",
       "      <td>22363</td>\n",
       "    </tr>\n",
       "    <tr>\n",
       "      <th>4</th>\n",
       "      <td>2020</td>\n",
       "      <td>01</td>\n",
       "      <td>positive</td>\n",
       "      <td>231719</td>\n",
       "    </tr>\n",
       "    <tr>\n",
       "      <th>5</th>\n",
       "      <td>2020</td>\n",
       "      <td>12</td>\n",
       "      <td>neutral</td>\n",
       "      <td>41181</td>\n",
       "    </tr>\n",
       "    <tr>\n",
       "      <th>...</th>\n",
       "      <td>...</td>\n",
       "      <td>...</td>\n",
       "      <td>...</td>\n",
       "      <td>...</td>\n",
       "    </tr>\n",
       "    <tr>\n",
       "      <th>90</th>\n",
       "      <td>2019</td>\n",
       "      <td>08</td>\n",
       "      <td>positive</td>\n",
       "      <td>240089</td>\n",
       "    </tr>\n",
       "    <tr>\n",
       "      <th>91</th>\n",
       "      <td>2020</td>\n",
       "      <td>01</td>\n",
       "      <td>neutral</td>\n",
       "      <td>22618</td>\n",
       "    </tr>\n",
       "    <tr>\n",
       "      <th>92</th>\n",
       "      <td>2021</td>\n",
       "      <td>01</td>\n",
       "      <td>neutral</td>\n",
       "      <td>61535</td>\n",
       "    </tr>\n",
       "    <tr>\n",
       "      <th>93</th>\n",
       "      <td>2020</td>\n",
       "      <td>10</td>\n",
       "      <td>positive</td>\n",
       "      <td>473585</td>\n",
       "    </tr>\n",
       "    <tr>\n",
       "      <th>94</th>\n",
       "      <td>2020</td>\n",
       "      <td>01</td>\n",
       "      <td>negative</td>\n",
       "      <td>153705</td>\n",
       "    </tr>\n",
       "  </tbody>\n",
       "</table>\n",
       "<p>72 rows × 4 columns</p>\n",
       "</div>"
      ],
      "text/plain": [
       "    year month sentiment   count\n",
       "0   2020    11  negative  379104\n",
       "1   2020    04  negative  236243\n",
       "2   2019    08   neutral   22363\n",
       "4   2020    01  positive  231719\n",
       "5   2020    12   neutral   41181\n",
       "..   ...   ...       ...     ...\n",
       "90  2019    08  positive  240089\n",
       "91  2020    01   neutral   22618\n",
       "92  2021    01   neutral   61535\n",
       "93  2020    10  positive  473585\n",
       "94  2020    01  negative  153705\n",
       "\n",
       "[72 rows x 4 columns]"
      ]
     },
     "execution_count": 94,
     "metadata": {},
     "output_type": "execute_result"
    }
   ],
   "source": [
    "sentiment_time_df"
   ]
  },
  {
   "cell_type": "code",
   "execution_count": 95,
   "id": "f1dec658-7158-4631-bc4d-82f5970b8692",
   "metadata": {},
   "outputs": [
    {
     "data": {
      "text/html": [
       "<div>\n",
       "<style scoped>\n",
       "    .dataframe tbody tr th:only-of-type {\n",
       "        vertical-align: middle;\n",
       "    }\n",
       "\n",
       "    .dataframe tbody tr th {\n",
       "        vertical-align: top;\n",
       "    }\n",
       "\n",
       "    .dataframe thead th {\n",
       "        text-align: right;\n",
       "    }\n",
       "</style>\n",
       "<table border=\"1\" class=\"dataframe\">\n",
       "  <thead>\n",
       "    <tr style=\"text-align: right;\">\n",
       "      <th></th>\n",
       "      <th>year</th>\n",
       "      <th>month</th>\n",
       "      <th>sentiment</th>\n",
       "      <th>count</th>\n",
       "      <th>time_concat</th>\n",
       "    </tr>\n",
       "  </thead>\n",
       "  <tbody>\n",
       "    <tr>\n",
       "      <th>0</th>\n",
       "      <td>2020</td>\n",
       "      <td>11</td>\n",
       "      <td>negative</td>\n",
       "      <td>379104</td>\n",
       "      <td>2020_11</td>\n",
       "    </tr>\n",
       "    <tr>\n",
       "      <th>1</th>\n",
       "      <td>2020</td>\n",
       "      <td>04</td>\n",
       "      <td>negative</td>\n",
       "      <td>236243</td>\n",
       "      <td>2020_04</td>\n",
       "    </tr>\n",
       "    <tr>\n",
       "      <th>2</th>\n",
       "      <td>2019</td>\n",
       "      <td>08</td>\n",
       "      <td>neutral</td>\n",
       "      <td>22363</td>\n",
       "      <td>2019_08</td>\n",
       "    </tr>\n",
       "    <tr>\n",
       "      <th>4</th>\n",
       "      <td>2020</td>\n",
       "      <td>01</td>\n",
       "      <td>positive</td>\n",
       "      <td>231719</td>\n",
       "      <td>2020_01</td>\n",
       "    </tr>\n",
       "    <tr>\n",
       "      <th>5</th>\n",
       "      <td>2020</td>\n",
       "      <td>12</td>\n",
       "      <td>neutral</td>\n",
       "      <td>41181</td>\n",
       "      <td>2020_12</td>\n",
       "    </tr>\n",
       "    <tr>\n",
       "      <th>...</th>\n",
       "      <td>...</td>\n",
       "      <td>...</td>\n",
       "      <td>...</td>\n",
       "      <td>...</td>\n",
       "      <td>...</td>\n",
       "    </tr>\n",
       "    <tr>\n",
       "      <th>90</th>\n",
       "      <td>2019</td>\n",
       "      <td>08</td>\n",
       "      <td>positive</td>\n",
       "      <td>240089</td>\n",
       "      <td>2019_08</td>\n",
       "    </tr>\n",
       "    <tr>\n",
       "      <th>91</th>\n",
       "      <td>2020</td>\n",
       "      <td>01</td>\n",
       "      <td>neutral</td>\n",
       "      <td>22618</td>\n",
       "      <td>2020_01</td>\n",
       "    </tr>\n",
       "    <tr>\n",
       "      <th>92</th>\n",
       "      <td>2021</td>\n",
       "      <td>01</td>\n",
       "      <td>neutral</td>\n",
       "      <td>61535</td>\n",
       "      <td>2021_01</td>\n",
       "    </tr>\n",
       "    <tr>\n",
       "      <th>93</th>\n",
       "      <td>2020</td>\n",
       "      <td>10</td>\n",
       "      <td>positive</td>\n",
       "      <td>473585</td>\n",
       "      <td>2020_10</td>\n",
       "    </tr>\n",
       "    <tr>\n",
       "      <th>94</th>\n",
       "      <td>2020</td>\n",
       "      <td>01</td>\n",
       "      <td>negative</td>\n",
       "      <td>153705</td>\n",
       "      <td>2020_01</td>\n",
       "    </tr>\n",
       "  </tbody>\n",
       "</table>\n",
       "<p>72 rows × 5 columns</p>\n",
       "</div>"
      ],
      "text/plain": [
       "    year month sentiment   count time_concat\n",
       "0   2020    11  negative  379104     2020_11\n",
       "1   2020    04  negative  236243     2020_04\n",
       "2   2019    08   neutral   22363     2019_08\n",
       "4   2020    01  positive  231719     2020_01\n",
       "5   2020    12   neutral   41181     2020_12\n",
       "..   ...   ...       ...     ...         ...\n",
       "90  2019    08  positive  240089     2019_08\n",
       "91  2020    01   neutral   22618     2020_01\n",
       "92  2021    01   neutral   61535     2021_01\n",
       "93  2020    10  positive  473585     2020_10\n",
       "94  2020    01  negative  153705     2020_01\n",
       "\n",
       "[72 rows x 5 columns]"
      ]
     },
     "execution_count": 95,
     "metadata": {},
     "output_type": "execute_result"
    }
   ],
   "source": [
    "sentiment_time_df['time_concat'] = sentiment_time_df[\"year\"] + \"_\" + sentiment_time_df[\"month\"]\n",
    "sentiment_time_df"
   ]
  },
  {
   "cell_type": "code",
   "execution_count": 96,
   "id": "589116ad-ce5c-4f09-98ad-bb6adfe5e57e",
   "metadata": {},
   "outputs": [],
   "source": [
    "sentiment_time_df = sentiment_time_df.sort_values([\"year\",\"month\"]).reset_index().drop('index',axis = 1)"
   ]
  },
  {
   "cell_type": "code",
   "execution_count": 179,
   "id": "06afef8d-d830-43e1-8bac-98b5f7e9978b",
   "metadata": {},
   "outputs": [
    {
     "data": {
      "text/html": [
       "\n",
       "<div id=\"altair-viz-71d4c3fe5bd44839a27563c6973f2b13\"></div>\n",
       "<script type=\"text/javascript\">\n",
       "  var VEGA_DEBUG = (typeof VEGA_DEBUG == \"undefined\") ? {} : VEGA_DEBUG;\n",
       "  (function(spec, embedOpt){\n",
       "    let outputDiv = document.currentScript.previousElementSibling;\n",
       "    if (outputDiv.id !== \"altair-viz-71d4c3fe5bd44839a27563c6973f2b13\") {\n",
       "      outputDiv = document.getElementById(\"altair-viz-71d4c3fe5bd44839a27563c6973f2b13\");\n",
       "    }\n",
       "    const paths = {\n",
       "      \"vega\": \"https://cdn.jsdelivr.net/npm//vega@5?noext\",\n",
       "      \"vega-lib\": \"https://cdn.jsdelivr.net/npm//vega-lib?noext\",\n",
       "      \"vega-lite\": \"https://cdn.jsdelivr.net/npm//vega-lite@4.17.0?noext\",\n",
       "      \"vega-embed\": \"https://cdn.jsdelivr.net/npm//vega-embed@6?noext\",\n",
       "    };\n",
       "\n",
       "    function maybeLoadScript(lib, version) {\n",
       "      var key = `${lib.replace(\"-\", \"\")}_version`;\n",
       "      return (VEGA_DEBUG[key] == version) ?\n",
       "        Promise.resolve(paths[lib]) :\n",
       "        new Promise(function(resolve, reject) {\n",
       "          var s = document.createElement('script');\n",
       "          document.getElementsByTagName(\"head\")[0].appendChild(s);\n",
       "          s.async = true;\n",
       "          s.onload = () => {\n",
       "            VEGA_DEBUG[key] = version;\n",
       "            return resolve(paths[lib]);\n",
       "          };\n",
       "          s.onerror = () => reject(`Error loading script: ${paths[lib]}`);\n",
       "          s.src = paths[lib];\n",
       "        });\n",
       "    }\n",
       "\n",
       "    function showError(err) {\n",
       "      outputDiv.innerHTML = `<div class=\"error\" style=\"color:red;\">${err}</div>`;\n",
       "      throw err;\n",
       "    }\n",
       "\n",
       "    function displayChart(vegaEmbed) {\n",
       "      vegaEmbed(outputDiv, spec, embedOpt)\n",
       "        .catch(err => showError(`Javascript Error: ${err.message}<br>This usually means there's a typo in your chart specification. See the javascript console for the full traceback.`));\n",
       "    }\n",
       "\n",
       "    if(typeof define === \"function\" && define.amd) {\n",
       "      requirejs.config({paths});\n",
       "      require([\"vega-embed\"], displayChart, err => showError(`Error loading script: ${err.message}`));\n",
       "    } else {\n",
       "      maybeLoadScript(\"vega\", \"5\")\n",
       "        .then(() => maybeLoadScript(\"vega-lite\", \"4.17.0\"))\n",
       "        .then(() => maybeLoadScript(\"vega-embed\", \"6\"))\n",
       "        .catch(showError)\n",
       "        .then(() => displayChart(vegaEmbed));\n",
       "    }\n",
       "  })({\"config\": {\"view\": {\"continuousWidth\": 400, \"continuousHeight\": 300}}, \"data\": {\"name\": \"data-1d5514149360a070dd558e715f66cb12\"}, \"mark\": \"line\", \"encoding\": {\"color\": {\"field\": \"sentiment\", \"type\": \"nominal\"}, \"tooltip\": [{\"field\": \"time_concat\", \"type\": \"nominal\"}, {\"field\": \"count\", \"type\": \"quantitative\"}], \"x\": {\"axis\": {\"title\": \"Timeframe\"}, \"field\": \"time_concat\", \"type\": \"nominal\"}, \"y\": {\"axis\": {\"title\": \"Count of Comments\"}, \"field\": \"count\", \"type\": \"quantitative\"}}, \"height\": 500, \"resolve\": {\"scale\": {\"x\": \"independent\"}}, \"selection\": {\"selector004\": {\"type\": \"interval\", \"bind\": \"scales\", \"encodings\": [\"x\", \"y\"]}}, \"title\": {\"text\": \"Count of Comments\", \"subtitle\": \"Relationship between Time Period and Frequency of Comments for each Sentiment\"}, \"width\": 500, \"$schema\": \"https://vega.github.io/schema/vega-lite/v4.17.0.json\", \"datasets\": {\"data-1d5514149360a070dd558e715f66cb12\": [{\"year\": \"2019\", \"month\": \"07\", \"sentiment\": \"positive\", \"count\": 216169, \"time_concat\": \"2019_07\"}, {\"year\": \"2019\", \"month\": \"07\", \"sentiment\": \"neutral\", \"count\": 20650, \"time_concat\": \"2019_07\"}, {\"year\": \"2019\", \"month\": \"07\", \"sentiment\": \"negative\", \"count\": 135409, \"time_concat\": \"2019_07\"}, {\"year\": \"2019\", \"month\": \"08\", \"sentiment\": \"neutral\", \"count\": 22363, \"time_concat\": \"2019_08\"}, {\"year\": \"2019\", \"month\": \"08\", \"sentiment\": \"negative\", \"count\": 152548, \"time_concat\": \"2019_08\"}, {\"year\": \"2019\", \"month\": \"08\", \"sentiment\": \"positive\", \"count\": 240089, \"time_concat\": \"2019_08\"}, {\"year\": \"2019\", \"month\": \"09\", \"sentiment\": \"positive\", \"count\": 231262, \"time_concat\": \"2019_09\"}, {\"year\": \"2019\", \"month\": \"09\", \"sentiment\": \"neutral\", \"count\": 22198, \"time_concat\": \"2019_09\"}, {\"year\": \"2019\", \"month\": \"09\", \"sentiment\": \"negative\", \"count\": 145886, \"time_concat\": \"2019_09\"}, {\"year\": \"2019\", \"month\": \"10\", \"sentiment\": \"negative\", \"count\": 129249, \"time_concat\": \"2019_10\"}, {\"year\": \"2019\", \"month\": \"10\", \"sentiment\": \"positive\", \"count\": 192197, \"time_concat\": \"2019_10\"}, {\"year\": \"2019\", \"month\": \"10\", \"sentiment\": \"neutral\", \"count\": 18383, \"time_concat\": \"2019_10\"}, {\"year\": \"2019\", \"month\": \"11\", \"sentiment\": \"neutral\", \"count\": 21583, \"time_concat\": \"2019_11\"}, {\"year\": \"2019\", \"month\": \"11\", \"sentiment\": \"positive\", \"count\": 217816, \"time_concat\": \"2019_11\"}, {\"year\": \"2019\", \"month\": \"11\", \"sentiment\": \"negative\", \"count\": 147819, \"time_concat\": \"2019_11\"}, {\"year\": \"2019\", \"month\": \"12\", \"sentiment\": \"negative\", \"count\": 145516, \"time_concat\": \"2019_12\"}, {\"year\": \"2019\", \"month\": \"12\", \"sentiment\": \"neutral\", \"count\": 21162, \"time_concat\": \"2019_12\"}, {\"year\": \"2019\", \"month\": \"12\", \"sentiment\": \"positive\", \"count\": 211467, \"time_concat\": \"2019_12\"}, {\"year\": \"2020\", \"month\": \"01\", \"sentiment\": \"positive\", \"count\": 231719, \"time_concat\": \"2020_01\"}, {\"year\": \"2020\", \"month\": \"01\", \"sentiment\": \"neutral\", \"count\": 22618, \"time_concat\": \"2020_01\"}, {\"year\": \"2020\", \"month\": \"01\", \"sentiment\": \"negative\", \"count\": 153705, \"time_concat\": \"2020_01\"}, {\"year\": \"2020\", \"month\": \"02\", \"sentiment\": \"positive\", \"count\": 217510, \"time_concat\": \"2020_02\"}, {\"year\": \"2020\", \"month\": \"02\", \"sentiment\": \"negative\", \"count\": 142337, \"time_concat\": \"2020_02\"}, {\"year\": \"2020\", \"month\": \"02\", \"sentiment\": \"neutral\", \"count\": 21389, \"time_concat\": \"2020_02\"}, {\"year\": \"2020\", \"month\": \"03\", \"sentiment\": \"positive\", \"count\": 263643, \"time_concat\": \"2020_03\"}, {\"year\": \"2020\", \"month\": \"03\", \"sentiment\": \"neutral\", \"count\": 26112, \"time_concat\": \"2020_03\"}, {\"year\": \"2020\", \"month\": \"03\", \"sentiment\": \"negative\", \"count\": 180052, \"time_concat\": \"2020_03\"}, {\"year\": \"2020\", \"month\": \"04\", \"sentiment\": \"negative\", \"count\": 236243, \"time_concat\": \"2020_04\"}, {\"year\": \"2020\", \"month\": \"04\", \"sentiment\": \"positive\", \"count\": 326543, \"time_concat\": \"2020_04\"}, {\"year\": \"2020\", \"month\": \"04\", \"sentiment\": \"neutral\", \"count\": 31815, \"time_concat\": \"2020_04\"}, {\"year\": \"2020\", \"month\": \"05\", \"sentiment\": \"negative\", \"count\": 411397, \"time_concat\": \"2020_05\"}, {\"year\": \"2020\", \"month\": \"05\", \"sentiment\": \"positive\", \"count\": 549880, \"time_concat\": \"2020_05\"}, {\"year\": \"2020\", \"month\": \"05\", \"sentiment\": \"neutral\", \"count\": 54434, \"time_concat\": \"2020_05\"}, {\"year\": \"2020\", \"month\": \"06\", \"sentiment\": \"negative\", \"count\": 682801, \"time_concat\": \"2020_06\"}, {\"year\": \"2020\", \"month\": \"06\", \"sentiment\": \"positive\", \"count\": 884806, \"time_concat\": \"2020_06\"}, {\"year\": \"2020\", \"month\": \"06\", \"sentiment\": \"neutral\", \"count\": 86535, \"time_concat\": \"2020_06\"}, {\"year\": \"2020\", \"month\": \"07\", \"sentiment\": \"negative\", \"count\": 536113, \"time_concat\": \"2020_07\"}, {\"year\": \"2020\", \"month\": \"07\", \"sentiment\": \"positive\", \"count\": 731121, \"time_concat\": \"2020_07\"}, {\"year\": \"2020\", \"month\": \"07\", \"sentiment\": \"neutral\", \"count\": 68640, \"time_concat\": \"2020_07\"}, {\"year\": \"2020\", \"month\": \"08\", \"sentiment\": \"negative\", \"count\": 435450, \"time_concat\": \"2020_08\"}, {\"year\": \"2020\", \"month\": \"08\", \"sentiment\": \"neutral\", \"count\": 55748, \"time_concat\": \"2020_08\"}, {\"year\": \"2020\", \"month\": \"08\", \"sentiment\": \"positive\", \"count\": 607608, \"time_concat\": \"2020_08\"}, {\"year\": \"2020\", \"month\": \"09\", \"sentiment\": \"neutral\", \"count\": 47963, \"time_concat\": \"2020_09\"}, {\"year\": \"2020\", \"month\": \"09\", \"sentiment\": \"positive\", \"count\": 517556, \"time_concat\": \"2020_09\"}, {\"year\": \"2020\", \"month\": \"09\", \"sentiment\": \"negative\", \"count\": 368784, \"time_concat\": \"2020_09\"}, {\"year\": \"2020\", \"month\": \"10\", \"sentiment\": \"neutral\", \"count\": 44452, \"time_concat\": \"2020_10\"}, {\"year\": \"2020\", \"month\": \"10\", \"sentiment\": \"negative\", \"count\": 326898, \"time_concat\": \"2020_10\"}, {\"year\": \"2020\", \"month\": \"10\", \"sentiment\": \"positive\", \"count\": 473585, \"time_concat\": \"2020_10\"}, {\"year\": \"2020\", \"month\": \"11\", \"sentiment\": \"negative\", \"count\": 379104, \"time_concat\": \"2020_11\"}, {\"year\": \"2020\", \"month\": \"11\", \"sentiment\": \"positive\", \"count\": 550524, \"time_concat\": \"2020_11\"}, {\"year\": \"2020\", \"month\": \"11\", \"sentiment\": \"neutral\", \"count\": 53706, \"time_concat\": \"2020_11\"}, {\"year\": \"2020\", \"month\": \"12\", \"sentiment\": \"neutral\", \"count\": 41181, \"time_concat\": \"2020_12\"}, {\"year\": \"2020\", \"month\": \"12\", \"sentiment\": \"positive\", \"count\": 444298, \"time_concat\": \"2020_12\"}, {\"year\": \"2020\", \"month\": \"12\", \"sentiment\": \"negative\", \"count\": 317300, \"time_concat\": \"2020_12\"}, {\"year\": \"2021\", \"month\": \"01\", \"sentiment\": \"positive\", \"count\": 584642, \"time_concat\": \"2021_01\"}, {\"year\": \"2021\", \"month\": \"01\", \"sentiment\": \"negative\", \"count\": 429219, \"time_concat\": \"2021_01\"}, {\"year\": \"2021\", \"month\": \"01\", \"sentiment\": \"neutral\", \"count\": 61535, \"time_concat\": \"2021_01\"}, {\"year\": \"2021\", \"month\": \"02\", \"sentiment\": \"negative\", \"count\": 245140, \"time_concat\": \"2021_02\"}, {\"year\": \"2021\", \"month\": \"02\", \"sentiment\": \"neutral\", \"count\": 36705, \"time_concat\": \"2021_02\"}, {\"year\": \"2021\", \"month\": \"02\", \"sentiment\": \"positive\", \"count\": 345359, \"time_concat\": \"2021_02\"}, {\"year\": \"2021\", \"month\": \"03\", \"sentiment\": \"positive\", \"count\": 389496, \"time_concat\": \"2021_03\"}, {\"year\": \"2021\", \"month\": \"03\", \"sentiment\": \"negative\", \"count\": 284494, \"time_concat\": \"2021_03\"}, {\"year\": \"2021\", \"month\": \"03\", \"sentiment\": \"neutral\", \"count\": 40893, \"time_concat\": \"2021_03\"}, {\"year\": \"2021\", \"month\": \"04\", \"sentiment\": \"neutral\", \"count\": 45632, \"time_concat\": \"2021_04\"}, {\"year\": \"2021\", \"month\": \"04\", \"sentiment\": \"positive\", \"count\": 448981, \"time_concat\": \"2021_04\"}, {\"year\": \"2021\", \"month\": \"04\", \"sentiment\": \"negative\", \"count\": 334754, \"time_concat\": \"2021_04\"}, {\"year\": \"2021\", \"month\": \"05\", \"sentiment\": \"negative\", \"count\": 441715, \"time_concat\": \"2021_05\"}, {\"year\": \"2021\", \"month\": \"05\", \"sentiment\": \"neutral\", \"count\": 50866, \"time_concat\": \"2021_05\"}, {\"year\": \"2021\", \"month\": \"05\", \"sentiment\": \"positive\", \"count\": 483825, \"time_concat\": \"2021_05\"}, {\"year\": \"2021\", \"month\": \"06\", \"sentiment\": \"neutral\", \"count\": 52252, \"time_concat\": \"2021_06\"}, {\"year\": \"2021\", \"month\": \"06\", \"sentiment\": \"negative\", \"count\": 401353, \"time_concat\": \"2021_06\"}, {\"year\": \"2021\", \"month\": \"06\", \"sentiment\": \"positive\", \"count\": 519955, \"time_concat\": \"2021_06\"}]}}, {\"mode\": \"vega-lite\"});\n",
       "</script>"
      ],
      "text/plain": [
       "alt.Chart(...)"
      ]
     },
     "execution_count": 179,
     "metadata": {},
     "output_type": "execute_result"
    }
   ],
   "source": [
    "fig2 = (alt.Chart(sentiment_time_df).mark_line().encode(\n",
    "    x=alt.X('time_concat', axis = alt.Axis(title = \"Timeframe\")),\n",
    "    y=alt.Y('count', axis = alt.Axis(title = \"Count of Comments\")),\n",
    "    color='sentiment',    \n",
    "    tooltip=['time_concat','count']\n",
    ")).resolve_scale(x='independent').properties(title={\"text\":'Count of Comments',\"subtitle\" : \"Relationship between Time Period and Frequency of Comments for each Sentiment\"},width = 500, height = 500).interactive()\n",
    "\n",
    "fig2.save(\"fig2.html\")\n",
    "fig2"
   ]
  },
  {
   "cell_type": "markdown",
   "id": "849da071-1642-43f2-97d6-e06b9a164346",
   "metadata": {},
   "source": [
    "##### Sentiment of authors around covid"
   ]
  },
  {
   "cell_type": "code",
   "execution_count": 181,
   "id": "4e25401f-bea8-437d-9b93-dbce6f2ef91d",
   "metadata": {},
   "outputs": [],
   "source": [
    "sentiment_covid = sentiment_read.groupby('Pandemic_Freakout','sentiment').agg(F.avg('score'))"
   ]
  },
  {
   "cell_type": "code",
   "execution_count": 182,
   "id": "e20eac95-8594-46c6-b263-46798c78020f",
   "metadata": {},
   "outputs": [],
   "source": [
    "sentiment_covid = sentiment_covid.withColumnRenamed('avg(score)','average_score')"
   ]
  },
  {
   "cell_type": "code",
   "execution_count": 183,
   "id": "133c88c2-909e-4c55-ab47-1a169ef71d71",
   "metadata": {},
   "outputs": [
    {
     "name": "stderr",
     "output_type": "stream",
     "text": [
      "                                                                                \r"
     ]
    },
    {
     "name": "stdout",
     "output_type": "stream",
     "text": [
      "+-----------------+---------+------------------+\n",
      "|Pandemic_Freakout|sentiment|     average_score|\n",
      "+-----------------+---------+------------------+\n",
      "|           corona|  neutral|18.661516853932586|\n",
      "|            virus|  neutral| 11.61215932914046|\n",
      "|            virus| negative|11.208408528841655|\n",
      "|            masks| positive|15.556957011851445|\n",
      "|         pandemic| positive| 15.93591145121618|\n",
      "|            covid|  neutral| 12.82067415730337|\n",
      "|                 |     null|           5.79875|\n",
      "|                 |  neutral|14.973012614589047|\n",
      "|            masks| negative|14.785119574844996|\n",
      "|         pandemic|  neutral| 24.19124087591241|\n",
      "|           corona| negative|13.306956201693044|\n",
      "|         pandemic| negative| 18.04567284132118|\n",
      "|                 | negative|13.945360261043453|\n",
      "|            virus| positive|10.075320849989481|\n",
      "|            covid| positive| 17.26737085805238|\n",
      "|                 | positive|14.725523070829738|\n",
      "|            covid| negative|19.250790647384783|\n",
      "|           corona| positive|21.394075229000194|\n",
      "|            masks|  neutral| 20.07885791978246|\n",
      "+-----------------+---------+------------------+\n",
      "\n"
     ]
    }
   ],
   "source": [
    "sentiment_covid.show()"
   ]
  },
  {
   "cell_type": "code",
   "execution_count": 184,
   "id": "3cf7e788-127a-4b0f-8086-4b7b2d0d564e",
   "metadata": {},
   "outputs": [
    {
     "name": "stderr",
     "output_type": "stream",
     "text": [
      "                                                                                \r"
     ]
    }
   ],
   "source": [
    "sentiment_covid = sentiment_covid.toPandas()"
   ]
  },
  {
   "cell_type": "code",
   "execution_count": 185,
   "id": "610ded8c-6ebb-4c0f-b6ab-c4bd5dd25759",
   "metadata": {},
   "outputs": [],
   "source": [
    "sentiment_covid = sentiment_covid.dropna(subset=['sentiment'])"
   ]
  },
  {
   "cell_type": "markdown",
   "id": "0e8b40b6-a700-4915-856e-9ad235633f6f",
   "metadata": {},
   "source": [
    "##### Summary Table"
   ]
  },
  {
   "cell_type": "code",
   "execution_count": 186,
   "id": "7777d801-be2f-4dfa-b4ae-b94655e541b1",
   "metadata": {},
   "outputs": [
    {
     "data": {
      "text/html": [
       "<div>\n",
       "<style scoped>\n",
       "    .dataframe tbody tr th:only-of-type {\n",
       "        vertical-align: middle;\n",
       "    }\n",
       "\n",
       "    .dataframe tbody tr th {\n",
       "        vertical-align: top;\n",
       "    }\n",
       "\n",
       "    .dataframe thead th {\n",
       "        text-align: right;\n",
       "    }\n",
       "</style>\n",
       "<table border=\"1\" class=\"dataframe\">\n",
       "  <thead>\n",
       "    <tr style=\"text-align: right;\">\n",
       "      <th></th>\n",
       "      <th>Pandemic_Freakout</th>\n",
       "      <th>sentiment</th>\n",
       "      <th>average_score</th>\n",
       "    </tr>\n",
       "  </thead>\n",
       "  <tbody>\n",
       "    <tr>\n",
       "      <th>0</th>\n",
       "      <td>corona</td>\n",
       "      <td>neutral</td>\n",
       "      <td>18.661517</td>\n",
       "    </tr>\n",
       "    <tr>\n",
       "      <th>1</th>\n",
       "      <td>virus</td>\n",
       "      <td>neutral</td>\n",
       "      <td>11.612159</td>\n",
       "    </tr>\n",
       "    <tr>\n",
       "      <th>2</th>\n",
       "      <td>virus</td>\n",
       "      <td>negative</td>\n",
       "      <td>11.208409</td>\n",
       "    </tr>\n",
       "    <tr>\n",
       "      <th>3</th>\n",
       "      <td>masks</td>\n",
       "      <td>positive</td>\n",
       "      <td>15.556957</td>\n",
       "    </tr>\n",
       "    <tr>\n",
       "      <th>4</th>\n",
       "      <td>pandemic</td>\n",
       "      <td>positive</td>\n",
       "      <td>15.935911</td>\n",
       "    </tr>\n",
       "    <tr>\n",
       "      <th>5</th>\n",
       "      <td>covid</td>\n",
       "      <td>neutral</td>\n",
       "      <td>12.820674</td>\n",
       "    </tr>\n",
       "    <tr>\n",
       "      <th>7</th>\n",
       "      <td></td>\n",
       "      <td>neutral</td>\n",
       "      <td>14.973013</td>\n",
       "    </tr>\n",
       "    <tr>\n",
       "      <th>8</th>\n",
       "      <td>masks</td>\n",
       "      <td>negative</td>\n",
       "      <td>14.785120</td>\n",
       "    </tr>\n",
       "    <tr>\n",
       "      <th>9</th>\n",
       "      <td>pandemic</td>\n",
       "      <td>neutral</td>\n",
       "      <td>24.191241</td>\n",
       "    </tr>\n",
       "    <tr>\n",
       "      <th>10</th>\n",
       "      <td>corona</td>\n",
       "      <td>negative</td>\n",
       "      <td>13.306956</td>\n",
       "    </tr>\n",
       "    <tr>\n",
       "      <th>11</th>\n",
       "      <td>pandemic</td>\n",
       "      <td>negative</td>\n",
       "      <td>18.045673</td>\n",
       "    </tr>\n",
       "    <tr>\n",
       "      <th>12</th>\n",
       "      <td></td>\n",
       "      <td>negative</td>\n",
       "      <td>13.945360</td>\n",
       "    </tr>\n",
       "    <tr>\n",
       "      <th>13</th>\n",
       "      <td>virus</td>\n",
       "      <td>positive</td>\n",
       "      <td>10.075321</td>\n",
       "    </tr>\n",
       "    <tr>\n",
       "      <th>14</th>\n",
       "      <td>covid</td>\n",
       "      <td>positive</td>\n",
       "      <td>17.267371</td>\n",
       "    </tr>\n",
       "    <tr>\n",
       "      <th>15</th>\n",
       "      <td></td>\n",
       "      <td>positive</td>\n",
       "      <td>14.725523</td>\n",
       "    </tr>\n",
       "    <tr>\n",
       "      <th>16</th>\n",
       "      <td>covid</td>\n",
       "      <td>negative</td>\n",
       "      <td>19.250791</td>\n",
       "    </tr>\n",
       "    <tr>\n",
       "      <th>17</th>\n",
       "      <td>corona</td>\n",
       "      <td>positive</td>\n",
       "      <td>21.394075</td>\n",
       "    </tr>\n",
       "    <tr>\n",
       "      <th>18</th>\n",
       "      <td>masks</td>\n",
       "      <td>neutral</td>\n",
       "      <td>20.078858</td>\n",
       "    </tr>\n",
       "  </tbody>\n",
       "</table>\n",
       "</div>"
      ],
      "text/plain": [
       "   Pandemic_Freakout sentiment  average_score\n",
       "0             corona   neutral      18.661517\n",
       "1              virus   neutral      11.612159\n",
       "2              virus  negative      11.208409\n",
       "3              masks  positive      15.556957\n",
       "4           pandemic  positive      15.935911\n",
       "5              covid   neutral      12.820674\n",
       "7                      neutral      14.973013\n",
       "8              masks  negative      14.785120\n",
       "9           pandemic   neutral      24.191241\n",
       "10            corona  negative      13.306956\n",
       "11          pandemic  negative      18.045673\n",
       "12                    negative      13.945360\n",
       "13             virus  positive      10.075321\n",
       "14             covid  positive      17.267371\n",
       "15                    positive      14.725523\n",
       "16             covid  negative      19.250791\n",
       "17            corona  positive      21.394075\n",
       "18             masks   neutral      20.078858"
      ]
     },
     "execution_count": 186,
     "metadata": {},
     "output_type": "execute_result"
    }
   ],
   "source": [
    "sentiment_covid.head(20)"
   ]
  },
  {
   "cell_type": "code",
   "execution_count": 187,
   "id": "0c7cf36a-e120-4dd1-aefd-bb7e8f9004d9",
   "metadata": {},
   "outputs": [
    {
     "data": {
      "text/html": [
       "\n",
       "<div id=\"altair-viz-92a89f5592654824ad87cb38d03c3071\"></div>\n",
       "<script type=\"text/javascript\">\n",
       "  var VEGA_DEBUG = (typeof VEGA_DEBUG == \"undefined\") ? {} : VEGA_DEBUG;\n",
       "  (function(spec, embedOpt){\n",
       "    let outputDiv = document.currentScript.previousElementSibling;\n",
       "    if (outputDiv.id !== \"altair-viz-92a89f5592654824ad87cb38d03c3071\") {\n",
       "      outputDiv = document.getElementById(\"altair-viz-92a89f5592654824ad87cb38d03c3071\");\n",
       "    }\n",
       "    const paths = {\n",
       "      \"vega\": \"https://cdn.jsdelivr.net/npm//vega@5?noext\",\n",
       "      \"vega-lib\": \"https://cdn.jsdelivr.net/npm//vega-lib?noext\",\n",
       "      \"vega-lite\": \"https://cdn.jsdelivr.net/npm//vega-lite@4.17.0?noext\",\n",
       "      \"vega-embed\": \"https://cdn.jsdelivr.net/npm//vega-embed@6?noext\",\n",
       "    };\n",
       "\n",
       "    function maybeLoadScript(lib, version) {\n",
       "      var key = `${lib.replace(\"-\", \"\")}_version`;\n",
       "      return (VEGA_DEBUG[key] == version) ?\n",
       "        Promise.resolve(paths[lib]) :\n",
       "        new Promise(function(resolve, reject) {\n",
       "          var s = document.createElement('script');\n",
       "          document.getElementsByTagName(\"head\")[0].appendChild(s);\n",
       "          s.async = true;\n",
       "          s.onload = () => {\n",
       "            VEGA_DEBUG[key] = version;\n",
       "            return resolve(paths[lib]);\n",
       "          };\n",
       "          s.onerror = () => reject(`Error loading script: ${paths[lib]}`);\n",
       "          s.src = paths[lib];\n",
       "        });\n",
       "    }\n",
       "\n",
       "    function showError(err) {\n",
       "      outputDiv.innerHTML = `<div class=\"error\" style=\"color:red;\">${err}</div>`;\n",
       "      throw err;\n",
       "    }\n",
       "\n",
       "    function displayChart(vegaEmbed) {\n",
       "      vegaEmbed(outputDiv, spec, embedOpt)\n",
       "        .catch(err => showError(`Javascript Error: ${err.message}<br>This usually means there's a typo in your chart specification. See the javascript console for the full traceback.`));\n",
       "    }\n",
       "\n",
       "    if(typeof define === \"function\" && define.amd) {\n",
       "      requirejs.config({paths});\n",
       "      require([\"vega-embed\"], displayChart, err => showError(`Error loading script: ${err.message}`));\n",
       "    } else {\n",
       "      maybeLoadScript(\"vega\", \"5\")\n",
       "        .then(() => maybeLoadScript(\"vega-lite\", \"4.17.0\"))\n",
       "        .then(() => maybeLoadScript(\"vega-embed\", \"6\"))\n",
       "        .catch(showError)\n",
       "        .then(() => displayChart(vegaEmbed));\n",
       "    }\n",
       "  })({\"config\": {\"view\": {\"continuousWidth\": 400, \"continuousHeight\": 300}}, \"data\": {\"name\": \"data-972da45d4b11436be641e23e05732f71\"}, \"mark\": \"bar\", \"encoding\": {\"color\": {\"field\": \"sentiment\", \"type\": \"nominal\"}, \"tooltip\": [{\"field\": \"Pandemic_Freakout\", \"type\": \"nominal\"}, {\"field\": \"average_score\", \"type\": \"quantitative\"}, {\"field\": \"sentiment\", \"type\": \"nominal\"}], \"x\": {\"axis\": {\"title\": \"Covid Terms\"}, \"field\": \"Pandemic_Freakout\", \"sort\": \"-y\", \"type\": \"nominal\"}, \"y\": {\"axis\": {\"title\": \"Average Score\"}, \"field\": \"average_score\", \"type\": \"quantitative\"}}, \"height\": 500, \"title\": {\"text\": \"Covid Sentiment\", \"subtitle\": \"Sentiment of authors through each comment revolving around covid\"}, \"width\": 500, \"$schema\": \"https://vega.github.io/schema/vega-lite/v4.17.0.json\", \"datasets\": {\"data-972da45d4b11436be641e23e05732f71\": [{\"Pandemic_Freakout\": \"corona\", \"sentiment\": \"neutral\", \"average_score\": 18.661516853932586}, {\"Pandemic_Freakout\": \"virus\", \"sentiment\": \"neutral\", \"average_score\": 11.61215932914046}, {\"Pandemic_Freakout\": \"virus\", \"sentiment\": \"negative\", \"average_score\": 11.208408528841655}, {\"Pandemic_Freakout\": \"masks\", \"sentiment\": \"positive\", \"average_score\": 15.556957011851445}, {\"Pandemic_Freakout\": \"pandemic\", \"sentiment\": \"positive\", \"average_score\": 15.93591145121618}, {\"Pandemic_Freakout\": \"covid\", \"sentiment\": \"neutral\", \"average_score\": 12.82067415730337}, {\"Pandemic_Freakout\": \"\", \"sentiment\": \"neutral\", \"average_score\": 14.973012614589047}, {\"Pandemic_Freakout\": \"masks\", \"sentiment\": \"negative\", \"average_score\": 14.785119574844996}, {\"Pandemic_Freakout\": \"pandemic\", \"sentiment\": \"neutral\", \"average_score\": 24.19124087591241}, {\"Pandemic_Freakout\": \"corona\", \"sentiment\": \"negative\", \"average_score\": 13.306956201693044}, {\"Pandemic_Freakout\": \"pandemic\", \"sentiment\": \"negative\", \"average_score\": 18.04567284132118}, {\"Pandemic_Freakout\": \"\", \"sentiment\": \"negative\", \"average_score\": 13.945360261043453}, {\"Pandemic_Freakout\": \"virus\", \"sentiment\": \"positive\", \"average_score\": 10.075320849989481}, {\"Pandemic_Freakout\": \"covid\", \"sentiment\": \"positive\", \"average_score\": 17.26737085805238}, {\"Pandemic_Freakout\": \"\", \"sentiment\": \"positive\", \"average_score\": 14.725523070829738}, {\"Pandemic_Freakout\": \"covid\", \"sentiment\": \"negative\", \"average_score\": 19.250790647384783}, {\"Pandemic_Freakout\": \"corona\", \"sentiment\": \"positive\", \"average_score\": 21.394075229000194}, {\"Pandemic_Freakout\": \"masks\", \"sentiment\": \"neutral\", \"average_score\": 20.07885791978246}]}}, {\"mode\": \"vega-lite\"});\n",
       "</script>"
      ],
      "text/plain": [
       "alt.Chart(...)"
      ]
     },
     "execution_count": 187,
     "metadata": {},
     "output_type": "execute_result"
    }
   ],
   "source": [
    "fig3 = (alt.Chart(sentiment_covid).mark_bar().encode(\n",
    "    x=alt.X('Pandemic_Freakout', axis = alt.Axis(title = \"Covid Terms\"),sort='-y'),\n",
    "    y=alt.Y('average_score', axis = alt.Axis(title = \"Average Score\")),\n",
    "    color='sentiment',\n",
    "    tooltip=['Pandemic_Freakout','average_score','sentiment']\n",
    ")).properties(title={\"text\":'Covid Sentiment',\"subtitle\" : \"Sentiment of authors through each comment revolving around covid\"},width = 500, height = 500)\n",
    "\n",
    "fig.save(\"fig3.html\")\n",
    "fig3"
   ]
  },
  {
   "cell_type": "markdown",
   "id": "780c4951-4f82-4c24-98e9-a9ce00b4faab",
   "metadata": {},
   "source": [
    "##### controversiality"
   ]
  },
  {
   "cell_type": "code",
   "execution_count": 190,
   "id": "e7726304-7fe9-42fd-9567-dbcaad07b464",
   "metadata": {},
   "outputs": [],
   "source": [
    "sentiment_bar = sentiment_read.groupby('controversiality','sentiment').agg(F.avg('score'))"
   ]
  },
  {
   "cell_type": "code",
   "execution_count": 191,
   "id": "42009501-5e49-4b55-b3bf-5e187612ed70",
   "metadata": {},
   "outputs": [],
   "source": [
    "sentiment_bar = sentiment_bar.withColumnRenamed('avg(score)','average_score')"
   ]
  },
  {
   "cell_type": "code",
   "execution_count": 192,
   "id": "ad9fb24e-8712-462c-a6d4-259eed9879bd",
   "metadata": {},
   "outputs": [
    {
     "name": "stderr",
     "output_type": "stream",
     "text": [
      "                                                                                \r"
     ]
    },
    {
     "name": "stdout",
     "output_type": "stream",
     "text": [
      "+----------------+---------+-------------------+\n",
      "|controversiality|sentiment|      average_score|\n",
      "+----------------+---------+-------------------+\n",
      "|               0|  neutral| 15.731455497859258|\n",
      "|               1| negative| 0.6144336834713404|\n",
      "|               1| positive| 0.3619774973596332|\n",
      "|               0| negative| 14.649875335629206|\n",
      "|               1|     null|0.27723321620122066|\n",
      "|               0|     null|  6.087501088081398|\n",
      "|               1|  neutral| 0.5500021304699817|\n",
      "|               0| positive| 15.488053330822497|\n",
      "+----------------+---------+-------------------+\n",
      "\n"
     ]
    }
   ],
   "source": [
    "sentiment_bar.show()"
   ]
  },
  {
   "cell_type": "code",
   "execution_count": 193,
   "id": "79b16fac-d40e-4a81-8746-efc5fcb39101",
   "metadata": {},
   "outputs": [
    {
     "name": "stderr",
     "output_type": "stream",
     "text": [
      "                                                                                \r"
     ]
    }
   ],
   "source": [
    "sentiment_bar = sentiment_bar.toPandas()"
   ]
  },
  {
   "cell_type": "code",
   "execution_count": 194,
   "id": "500d2a51-ac9b-4428-98b7-527906be5c8c",
   "metadata": {},
   "outputs": [],
   "source": [
    "sentiment_bar = sentiment_bar.dropna(subset=['sentiment']).reset_index().drop('index',axis = 1)"
   ]
  },
  {
   "cell_type": "markdown",
   "id": "51c7a0e2-8154-4f74-8afb-b0fb1b0cf7f1",
   "metadata": {},
   "source": [
    "##### Summary Table"
   ]
  },
  {
   "cell_type": "code",
   "execution_count": 195,
   "id": "852bd158-5a07-4938-ab98-755e9f7e571e",
   "metadata": {},
   "outputs": [
    {
     "data": {
      "text/html": [
       "<div>\n",
       "<style scoped>\n",
       "    .dataframe tbody tr th:only-of-type {\n",
       "        vertical-align: middle;\n",
       "    }\n",
       "\n",
       "    .dataframe tbody tr th {\n",
       "        vertical-align: top;\n",
       "    }\n",
       "\n",
       "    .dataframe thead th {\n",
       "        text-align: right;\n",
       "    }\n",
       "</style>\n",
       "<table border=\"1\" class=\"dataframe\">\n",
       "  <thead>\n",
       "    <tr style=\"text-align: right;\">\n",
       "      <th></th>\n",
       "      <th>controversiality</th>\n",
       "      <th>sentiment</th>\n",
       "      <th>average_score</th>\n",
       "    </tr>\n",
       "  </thead>\n",
       "  <tbody>\n",
       "    <tr>\n",
       "      <th>0</th>\n",
       "      <td>0</td>\n",
       "      <td>neutral</td>\n",
       "      <td>15.731455</td>\n",
       "    </tr>\n",
       "    <tr>\n",
       "      <th>1</th>\n",
       "      <td>1</td>\n",
       "      <td>negative</td>\n",
       "      <td>0.614434</td>\n",
       "    </tr>\n",
       "    <tr>\n",
       "      <th>2</th>\n",
       "      <td>1</td>\n",
       "      <td>positive</td>\n",
       "      <td>0.361977</td>\n",
       "    </tr>\n",
       "    <tr>\n",
       "      <th>3</th>\n",
       "      <td>0</td>\n",
       "      <td>negative</td>\n",
       "      <td>14.649875</td>\n",
       "    </tr>\n",
       "    <tr>\n",
       "      <th>4</th>\n",
       "      <td>1</td>\n",
       "      <td>neutral</td>\n",
       "      <td>0.550002</td>\n",
       "    </tr>\n",
       "    <tr>\n",
       "      <th>5</th>\n",
       "      <td>0</td>\n",
       "      <td>positive</td>\n",
       "      <td>15.488053</td>\n",
       "    </tr>\n",
       "  </tbody>\n",
       "</table>\n",
       "</div>"
      ],
      "text/plain": [
       "   controversiality sentiment  average_score\n",
       "0                 0   neutral      15.731455\n",
       "1                 1  negative       0.614434\n",
       "2                 1  positive       0.361977\n",
       "3                 0  negative      14.649875\n",
       "4                 1   neutral       0.550002\n",
       "5                 0  positive      15.488053"
      ]
     },
     "execution_count": 195,
     "metadata": {},
     "output_type": "execute_result"
    }
   ],
   "source": [
    "sentiment_bar.head(10)"
   ]
  },
  {
   "cell_type": "code",
   "execution_count": 197,
   "id": "f0d9ab76-645a-449e-84c9-d80a14c0111f",
   "metadata": {},
   "outputs": [],
   "source": [
    "sentiment_bar[\"controversiality\"] = sentiment_bar[\"controversiality\"].astype(\"category\")"
   ]
  },
  {
   "cell_type": "code",
   "execution_count": 198,
   "id": "a59c2a3f-8f89-4442-aad3-fd72977a43af",
   "metadata": {},
   "outputs": [
    {
     "data": {
      "text/html": [
       "\n",
       "<div id=\"altair-viz-e58be2eb3d034a96a6bc97279b73a276\"></div>\n",
       "<script type=\"text/javascript\">\n",
       "  var VEGA_DEBUG = (typeof VEGA_DEBUG == \"undefined\") ? {} : VEGA_DEBUG;\n",
       "  (function(spec, embedOpt){\n",
       "    let outputDiv = document.currentScript.previousElementSibling;\n",
       "    if (outputDiv.id !== \"altair-viz-e58be2eb3d034a96a6bc97279b73a276\") {\n",
       "      outputDiv = document.getElementById(\"altair-viz-e58be2eb3d034a96a6bc97279b73a276\");\n",
       "    }\n",
       "    const paths = {\n",
       "      \"vega\": \"https://cdn.jsdelivr.net/npm//vega@5?noext\",\n",
       "      \"vega-lib\": \"https://cdn.jsdelivr.net/npm//vega-lib?noext\",\n",
       "      \"vega-lite\": \"https://cdn.jsdelivr.net/npm//vega-lite@4.17.0?noext\",\n",
       "      \"vega-embed\": \"https://cdn.jsdelivr.net/npm//vega-embed@6?noext\",\n",
       "    };\n",
       "\n",
       "    function maybeLoadScript(lib, version) {\n",
       "      var key = `${lib.replace(\"-\", \"\")}_version`;\n",
       "      return (VEGA_DEBUG[key] == version) ?\n",
       "        Promise.resolve(paths[lib]) :\n",
       "        new Promise(function(resolve, reject) {\n",
       "          var s = document.createElement('script');\n",
       "          document.getElementsByTagName(\"head\")[0].appendChild(s);\n",
       "          s.async = true;\n",
       "          s.onload = () => {\n",
       "            VEGA_DEBUG[key] = version;\n",
       "            return resolve(paths[lib]);\n",
       "          };\n",
       "          s.onerror = () => reject(`Error loading script: ${paths[lib]}`);\n",
       "          s.src = paths[lib];\n",
       "        });\n",
       "    }\n",
       "\n",
       "    function showError(err) {\n",
       "      outputDiv.innerHTML = `<div class=\"error\" style=\"color:red;\">${err}</div>`;\n",
       "      throw err;\n",
       "    }\n",
       "\n",
       "    function displayChart(vegaEmbed) {\n",
       "      vegaEmbed(outputDiv, spec, embedOpt)\n",
       "        .catch(err => showError(`Javascript Error: ${err.message}<br>This usually means there's a typo in your chart specification. See the javascript console for the full traceback.`));\n",
       "    }\n",
       "\n",
       "    if(typeof define === \"function\" && define.amd) {\n",
       "      requirejs.config({paths});\n",
       "      require([\"vega-embed\"], displayChart, err => showError(`Error loading script: ${err.message}`));\n",
       "    } else {\n",
       "      maybeLoadScript(\"vega\", \"5\")\n",
       "        .then(() => maybeLoadScript(\"vega-lite\", \"4.17.0\"))\n",
       "        .then(() => maybeLoadScript(\"vega-embed\", \"6\"))\n",
       "        .catch(showError)\n",
       "        .then(() => displayChart(vegaEmbed));\n",
       "    }\n",
       "  })({\"config\": {\"view\": {\"continuousWidth\": 400, \"continuousHeight\": 300}}, \"data\": {\"name\": \"data-f69c3b54f352abc56fe13c14448f063a\"}, \"mark\": \"bar\", \"encoding\": {\"color\": {\"field\": \"sentiment\", \"type\": \"nominal\"}, \"tooltip\": [{\"field\": \"controversiality\", \"type\": \"nominal\"}, {\"field\": \"average_score\", \"type\": \"quantitative\"}, {\"field\": \"sentiment\", \"type\": \"nominal\"}], \"x\": {\"axis\": {\"title\": \"Covid Terms\"}, \"field\": \"controversiality\", \"type\": \"nominal\"}, \"y\": {\"axis\": {\"title\": \"Score\"}, \"field\": \"average_score\", \"type\": \"quantitative\"}}, \"height\": 500, \"title\": {\"text\": \"Covid Sentiment\", \"subtitle\": \"Sentiment of authors through each comment revolving around covid\"}, \"width\": 500, \"$schema\": \"https://vega.github.io/schema/vega-lite/v4.17.0.json\", \"datasets\": {\"data-f69c3b54f352abc56fe13c14448f063a\": [{\"controversiality\": 0, \"sentiment\": \"neutral\", \"average_score\": 15.731455497859258}, {\"controversiality\": 1, \"sentiment\": \"negative\", \"average_score\": 0.6144336834713404}, {\"controversiality\": 1, \"sentiment\": \"positive\", \"average_score\": 0.3619774973596332}, {\"controversiality\": 0, \"sentiment\": \"negative\", \"average_score\": 14.649875335629206}, {\"controversiality\": 1, \"sentiment\": \"neutral\", \"average_score\": 0.5500021304699817}, {\"controversiality\": 0, \"sentiment\": \"positive\", \"average_score\": 15.488053330822497}]}}, {\"mode\": \"vega-lite\"});\n",
       "</script>"
      ],
      "text/plain": [
       "alt.Chart(...)"
      ]
     },
     "execution_count": 198,
     "metadata": {},
     "output_type": "execute_result"
    }
   ],
   "source": [
    "fig4 = (alt.Chart(sentiment_bar).mark_bar().encode(\n",
    "    x=alt.X('controversiality', axis = alt.Axis(title = \"Covid Terms\")),\n",
    "    y=alt.Y('average_score', axis = alt.Axis(title = \"Score\")),\n",
    "    color='sentiment',\n",
    "    tooltip=['controversiality','average_score','sentiment']\n",
    ")).properties(title={\"text\":'Covid Sentiment',\"subtitle\" : \"Sentiment of authors through each comment revolving around covid\"},width = 500, height = 500)\n",
    "\n",
    "fig4"
   ]
  },
  {
   "cell_type": "code",
   "execution_count": null,
   "id": "27561037-ec19-4cc7-ab2d-4f05f92abb52",
   "metadata": {},
   "outputs": [],
   "source": []
  },
  {
   "cell_type": "code",
   "execution_count": null,
   "id": "e4a3fa26-17fb-43e0-a46e-35d172ee5265",
   "metadata": {},
   "outputs": [],
   "source": []
  },
  {
   "cell_type": "code",
   "execution_count": null,
   "id": "3c652240-ecb2-4098-ad1d-49fe2f8b184d",
   "metadata": {},
   "outputs": [],
   "source": [
    "spark.stop()\n"
   ]
  }
 ],
 "metadata": {
  "kernelspec": {
   "display_name": "Python 3 (ipykernel)",
   "language": "python",
   "name": "python3"
  },
  "language_info": {
   "codemirror_mode": {
    "name": "ipython",
    "version": 3
   },
   "file_extension": ".py",
   "mimetype": "text/x-python",
   "name": "python",
   "nbconvert_exporter": "python",
   "pygments_lexer": "ipython3",
   "version": "3.7.11"
  }
 },
 "nbformat": 4,
 "nbformat_minor": 5
}
