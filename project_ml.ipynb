{
 "cells": [
  {
   "cell_type": "code",
   "execution_count": 1,
   "id": "44eb6ed5-4346-4702-bd10-6955ec43b9c9",
   "metadata": {},
   "outputs": [],
   "source": [
    "import findspark\n",
    "findspark.init()"
   ]
  },
  {
   "cell_type": "code",
   "execution_count": 2,
   "id": "b0d559c0-d4a5-4526-aff3-128005467c11",
   "metadata": {},
   "outputs": [],
   "source": [
    "#Importing libraries\n",
    "import pyspark.sql.functions as f\n",
    "from pyspark.sql.functions import col, lit\n",
    "from pyspark.sql import SparkSession"
   ]
  },
  {
   "cell_type": "code",
   "execution_count": 3,
   "id": "f2fe0544-551d-450c-9c28-a703e8e48f29",
   "metadata": {},
   "outputs": [
    {
     "name": "stderr",
     "output_type": "stream",
     "text": [
      "Setting default log level to \"WARN\".\n",
      "To adjust logging level use sc.setLogLevel(newLevel). For SparkR, use setLogLevel(newLevel).\n",
      "22/04/29 20:16:22 WARN Client: Neither spark.yarn.jars nor spark.yarn.archive is set, falling back to uploading libraries under SPARK_HOME.\n",
      "22/04/29 20:16:33 WARN YarnSchedulerBackend$YarnSchedulerEndpoint: Attempted to request executors before the AM has registered!\n"
     ]
    }
   ],
   "source": [
    "spark = SparkSession.builder.appName(\"machinelearning\").getOrCreate()"
   ]
  },
  {
   "cell_type": "code",
   "execution_count": 4,
   "id": "3556851a-c8dc-40e4-902b-fbc873a1decf",
   "metadata": {},
   "outputs": [
    {
     "data": {
      "text/html": [
       "\n",
       "            <div>\n",
       "                <p><b>SparkSession - in-memory</b></p>\n",
       "                \n",
       "        <div>\n",
       "            <p><b>SparkContext</b></p>\n",
       "\n",
       "            <p><a href=\"http://ip-172-31-80-5.ec2.internal:4040\">Spark UI</a></p>\n",
       "\n",
       "            <dl>\n",
       "              <dt>Version</dt>\n",
       "                <dd><code>v3.0.0-amzn-0</code></dd>\n",
       "              <dt>Master</dt>\n",
       "                <dd><code>yarn</code></dd>\n",
       "              <dt>AppName</dt>\n",
       "                <dd><code>machinelearning</code></dd>\n",
       "            </dl>\n",
       "        </div>\n",
       "        \n",
       "            </div>\n",
       "        "
      ],
      "text/plain": [
       "<pyspark.sql.session.SparkSession at 0x7ff2083b8390>"
      ]
     },
     "execution_count": 4,
     "metadata": {},
     "output_type": "execute_result"
    }
   ],
   "source": [
    "#Checking the status of spark session\n",
    "spark"
   ]
  },
  {
   "cell_type": "markdown",
   "id": "35ab75a8-b1f3-4e6e-b9b6-bdebb4ddad72",
   "metadata": {},
   "source": [
    "### Reading the dataset from s3"
   ]
  },
  {
   "cell_type": "code",
   "execution_count": 7,
   "id": "e1f006fe-ba5c-4c49-a934-76247e8dae76",
   "metadata": {},
   "outputs": [],
   "source": [
    "df_full = spark.read.parquet('s3://ssp88-labdata2/eda_df_full')"
   ]
  },
  {
   "cell_type": "code",
   "execution_count": 8,
   "id": "13447a62-5766-4791-af1d-8f91e0e093a0",
   "metadata": {},
   "outputs": [
    {
     "name": "stdout",
     "output_type": "stream",
     "text": [
      "root\n",
      " |-- all_awardings: string (nullable = true)\n",
      " |-- author: string (nullable = true)\n",
      " |-- author_created_utc: double (nullable = true)\n",
      " |-- author_flair_richtext: string (nullable = true)\n",
      " |-- author_flair_type: string (nullable = true)\n",
      " |-- author_fullname: string (nullable = true)\n",
      " |-- author_patreon_flair: boolean (nullable = true)\n",
      " |-- author_premium: boolean (nullable = true)\n",
      " |-- awarders: string (nullable = true)\n",
      " |-- body: string (nullable = true)\n",
      " |-- can_gild: boolean (nullable = true)\n",
      " |-- can_mod_post: boolean (nullable = true)\n",
      " |-- collapsed: boolean (nullable = true)\n",
      " |-- controversiality: long (nullable = true)\n",
      " |-- created_utc: long (nullable = true)\n",
      " |-- gilded: long (nullable = true)\n",
      " |-- gildings: string (nullable = true)\n",
      " |-- id: string (nullable = true)\n",
      " |-- is_submitter: boolean (nullable = true)\n",
      " |-- link_id: string (nullable = true)\n",
      " |-- locked: boolean (nullable = true)\n",
      " |-- no_follow: boolean (nullable = true)\n",
      " |-- parent_id: string (nullable = true)\n",
      " |-- permalink: string (nullable = true)\n",
      " |-- quarantined: boolean (nullable = true)\n",
      " |-- retrieved_on: long (nullable = true)\n",
      " |-- score: long (nullable = true)\n",
      " |-- send_replies: boolean (nullable = true)\n",
      " |-- stickied: boolean (nullable = true)\n",
      " |-- subreddit_id: string (nullable = true)\n",
      " |-- subreddit_name_prefixed: string (nullable = true)\n",
      " |-- subreddit_type: string (nullable = true)\n",
      " |-- total_awards_received: long (nullable = true)\n",
      " |-- treatment_tags: string (nullable = true)\n",
      " |-- editable: boolean (nullable = true)\n",
      " |-- ym_partition: integer (nullable = true)\n",
      " |-- comment_date: string (nullable = true)\n",
      " |-- year: string (nullable = true)\n",
      " |-- month: string (nullable = true)\n",
      " |-- hour: string (nullable = true)\n",
      " |-- original_post: string (nullable = true)\n",
      "\n"
     ]
    }
   ],
   "source": [
    "df_full.printSchema()"
   ]
  },
  {
   "cell_type": "code",
   "execution_count": 9,
   "id": "c3be5742-51be-4e0f-b646-9d4efe9c351b",
   "metadata": {},
   "outputs": [],
   "source": [
    "#Checking the length of the comment \n",
    "df_full = df_full.withColumn(\"comment_length\", f.length(col('body')))"
   ]
  },
  {
   "cell_type": "markdown",
   "id": "6014cc51-c895-4cb8-a2d6-3ab1c60213bf",
   "metadata": {},
   "source": [
    "### Question 1 : Predict Score of the comment"
   ]
  },
  {
   "cell_type": "code",
   "execution_count": 188,
   "id": "db9b8a87-7bed-4d91-affb-8123088e6611",
   "metadata": {},
   "outputs": [],
   "source": [
    "#Selecting necessary columns\n",
    "df_score = df_sentiment.select(['sentiment', 'controversiality','total_awards_received','comment_length','hour', 'score'] )"
   ]
  },
  {
   "cell_type": "code",
   "execution_count": 189,
   "id": "85bf9908-1bed-4f7d-a491-8b06ac9fdf19",
   "metadata": {},
   "outputs": [
    {
     "name": "stdout",
     "output_type": "stream",
     "text": [
      "root\n",
      " |-- sentiment: string (nullable = true)\n",
      " |-- controversiality: long (nullable = true)\n",
      " |-- total_awards_received: long (nullable = true)\n",
      " |-- comment_length: integer (nullable = true)\n",
      " |-- hour: string (nullable = true)\n",
      " |-- score: long (nullable = true)\n",
      "\n"
     ]
    }
   ],
   "source": [
    "df_score.printSchema()"
   ]
  },
  {
   "cell_type": "markdown",
   "id": "687b986c-c114-4226-8053-0b34fbb77fda",
   "metadata": {},
   "source": [
    "#### ML Tranformations"
   ]
  },
  {
   "cell_type": "code",
   "execution_count": 92,
   "id": "7cf01cf8-e893-4ce7-ab96-c92e743fef51",
   "metadata": {},
   "outputs": [
    {
     "name": "stderr",
     "output_type": "stream",
     "text": [
      "                                                                                \r"
     ]
    },
    {
     "name": "stdout",
     "output_type": "stream",
     "text": [
      "+---------+-------+\n",
      "|sentiment|  count|\n",
      "+---------+-------+\n",
      "| positive|9880051|\n",
      "|     null| 108800|\n",
      "|  neutral| 968815|\n",
      "| negative|7163286|\n",
      "+---------+-------+\n",
      "\n"
     ]
    }
   ],
   "source": [
    "df_score.groupBy('sentiment').count().show()"
   ]
  },
  {
   "cell_type": "code",
   "execution_count": 93,
   "id": "be040a27-055c-44e7-8967-3fcc7d3cf15a",
   "metadata": {},
   "outputs": [],
   "source": [
    "#Keeping the rows with only True, False as author_premium\n",
    "df_score = df_score.filter((df_score.sentiment == 'positive') | (df_score.sentiment == 'neutral') | (df_score.sentiment == 'negative'))"
   ]
  },
  {
   "cell_type": "code",
   "execution_count": 56,
   "id": "b638a930-c570-497a-8bea-20fbbde83493",
   "metadata": {},
   "outputs": [],
   "source": [
    "import pandas as pd\n",
    "import numpy as np\n",
    "import json\n",
    "from sklearn.metrics import roc_curve, roc_auc_score\n",
    "from pyspark.ml.feature import OneHotEncoder, StringIndexer, IndexToString, VectorAssembler\n",
    "from pyspark.ml.classification import RandomForestClassifier, GBTClassifier, LogisticRegression, LinearSVC\n",
    "from pyspark.ml.evaluation import BinaryClassificationEvaluator, MulticlassClassificationEvaluator, RegressionEvaluator\n",
    "from pyspark.ml import Pipeline, Model\n",
    "from pyspark.ml.pipeline import PipelineModel\n",
    "from pyspark.ml.tuning import ParamGridBuilder, CrossValidator\n",
    "from pyspark.mllib.evaluation import BinaryClassificationMetrics\n",
    "from pyspark.ml.regression import LinearRegression\n",
    "from pyspark.ml.tuning import ParamGridBuilder, CrossValidator\n",
    "from pyspark.ml.evaluation import RegressionEvaluator"
   ]
  },
  {
   "cell_type": "code",
   "execution_count": 174,
   "id": "e43803c9-3df3-4274-81c2-3dc17a5c73f6",
   "metadata": {},
   "outputs": [],
   "source": [
    "#Splitting the data into train test and predict for our creating the model\n",
    "train_data, test_data = df_score.randomSplit([0.8, 0.2], 24)"
   ]
  },
  {
   "cell_type": "code",
   "execution_count": 175,
   "id": "20c7edf7-d73d-48ca-8cbc-fa73794f1ca6",
   "metadata": {},
   "outputs": [],
   "source": [
    "stringIndexer_sentiment = StringIndexer(inputCol=\"sentiment\", outputCol=\"sentiment_idx\")\n",
    "stringIndexer_hour = StringIndexer(inputCol=\"hour\", outputCol=\"hour_idx\")"
   ]
  },
  {
   "cell_type": "code",
   "execution_count": 176,
   "id": "28f9ca78-bef1-46b2-88d8-d0afc9da0715",
   "metadata": {},
   "outputs": [],
   "source": [
    "onehot_sentiment = OneHotEncoder(inputCol=\"sentiment_idx\", \n",
    "                       outputCol=\"sentiment_vec\")\n",
    "onehot_hour = OneHotEncoder(inputCol=\"hour_idx\", \n",
    "                       outputCol=\"hour_vec\")"
   ]
  },
  {
   "cell_type": "code",
   "execution_count": 177,
   "id": "3aca8776-3fc9-49fc-9f15-40eb3929994b",
   "metadata": {},
   "outputs": [],
   "source": [
    "vectorAssembler_sentiment = VectorAssembler(\n",
    "    inputCols=['sentiment_vec', 'controversiality','total_awards_received','comment_length','hour_vec'],\n",
    "    outputCol= \"features\")"
   ]
  },
  {
   "cell_type": "markdown",
   "id": "02cb393e-9cee-42d8-9eb3-1cd1af2f2635",
   "metadata": {},
   "source": [
    "#### Linear Regression"
   ]
  },
  {
   "cell_type": "code",
   "execution_count": 179,
   "id": "00e84c32-7338-4f2c-a5bd-156cb020561a",
   "metadata": {},
   "outputs": [],
   "source": [
    "# Create initial LinearRegression model\n",
    "lr1 = LinearRegression(labelCol=\"score\", featuresCol=\"features\")"
   ]
  },
  {
   "cell_type": "code",
   "execution_count": 180,
   "id": "d8207522-3682-4ef6-9eb4-b0b92e7425e6",
   "metadata": {},
   "outputs": [],
   "source": [
    "#Creating a pipeline\n",
    "pipeline_lr1 = Pipeline(stages=[stringIndexer_sentiment, stringIndexer_hour, onehot_sentiment, onehot_hour, vectorAssembler_sentiment, lr1])"
   ]
  },
  {
   "cell_type": "code",
   "execution_count": 182,
   "id": "5f23eae6-83b9-4984-b4a3-70c4cfbed4ee",
   "metadata": {},
   "outputs": [],
   "source": [
    "# Create ParamGrid for Cross Validation\n",
    "lrparamGrid2 = ParamGridBuilder()\\\n",
    "             .addGrid(lr1.regParam, [1,2, 3])\\\n",
    "             .addGrid(lr1.elasticNetParam, [0.25, 0.5, 0.75])\\\n",
    "             .addGrid(lr1.maxIter, [5, 10, 20])\\\n",
    "             .build()"
   ]
  },
  {
   "cell_type": "code",
   "execution_count": 183,
   "id": "f54016c8-c474-4405-a404-d4da272f3994",
   "metadata": {
    "tags": []
   },
   "outputs": [],
   "source": [
    "# Evaluate model\n",
    "lrevaluator1 = RegressionEvaluator(predictionCol=\"prediction\", labelCol=\"score\", metricName=\"rmse\").setLabelCol(\"score\")"
   ]
  },
  {
   "cell_type": "code",
   "execution_count": 184,
   "id": "c466c378-f995-4856-83bf-4cc318e6d057",
   "metadata": {},
   "outputs": [],
   "source": [
    "# Create 3-fold CrossValidator\n",
    "lrcv1 = CrossValidator(estimator = pipeline_lr1,\n",
    "                    estimatorParamMaps = lrparamGrid1,\n",
    "                    evaluator = lrevaluator1,\n",
    "                    numFolds = 3)"
   ]
  },
  {
   "cell_type": "code",
   "execution_count": 185,
   "id": "79303ee8-5099-4d6e-8dc9-ccba399a1694",
   "metadata": {
    "collapsed": true,
    "jupyter": {
     "outputs_hidden": true
    },
    "tags": []
   },
   "outputs": [
    {
     "name": "stderr",
     "output_type": "stream",
     "text": [
      "22/04/29 23:11:47 WARN Instrumentation: [c9cb094b] regParam is zero, which might cause numerical instability and overfitting.\n",
      "22/04/29 23:11:50 WARN Instrumentation: [c9cb094b] Cholesky solver failed due to singular covariance matrix. Retrying with Quasi-Newton solver.\n",
      "22/04/29 23:12:03 WARN Instrumentation: [485fa21e] regParam is zero, which might cause numerical instability and overfitting.\n",
      "22/04/29 23:12:05 WARN Instrumentation: [485fa21e] Cholesky solver failed due to singular covariance matrix. Retrying with Quasi-Newton solver.\n",
      "22/04/29 23:12:08 WARN Instrumentation: [190b2e7b] regParam is zero, which might cause numerical instability and overfitting.\n",
      "22/04/29 23:12:10 WARN Instrumentation: [190b2e7b] Cholesky solver failed due to singular covariance matrix. Retrying with Quasi-Newton solver.\n",
      "22/04/29 23:12:14 WARN Instrumentation: [9dfe5eac] regParam is zero, which might cause numerical instability and overfitting.\n",
      "22/04/29 23:12:16 WARN Instrumentation: [9dfe5eac] Cholesky solver failed due to singular covariance matrix. Retrying with Quasi-Newton solver.\n",
      "22/04/29 23:12:19 WARN Instrumentation: [47deb984] regParam is zero, which might cause numerical instability and overfitting.\n",
      "22/04/29 23:12:21 WARN Instrumentation: [47deb984] Cholesky solver failed due to singular covariance matrix. Retrying with Quasi-Newton solver.\n",
      "22/04/29 23:12:24 WARN Instrumentation: [23802792] regParam is zero, which might cause numerical instability and overfitting.\n",
      "22/04/29 23:12:26 WARN Instrumentation: [23802792] Cholesky solver failed due to singular covariance matrix. Retrying with Quasi-Newton solver.\n",
      "22/04/29 23:12:30 WARN Instrumentation: [df64228b] regParam is zero, which might cause numerical instability and overfitting.\n",
      "22/04/29 23:12:32 WARN Instrumentation: [df64228b] Cholesky solver failed due to singular covariance matrix. Retrying with Quasi-Newton solver.\n",
      "22/04/29 23:12:35 WARN Instrumentation: [e0a82e5f] regParam is zero, which might cause numerical instability and overfitting.\n",
      "22/04/29 23:12:37 WARN Instrumentation: [e0a82e5f] Cholesky solver failed due to singular covariance matrix. Retrying with Quasi-Newton solver.\n",
      "22/04/29 23:12:40 WARN Instrumentation: [717eb28c] regParam is zero, which might cause numerical instability and overfitting.\n",
      "22/04/29 23:12:42 WARN Instrumentation: [717eb28c] Cholesky solver failed due to singular covariance matrix. Retrying with Quasi-Newton solver.\n",
      "22/04/29 23:12:46 WARN Instrumentation: [afe26e5a] regParam is zero, which might cause numerical instability and overfitting.\n",
      "22/04/29 23:12:48 WARN Instrumentation: [afe26e5a] Cholesky solver failed due to singular covariance matrix. Retrying with Quasi-Newton solver.\n",
      "22/04/29 23:12:51 WARN Instrumentation: [6b5f1c5b] regParam is zero, which might cause numerical instability and overfitting.\n",
      "22/04/29 23:12:53 WARN Instrumentation: [6b5f1c5b] Cholesky solver failed due to singular covariance matrix. Retrying with Quasi-Newton solver.\n",
      "22/04/29 23:12:56 WARN Instrumentation: [4bcae450] regParam is zero, which might cause numerical instability and overfitting.\n",
      "22/04/29 23:12:58 WARN Instrumentation: [4bcae450] Cholesky solver failed due to singular covariance matrix. Retrying with Quasi-Newton solver.\n",
      "22/04/29 23:13:02 WARN Instrumentation: [af444977] regParam is zero, which might cause numerical instability and overfitting.\n",
      "22/04/29 23:13:04 WARN Instrumentation: [af444977] Cholesky solver failed due to singular covariance matrix. Retrying with Quasi-Newton solver.\n",
      "22/04/29 23:13:07 WARN Instrumentation: [15e97047] regParam is zero, which might cause numerical instability and overfitting.\n",
      "22/04/29 23:13:09 WARN Instrumentation: [15e97047] Cholesky solver failed due to singular covariance matrix. Retrying with Quasi-Newton solver.\n",
      "22/04/29 23:13:12 WARN Instrumentation: [ab63b5a6] regParam is zero, which might cause numerical instability and overfitting.\n",
      "22/04/29 23:13:14 WARN Instrumentation: [ab63b5a6] Cholesky solver failed due to singular covariance matrix. Retrying with Quasi-Newton solver.\n",
      "22/04/29 23:13:18 WARN Instrumentation: [6183ab5c] regParam is zero, which might cause numerical instability and overfitting.\n",
      "22/04/29 23:13:20 WARN Instrumentation: [6183ab5c] Cholesky solver failed due to singular covariance matrix. Retrying with Quasi-Newton solver.\n",
      "22/04/29 23:13:23 WARN Instrumentation: [f54b3653] regParam is zero, which might cause numerical instability and overfitting.\n",
      "22/04/29 23:13:25 WARN Instrumentation: [f54b3653] Cholesky solver failed due to singular covariance matrix. Retrying with Quasi-Newton solver.\n",
      "22/04/29 23:13:29 WARN Instrumentation: [ff0e1202] regParam is zero, which might cause numerical instability and overfitting.\n",
      "22/04/29 23:13:31 WARN Instrumentation: [ff0e1202] Cholesky solver failed due to singular covariance matrix. Retrying with Quasi-Newton solver.\n",
      "22/04/29 23:13:34 WARN Instrumentation: [2e90c120] regParam is zero, which might cause numerical instability and overfitting.\n",
      "22/04/29 23:13:36 WARN Instrumentation: [2e90c120] Cholesky solver failed due to singular covariance matrix. Retrying with Quasi-Newton solver.\n",
      "22/04/29 23:13:40 WARN Instrumentation: [5d210179] regParam is zero, which might cause numerical instability and overfitting.\n",
      "22/04/29 23:13:42 WARN Instrumentation: [5d210179] Cholesky solver failed due to singular covariance matrix. Retrying with Quasi-Newton solver.\n",
      "22/04/29 23:13:45 WARN Instrumentation: [41bad21c] regParam is zero, which might cause numerical instability and overfitting.\n",
      "22/04/29 23:13:47 WARN Instrumentation: [41bad21c] Cholesky solver failed due to singular covariance matrix. Retrying with Quasi-Newton solver.\n",
      "22/04/29 23:13:51 WARN Instrumentation: [2dc027c5] regParam is zero, which might cause numerical instability and overfitting.\n",
      "22/04/29 23:13:52 WARN Instrumentation: [2dc027c5] Cholesky solver failed due to singular covariance matrix. Retrying with Quasi-Newton solver.\n",
      "22/04/29 23:13:56 WARN Instrumentation: [6f282732] regParam is zero, which might cause numerical instability and overfitting.\n",
      "22/04/29 23:13:58 WARN Instrumentation: [6f282732] Cholesky solver failed due to singular covariance matrix. Retrying with Quasi-Newton solver.\n",
      "22/04/29 23:14:01 WARN Instrumentation: [cd9d0021] regParam is zero, which might cause numerical instability and overfitting.\n",
      "22/04/29 23:14:03 WARN Instrumentation: [cd9d0021] Cholesky solver failed due to singular covariance matrix. Retrying with Quasi-Newton solver.\n",
      "22/04/29 23:14:07 WARN Instrumentation: [ca159973] regParam is zero, which might cause numerical instability and overfitting.\n",
      "22/04/29 23:14:09 WARN Instrumentation: [ca159973] Cholesky solver failed due to singular covariance matrix. Retrying with Quasi-Newton solver.\n",
      "22/04/29 23:14:12 WARN Instrumentation: [b3207827] regParam is zero, which might cause numerical instability and overfitting.\n",
      "22/04/29 23:14:14 WARN Instrumentation: [b3207827] Cholesky solver failed due to singular covariance matrix. Retrying with Quasi-Newton solver.\n",
      "22/04/29 23:14:17 WARN Instrumentation: [932f90b6] regParam is zero, which might cause numerical instability and overfitting.\n",
      "22/04/29 23:14:19 WARN Instrumentation: [932f90b6] Cholesky solver failed due to singular covariance matrix. Retrying with Quasi-Newton solver.\n",
      "22/04/29 23:14:23 WARN Instrumentation: [2329af98] regParam is zero, which might cause numerical instability and overfitting.\n",
      "22/04/29 23:14:25 WARN Instrumentation: [2329af98] Cholesky solver failed due to singular covariance matrix. Retrying with Quasi-Newton solver.\n",
      "22/04/29 23:14:28 WARN Instrumentation: [7e3d70ea] regParam is zero, which might cause numerical instability and overfitting.\n",
      "22/04/29 23:14:30 WARN Instrumentation: [7e3d70ea] Cholesky solver failed due to singular covariance matrix. Retrying with Quasi-Newton solver.\n",
      "22/04/29 23:14:33 WARN Instrumentation: [7806aa88] regParam is zero, which might cause numerical instability and overfitting.\n",
      "22/04/29 23:14:35 WARN Instrumentation: [7806aa88] Cholesky solver failed due to singular covariance matrix. Retrying with Quasi-Newton solver.\n",
      "22/04/29 23:14:39 WARN Instrumentation: [a88c6793] regParam is zero, which might cause numerical instability and overfitting.\n",
      "22/04/29 23:14:41 WARN Instrumentation: [a88c6793] Cholesky solver failed due to singular covariance matrix. Retrying with Quasi-Newton solver.\n",
      "22/04/29 23:14:44 WARN Instrumentation: [ab3920a2] regParam is zero, which might cause numerical instability and overfitting.\n",
      "22/04/29 23:14:46 WARN Instrumentation: [ab3920a2] Cholesky solver failed due to singular covariance matrix. Retrying with Quasi-Newton solver.\n",
      "22/04/29 23:14:49 WARN Instrumentation: [3cca8421] regParam is zero, which might cause numerical instability and overfitting.\n",
      "22/04/29 23:14:51 WARN Instrumentation: [3cca8421] Cholesky solver failed due to singular covariance matrix. Retrying with Quasi-Newton solver.\n",
      "22/04/29 23:14:55 WARN Instrumentation: [2023382c] regParam is zero, which might cause numerical instability and overfitting.\n",
      "22/04/29 23:14:57 WARN Instrumentation: [2023382c] Cholesky solver failed due to singular covariance matrix. Retrying with Quasi-Newton solver.\n",
      "22/04/29 23:15:00 WARN Instrumentation: [51b8e95c] regParam is zero, which might cause numerical instability and overfitting.\n",
      "22/04/29 23:15:02 WARN Instrumentation: [51b8e95c] Cholesky solver failed due to singular covariance matrix. Retrying with Quasi-Newton solver.\n",
      "22/04/29 23:15:05 WARN Instrumentation: [c98744f3] regParam is zero, which might cause numerical instability and overfitting.\n",
      "22/04/29 23:15:07 WARN Instrumentation: [c98744f3] Cholesky solver failed due to singular covariance matrix. Retrying with Quasi-Newton solver.\n",
      "22/04/29 23:15:18 WARN Instrumentation: [878bd086] regParam is zero, which might cause numerical instability and overfitting.\n",
      "22/04/29 23:15:20 WARN Instrumentation: [878bd086] Cholesky solver failed due to singular covariance matrix. Retrying with Quasi-Newton solver.\n",
      "22/04/29 23:15:30 WARN Instrumentation: [ebd9f5ec] regParam is zero, which might cause numerical instability and overfitting.\n",
      "22/04/29 23:15:31 WARN Instrumentation: [ebd9f5ec] Cholesky solver failed due to singular covariance matrix. Retrying with Quasi-Newton solver.\n",
      "22/04/29 23:15:35 WARN Instrumentation: [949f9383] regParam is zero, which might cause numerical instability and overfitting.\n",
      "22/04/29 23:15:37 WARN Instrumentation: [949f9383] Cholesky solver failed due to singular covariance matrix. Retrying with Quasi-Newton solver.\n",
      "22/04/29 23:15:40 WARN Instrumentation: [ef97d85c] regParam is zero, which might cause numerical instability and overfitting.\n",
      "22/04/29 23:15:42 WARN Instrumentation: [ef97d85c] Cholesky solver failed due to singular covariance matrix. Retrying with Quasi-Newton solver.\n",
      "22/04/29 23:15:45 WARN Instrumentation: [d7695173] regParam is zero, which might cause numerical instability and overfitting.\n",
      "22/04/29 23:15:47 WARN Instrumentation: [d7695173] Cholesky solver failed due to singular covariance matrix. Retrying with Quasi-Newton solver.\n",
      "22/04/29 23:15:50 WARN Instrumentation: [e2e3937d] regParam is zero, which might cause numerical instability and overfitting.\n",
      "22/04/29 23:15:52 WARN Instrumentation: [e2e3937d] Cholesky solver failed due to singular covariance matrix. Retrying with Quasi-Newton solver.\n",
      "22/04/29 23:15:56 WARN Instrumentation: [c3653b1b] regParam is zero, which might cause numerical instability and overfitting.\n",
      "22/04/29 23:15:57 WARN Instrumentation: [c3653b1b] Cholesky solver failed due to singular covariance matrix. Retrying with Quasi-Newton solver.\n",
      "22/04/29 23:16:01 WARN Instrumentation: [95051f9b] regParam is zero, which might cause numerical instability and overfitting.\n",
      "22/04/29 23:16:03 WARN Instrumentation: [95051f9b] Cholesky solver failed due to singular covariance matrix. Retrying with Quasi-Newton solver.\n",
      "22/04/29 23:16:06 WARN Instrumentation: [f21d1404] regParam is zero, which might cause numerical instability and overfitting.\n",
      "22/04/29 23:16:08 WARN Instrumentation: [f21d1404] Cholesky solver failed due to singular covariance matrix. Retrying with Quasi-Newton solver.\n",
      "22/04/29 23:16:12 WARN Instrumentation: [4754245f] regParam is zero, which might cause numerical instability and overfitting.\n",
      "22/04/29 23:16:13 WARN Instrumentation: [4754245f] Cholesky solver failed due to singular covariance matrix. Retrying with Quasi-Newton solver.\n",
      "22/04/29 23:16:17 WARN Instrumentation: [96660cc7] regParam is zero, which might cause numerical instability and overfitting.\n",
      "22/04/29 23:16:18 WARN Instrumentation: [96660cc7] Cholesky solver failed due to singular covariance matrix. Retrying with Quasi-Newton solver.\n",
      "22/04/29 23:16:22 WARN Instrumentation: [62c71923] regParam is zero, which might cause numerical instability and overfitting.\n",
      "22/04/29 23:16:24 WARN Instrumentation: [62c71923] Cholesky solver failed due to singular covariance matrix. Retrying with Quasi-Newton solver.\n",
      "22/04/29 23:16:27 WARN Instrumentation: [a05ecb53] regParam is zero, which might cause numerical instability and overfitting.\n",
      "22/04/29 23:16:29 WARN Instrumentation: [a05ecb53] Cholesky solver failed due to singular covariance matrix. Retrying with Quasi-Newton solver.\n",
      "22/04/29 23:16:32 WARN Instrumentation: [0ea16bd3] regParam is zero, which might cause numerical instability and overfitting.\n",
      "22/04/29 23:16:34 WARN Instrumentation: [0ea16bd3] Cholesky solver failed due to singular covariance matrix. Retrying with Quasi-Newton solver.\n",
      "22/04/29 23:16:37 WARN Instrumentation: [516b11c1] regParam is zero, which might cause numerical instability and overfitting.\n",
      "22/04/29 23:16:39 WARN Instrumentation: [516b11c1] Cholesky solver failed due to singular covariance matrix. Retrying with Quasi-Newton solver.\n",
      "22/04/29 23:16:43 WARN Instrumentation: [a8148271] regParam is zero, which might cause numerical instability and overfitting.\n",
      "22/04/29 23:16:44 WARN Instrumentation: [a8148271] Cholesky solver failed due to singular covariance matrix. Retrying with Quasi-Newton solver.\n",
      "22/04/29 23:16:48 WARN Instrumentation: [f7aa12ad] regParam is zero, which might cause numerical instability and overfitting.\n",
      "22/04/29 23:16:49 WARN Instrumentation: [f7aa12ad] Cholesky solver failed due to singular covariance matrix. Retrying with Quasi-Newton solver.\n",
      "22/04/29 23:16:53 WARN Instrumentation: [1a126cbe] regParam is zero, which might cause numerical instability and overfitting.\n",
      "22/04/29 23:16:55 WARN Instrumentation: [1a126cbe] Cholesky solver failed due to singular covariance matrix. Retrying with Quasi-Newton solver.\n",
      "22/04/29 23:16:59 WARN Instrumentation: [1da2a151] regParam is zero, which might cause numerical instability and overfitting.\n",
      "22/04/29 23:17:01 WARN Instrumentation: [1da2a151] Cholesky solver failed due to singular covariance matrix. Retrying with Quasi-Newton solver.\n",
      "22/04/29 23:17:04 WARN Instrumentation: [b311ce45] regParam is zero, which might cause numerical instability and overfitting.\n",
      "22/04/29 23:17:06 WARN Instrumentation: [b311ce45] Cholesky solver failed due to singular covariance matrix. Retrying with Quasi-Newton solver.\n",
      "22/04/29 23:17:10 WARN Instrumentation: [31854af7] regParam is zero, which might cause numerical instability and overfitting.\n",
      "22/04/29 23:17:11 WARN Instrumentation: [31854af7] Cholesky solver failed due to singular covariance matrix. Retrying with Quasi-Newton solver.\n",
      "22/04/29 23:17:15 WARN Instrumentation: [53b43b3e] regParam is zero, which might cause numerical instability and overfitting.\n",
      "22/04/29 23:17:16 WARN Instrumentation: [53b43b3e] Cholesky solver failed due to singular covariance matrix. Retrying with Quasi-Newton solver.\n",
      "22/04/29 23:17:20 WARN Instrumentation: [27b94718] regParam is zero, which might cause numerical instability and overfitting.\n",
      "22/04/29 23:17:21 WARN Instrumentation: [27b94718] Cholesky solver failed due to singular covariance matrix. Retrying with Quasi-Newton solver.\n",
      "22/04/29 23:17:25 WARN Instrumentation: [fb161313] regParam is zero, which might cause numerical instability and overfitting.\n",
      "22/04/29 23:17:27 WARN Instrumentation: [fb161313] Cholesky solver failed due to singular covariance matrix. Retrying with Quasi-Newton solver.\n",
      "22/04/29 23:17:30 WARN Instrumentation: [497f8d91] regParam is zero, which might cause numerical instability and overfitting.\n",
      "22/04/29 23:17:32 WARN Instrumentation: [497f8d91] Cholesky solver failed due to singular covariance matrix. Retrying with Quasi-Newton solver.\n",
      "22/04/29 23:17:35 WARN Instrumentation: [a17c5e68] regParam is zero, which might cause numerical instability and overfitting.\n",
      "22/04/29 23:17:37 WARN Instrumentation: [a17c5e68] Cholesky solver failed due to singular covariance matrix. Retrying with Quasi-Newton solver.\n",
      "22/04/29 23:17:40 WARN Instrumentation: [1a77fedd] regParam is zero, which might cause numerical instability and overfitting.\n",
      "22/04/29 23:17:43 WARN Instrumentation: [1a77fedd] Cholesky solver failed due to singular covariance matrix. Retrying with Quasi-Newton solver.\n",
      "22/04/29 23:17:46 WARN Instrumentation: [78d43ab5] regParam is zero, which might cause numerical instability and overfitting.\n",
      "22/04/29 23:17:48 WARN Instrumentation: [78d43ab5] Cholesky solver failed due to singular covariance matrix. Retrying with Quasi-Newton solver.\n",
      "22/04/29 23:17:51 WARN Instrumentation: [7b34c4e0] regParam is zero, which might cause numerical instability and overfitting.\n",
      "22/04/29 23:17:53 WARN Instrumentation: [7b34c4e0] Cholesky solver failed due to singular covariance matrix. Retrying with Quasi-Newton solver.\n",
      "22/04/29 23:17:56 WARN Instrumentation: [e32f9c75] regParam is zero, which might cause numerical instability and overfitting.\n",
      "22/04/29 23:17:58 WARN Instrumentation: [e32f9c75] Cholesky solver failed due to singular covariance matrix. Retrying with Quasi-Newton solver.\n",
      "22/04/29 23:18:01 WARN Instrumentation: [2c65257b] regParam is zero, which might cause numerical instability and overfitting.\n",
      "22/04/29 23:18:03 WARN Instrumentation: [2c65257b] Cholesky solver failed due to singular covariance matrix. Retrying with Quasi-Newton solver.\n",
      "22/04/29 23:18:07 WARN Instrumentation: [944aad32] regParam is zero, which might cause numerical instability and overfitting.\n",
      "22/04/29 23:18:08 WARN Instrumentation: [944aad32] Cholesky solver failed due to singular covariance matrix. Retrying with Quasi-Newton solver.\n",
      "22/04/29 23:18:12 WARN Instrumentation: [91f630e5] regParam is zero, which might cause numerical instability and overfitting.\n",
      "22/04/29 23:18:14 WARN Instrumentation: [91f630e5] Cholesky solver failed due to singular covariance matrix. Retrying with Quasi-Newton solver.\n",
      "22/04/29 23:18:17 WARN Instrumentation: [79639e04] regParam is zero, which might cause numerical instability and overfitting.\n",
      "22/04/29 23:18:19 WARN Instrumentation: [79639e04] Cholesky solver failed due to singular covariance matrix. Retrying with Quasi-Newton solver.\n",
      "22/04/29 23:18:22 WARN Instrumentation: [8736cac6] regParam is zero, which might cause numerical instability and overfitting.\n",
      "22/04/29 23:18:24 WARN Instrumentation: [8736cac6] Cholesky solver failed due to singular covariance matrix. Retrying with Quasi-Newton solver.\n",
      "22/04/29 23:18:28 WARN Instrumentation: [04d023e0] regParam is zero, which might cause numerical instability and overfitting.\n",
      "22/04/29 23:18:30 WARN Instrumentation: [04d023e0] Cholesky solver failed due to singular covariance matrix. Retrying with Quasi-Newton solver.\n",
      "22/04/29 23:18:41 WARN Instrumentation: [5019488e] regParam is zero, which might cause numerical instability and overfitting.\n",
      "22/04/29 23:18:43 WARN Instrumentation: [5019488e] Cholesky solver failed due to singular covariance matrix. Retrying with Quasi-Newton solver.\n",
      "22/04/29 23:18:53 WARN Instrumentation: [7edd30f8] regParam is zero, which might cause numerical instability and overfitting.\n",
      "22/04/29 23:18:56 WARN Instrumentation: [7edd30f8] Cholesky solver failed due to singular covariance matrix. Retrying with Quasi-Newton solver.\n",
      "22/04/29 23:19:00 WARN Instrumentation: [7b1d0745] regParam is zero, which might cause numerical instability and overfitting.\n",
      "22/04/29 23:19:01 WARN Instrumentation: [7b1d0745] Cholesky solver failed due to singular covariance matrix. Retrying with Quasi-Newton solver.\n",
      "22/04/29 23:19:05 WARN Instrumentation: [826e7b6e] regParam is zero, which might cause numerical instability and overfitting.\n",
      "22/04/29 23:19:07 WARN Instrumentation: [826e7b6e] Cholesky solver failed due to singular covariance matrix. Retrying with Quasi-Newton solver.\n",
      "22/04/29 23:19:10 WARN Instrumentation: [ddeeec1c] regParam is zero, which might cause numerical instability and overfitting.\n",
      "22/04/29 23:19:12 WARN Instrumentation: [ddeeec1c] Cholesky solver failed due to singular covariance matrix. Retrying with Quasi-Newton solver.\n",
      "22/04/29 23:19:15 WARN Instrumentation: [f8ad96fa] regParam is zero, which might cause numerical instability and overfitting.\n",
      "22/04/29 23:19:17 WARN Instrumentation: [f8ad96fa] Cholesky solver failed due to singular covariance matrix. Retrying with Quasi-Newton solver.\n",
      "22/04/29 23:19:21 WARN Instrumentation: [99e4e580] regParam is zero, which might cause numerical instability and overfitting.\n",
      "22/04/29 23:19:23 WARN Instrumentation: [99e4e580] Cholesky solver failed due to singular covariance matrix. Retrying with Quasi-Newton solver.\n",
      "22/04/29 23:19:26 WARN Instrumentation: [3d80c4f4] regParam is zero, which might cause numerical instability and overfitting.\n",
      "22/04/29 23:19:28 WARN Instrumentation: [3d80c4f4] Cholesky solver failed due to singular covariance matrix. Retrying with Quasi-Newton solver.\n",
      "22/04/29 23:19:32 WARN Instrumentation: [2d03d82e] regParam is zero, which might cause numerical instability and overfitting.\n",
      "22/04/29 23:19:34 WARN Instrumentation: [2d03d82e] Cholesky solver failed due to singular covariance matrix. Retrying with Quasi-Newton solver.\n",
      "22/04/29 23:19:37 WARN Instrumentation: [57ae0b76] regParam is zero, which might cause numerical instability and overfitting.\n",
      "22/04/29 23:19:39 WARN Instrumentation: [57ae0b76] Cholesky solver failed due to singular covariance matrix. Retrying with Quasi-Newton solver.\n",
      "22/04/29 23:19:43 WARN Instrumentation: [af08cda9] regParam is zero, which might cause numerical instability and overfitting.\n",
      "22/04/29 23:19:45 WARN Instrumentation: [af08cda9] Cholesky solver failed due to singular covariance matrix. Retrying with Quasi-Newton solver.\n",
      "22/04/29 23:19:48 WARN Instrumentation: [f97243e1] regParam is zero, which might cause numerical instability and overfitting.\n",
      "22/04/29 23:19:50 WARN Instrumentation: [f97243e1] Cholesky solver failed due to singular covariance matrix. Retrying with Quasi-Newton solver.\n",
      "22/04/29 23:19:53 WARN Instrumentation: [cbb15358] regParam is zero, which might cause numerical instability and overfitting.\n",
      "22/04/29 23:19:55 WARN Instrumentation: [cbb15358] Cholesky solver failed due to singular covariance matrix. Retrying with Quasi-Newton solver.\n",
      "22/04/29 23:19:59 WARN Instrumentation: [e7ce68c3] regParam is zero, which might cause numerical instability and overfitting.\n",
      "22/04/29 23:20:01 WARN Instrumentation: [e7ce68c3] Cholesky solver failed due to singular covariance matrix. Retrying with Quasi-Newton solver.\n",
      "22/04/29 23:20:04 WARN Instrumentation: [d8e1111a] regParam is zero, which might cause numerical instability and overfitting.\n",
      "22/04/29 23:20:06 WARN Instrumentation: [d8e1111a] Cholesky solver failed due to singular covariance matrix. Retrying with Quasi-Newton solver.\n",
      "22/04/29 23:20:10 WARN Instrumentation: [3fa52337] regParam is zero, which might cause numerical instability and overfitting.\n",
      "22/04/29 23:20:12 WARN Instrumentation: [3fa52337] Cholesky solver failed due to singular covariance matrix. Retrying with Quasi-Newton solver.\n",
      "22/04/29 23:20:15 WARN Instrumentation: [5a7f7f94] regParam is zero, which might cause numerical instability and overfitting.\n",
      "22/04/29 23:20:17 WARN Instrumentation: [5a7f7f94] Cholesky solver failed due to singular covariance matrix. Retrying with Quasi-Newton solver.\n",
      "22/04/29 23:20:21 WARN Instrumentation: [a78574b2] regParam is zero, which might cause numerical instability and overfitting.\n",
      "22/04/29 23:20:22 WARN Instrumentation: [a78574b2] Cholesky solver failed due to singular covariance matrix. Retrying with Quasi-Newton solver.\n",
      "22/04/29 23:20:26 WARN Instrumentation: [80a74b52] regParam is zero, which might cause numerical instability and overfitting.\n",
      "22/04/29 23:20:28 WARN Instrumentation: [80a74b52] Cholesky solver failed due to singular covariance matrix. Retrying with Quasi-Newton solver.\n",
      "22/04/29 23:20:31 WARN Instrumentation: [83c2faf2] regParam is zero, which might cause numerical instability and overfitting.\n",
      "22/04/29 23:20:33 WARN Instrumentation: [83c2faf2] Cholesky solver failed due to singular covariance matrix. Retrying with Quasi-Newton solver.\n",
      "22/04/29 23:20:37 WARN Instrumentation: [20f56297] regParam is zero, which might cause numerical instability and overfitting.\n",
      "22/04/29 23:20:39 WARN Instrumentation: [20f56297] Cholesky solver failed due to singular covariance matrix. Retrying with Quasi-Newton solver.\n",
      "22/04/29 23:20:42 WARN Instrumentation: [a209cf08] regParam is zero, which might cause numerical instability and overfitting.\n",
      "22/04/29 23:20:44 WARN Instrumentation: [a209cf08] Cholesky solver failed due to singular covariance matrix. Retrying with Quasi-Newton solver.\n",
      "22/04/29 23:20:47 WARN Instrumentation: [7f960cdc] regParam is zero, which might cause numerical instability and overfitting.\n",
      "22/04/29 23:20:49 WARN Instrumentation: [7f960cdc] Cholesky solver failed due to singular covariance matrix. Retrying with Quasi-Newton solver.\n",
      "22/04/29 23:20:53 WARN Instrumentation: [d0cb4e8b] regParam is zero, which might cause numerical instability and overfitting.\n",
      "22/04/29 23:20:55 WARN Instrumentation: [d0cb4e8b] Cholesky solver failed due to singular covariance matrix. Retrying with Quasi-Newton solver.\n",
      "22/04/29 23:20:58 WARN Instrumentation: [a4e9949f] regParam is zero, which might cause numerical instability and overfitting.\n",
      "22/04/29 23:21:00 WARN Instrumentation: [a4e9949f] Cholesky solver failed due to singular covariance matrix. Retrying with Quasi-Newton solver.\n",
      "22/04/29 23:21:04 WARN Instrumentation: [59df2c95] regParam is zero, which might cause numerical instability and overfitting.\n",
      "22/04/29 23:21:06 WARN Instrumentation: [59df2c95] Cholesky solver failed due to singular covariance matrix. Retrying with Quasi-Newton solver.\n",
      "22/04/29 23:21:09 WARN Instrumentation: [e74e91de] regParam is zero, which might cause numerical instability and overfitting.\n",
      "22/04/29 23:21:11 WARN Instrumentation: [e74e91de] Cholesky solver failed due to singular covariance matrix. Retrying with Quasi-Newton solver.\n",
      "22/04/29 23:21:14 WARN Instrumentation: [e2c5ddd8] regParam is zero, which might cause numerical instability and overfitting.\n",
      "22/04/29 23:21:16 WARN Instrumentation: [e2c5ddd8] Cholesky solver failed due to singular covariance matrix. Retrying with Quasi-Newton solver.\n",
      "22/04/29 23:21:20 WARN Instrumentation: [77c54391] regParam is zero, which might cause numerical instability and overfitting.\n",
      "22/04/29 23:21:22 WARN Instrumentation: [77c54391] Cholesky solver failed due to singular covariance matrix. Retrying with Quasi-Newton solver.\n",
      "22/04/29 23:21:25 WARN Instrumentation: [882e6834] regParam is zero, which might cause numerical instability and overfitting.\n",
      "22/04/29 23:21:27 WARN Instrumentation: [882e6834] Cholesky solver failed due to singular covariance matrix. Retrying with Quasi-Newton solver.\n",
      "22/04/29 23:21:31 WARN Instrumentation: [6873f457] regParam is zero, which might cause numerical instability and overfitting.\n",
      "22/04/29 23:21:32 WARN Instrumentation: [6873f457] Cholesky solver failed due to singular covariance matrix. Retrying with Quasi-Newton solver.\n",
      "22/04/29 23:21:36 WARN Instrumentation: [34132160] regParam is zero, which might cause numerical instability and overfitting.\n",
      "22/04/29 23:21:38 WARN Instrumentation: [34132160] Cholesky solver failed due to singular covariance matrix. Retrying with Quasi-Newton solver.\n",
      "22/04/29 23:21:41 WARN Instrumentation: [fbd8b341] regParam is zero, which might cause numerical instability and overfitting.\n",
      "22/04/29 23:21:43 WARN Instrumentation: [fbd8b341] Cholesky solver failed due to singular covariance matrix. Retrying with Quasi-Newton solver.\n",
      "22/04/29 23:21:47 WARN Instrumentation: [7d70da9b] regParam is zero, which might cause numerical instability and overfitting.\n",
      "22/04/29 23:21:49 WARN Instrumentation: [7d70da9b] Cholesky solver failed due to singular covariance matrix. Retrying with Quasi-Newton solver.\n",
      "22/04/29 23:21:52 WARN Instrumentation: [eaea3f7f] regParam is zero, which might cause numerical instability and overfitting.\n",
      "22/04/29 23:21:54 WARN Instrumentation: [eaea3f7f] Cholesky solver failed due to singular covariance matrix. Retrying with Quasi-Newton solver.\n",
      "22/04/29 23:21:57 WARN Instrumentation: [dcb2c73a] regParam is zero, which might cause numerical instability and overfitting.\n",
      "22/04/29 23:21:59 WARN Instrumentation: [dcb2c73a] Cholesky solver failed due to singular covariance matrix. Retrying with Quasi-Newton solver.\n",
      "22/04/29 23:22:09 WARN Instrumentation: [271f8d42] regParam is zero, which might cause numerical instability and overfitting.\n",
      "22/04/29 23:22:17 WARN Instrumentation: [271f8d42] Cholesky solver failed due to singular covariance matrix. Retrying with Quasi-Newton solver.\n",
      "                                                                                \r"
     ]
    }
   ],
   "source": [
    "# Run cross validations\n",
    "lrcvModel1 = lrcv1.fit(train_data)"
   ]
  },
  {
   "cell_type": "code",
   "execution_count": 117,
   "id": "f14f4851-7423-49b1-a6db-d35beca8f942",
   "metadata": {},
   "outputs": [],
   "source": [
    "# Save the model pipeline into s3\n",
    "lrcvModel1.write().save('s3://ssp88-labdata2/lrcvModel1.1')"
   ]
  },
  {
   "cell_type": "code",
   "execution_count": 186,
   "id": "60c0111d-b512-44bd-9771-bb63973958fa",
   "metadata": {},
   "outputs": [],
   "source": [
    "# Use test set here so we can measure the accuracy of our model on new data\n",
    "lrprediction1 = lrcvModel1.transform(test_data)"
   ]
  },
  {
   "cell_type": "code",
   "execution_count": 141,
   "id": "551c2e14-3ae7-4a28-aa69-1714be5eb8c7",
   "metadata": {},
   "outputs": [
    {
     "name": "stderr",
     "output_type": "stream",
     "text": [
      "                                                                                \r"
     ]
    },
    {
     "name": "stdout",
     "output_type": "stream",
     "text": [
      "MSE: 32234.198698835175\n"
     ]
    },
    {
     "name": "stderr",
     "output_type": "stream",
     "text": [
      "                                                                                \r"
     ]
    },
    {
     "name": "stdout",
     "output_type": "stream",
     "text": [
      "RMSE: 179.53885011003933\n"
     ]
    },
    {
     "name": "stderr",
     "output_type": "stream",
     "text": [
      "[Stage 5484:==================================================>   (48 + 3) / 51]\r"
     ]
    },
    {
     "name": "stdout",
     "output_type": "stream",
     "text": [
      "MAE: 22.33287317693236\n"
     ]
    },
    {
     "name": "stderr",
     "output_type": "stream",
     "text": [
      "                                                                                \r"
     ]
    }
   ],
   "source": [
    "# cvModel uses the best model found from the Cross Validation\n",
    "# Evaluate best model\n",
    "print('MSE:',lrevaluator1.evaluate(lrprediction1,\n",
    "{lrevaluator1.metricName: \"mse\"})\n",
    ")\n",
    "print('RMSE:', lrevaluator1.evaluate(lrprediction1,\n",
    "{lrevaluator1.metricName: \"rmse\"})\n",
    ")\n",
    "print('MAE:',lrevaluator1.evaluate(lrprediction1,\n",
    "{lrevaluator1.metricName: \"mae\"})\n",
    ")"
   ]
  },
  {
   "cell_type": "code",
   "execution_count": 143,
   "id": "5c6dd7bd-5221-4f7c-89de-bf5813fc30a9",
   "metadata": {},
   "outputs": [
    {
     "name": "stderr",
     "output_type": "stream",
     "text": [
      "                                                                                \r"
     ]
    }
   ],
   "source": [
    "# Original and Predicted data\n",
    "x_ax = range(0, lrprediction1.count())\n",
    "y_pred = lrprediction1.select(\"prediction\").collect()\n",
    "y_orig = lrprediction1.select(\"score\").collect()  "
   ]
  },
  {
   "cell_type": "code",
   "execution_count": 153,
   "id": "3cf1d2ab-140f-4e9a-972a-2316c1c0c7cf",
   "metadata": {},
   "outputs": [
    {
     "data": {
      "image/png": "[encoded data removed]",
      "text/plain": [
       "<Figure size 576x576 with 1 Axes>"
      ]
     },
     "metadata": {
      "needs_background": "light"
     },
     "output_type": "display_data"
    }
   ],
   "source": [
    "import matplotlib.pyplot as plt\n",
    "plt.figure(figsize=(8,8))\n",
    "plt.plot(x_ax, y_orig,'orange', label=\"original\")\n",
    "plt.plot(x_ax, y_pred,'cornflowerblue' ,label=\"predicted\")\n",
    "plt.title(\"Test and predicted data using Linear Regression\")\n",
    "plt.xlabel('Range of data')\n",
    "plt.ylabel('Score')\n",
    "plt.legend(loc='best',fancybox=True, shadow=True)\n",
    "plt.ticklabel_format(style='plain',useOffset=False) \n",
    "plt.grid(True)\n",
    "plt.show()  \n",
    " "
   ]
  },
  {
   "cell_type": "markdown",
   "id": "e6ce2a25-d106-469e-8d3b-960eaa253591",
   "metadata": {},
   "source": [
    "#### Decision Tree Regression"
   ]
  },
  {
   "cell_type": "code",
   "execution_count": 121,
   "id": "b23b7843-a4c7-494a-a861-0a1dbb5114f1",
   "metadata": {},
   "outputs": [],
   "source": [
    "from pyspark.ml.regression import DecisionTreeRegressor\n",
    "from pyspark.ml.tuning import ParamGridBuilder, CrossValidator\n",
    "from pyspark.ml.evaluation import RegressionEvaluator"
   ]
  },
  {
   "cell_type": "code",
   "execution_count": 122,
   "id": "70cfc36f-8db6-4b18-8147-3e90ba039c5c",
   "metadata": {},
   "outputs": [],
   "source": [
    "dt = DecisionTreeRegressor(labelCol=\"score\", featuresCol=\"features\")"
   ]
  },
  {
   "cell_type": "code",
   "execution_count": 124,
   "id": "d16de8b6-e7df-4afa-a920-dabcc80b3ade",
   "metadata": {},
   "outputs": [],
   "source": [
    "#Creating a pipeline\n",
    "pipeline_dt = Pipeline(stages=[stringIndexer_sentiment, stringIndexer_hour, onehot_sentiment, onehot_hour, vectorAssembler_sentiment, dt])"
   ]
  },
  {
   "cell_type": "code",
   "execution_count": 125,
   "id": "09fd74ef-70e7-4d15-a3a4-8cf048043877",
   "metadata": {},
   "outputs": [],
   "source": [
    "# Create ParamGrid for Cross Validation\n",
    "dtparamGrid = (ParamGridBuilder()\\\n",
    "             .addGrid(dt.maxDepth, [2, 5, 10])\\\n",
    "             .addGrid(dt.maxBins, [10, 20,40])\\\n",
    "             .build())"
   ]
  },
  {
   "cell_type": "code",
   "execution_count": 126,
   "id": "af515fc9-7a3e-475b-acb2-bf5f98c8e5cb",
   "metadata": {},
   "outputs": [],
   "source": [
    "# Evaluate model\n",
    "dtevaluator = RegressionEvaluator(predictionCol=\"prediction\", labelCol=\"score\", metricName=\"rmse\")"
   ]
  },
  {
   "cell_type": "code",
   "execution_count": 127,
   "id": "3940d50c-e797-437e-adfc-8cafdccf8471",
   "metadata": {},
   "outputs": [],
   "source": [
    "# Create 3-fold CrossValidator\n",
    "dtcv = CrossValidator(estimator = pipeline_dt,\n",
    "                      estimatorParamMaps = dtparamGrid,\n",
    "                      evaluator = dtevaluator,\n",
    "                      numFolds = 3)"
   ]
  },
  {
   "cell_type": "code",
   "execution_count": 128,
   "id": "82728602-4c12-4f93-9e30-f34f6b05713f",
   "metadata": {},
   "outputs": [
    {
     "name": "stderr",
     "output_type": "stream",
     "text": [
      "                                                                                \r"
     ]
    }
   ],
   "source": [
    "# Run cross validations\n",
    "dtcvModel = dtcv.fit(train_data)"
   ]
  },
  {
   "cell_type": "code",
   "execution_count": null,
   "id": "4ff4cc99-6a14-4c94-8e6c-2883ce88cc0f",
   "metadata": {},
   "outputs": [],
   "source": [
    "# Save the model pipeline into s3\n",
    "dtcvModel.write().save('s3://ssp88-labdata2/dtcvModel')"
   ]
  },
  {
   "cell_type": "code",
   "execution_count": 129,
   "id": "37788b0a-1358-4ab2-89ce-d9e4d655ae7b",
   "metadata": {},
   "outputs": [],
   "source": [
    "# Use test set here so we can measure the accuracy of our model on new data\n",
    "dtpredictions = dtcvModel.transform(test_data)"
   ]
  },
  {
   "cell_type": "code",
   "execution_count": 140,
   "id": "bf6f3553-b62d-4529-8947-15ce94b27cea",
   "metadata": {},
   "outputs": [
    {
     "name": "stderr",
     "output_type": "stream",
     "text": [
      "                                                                                \r"
     ]
    },
    {
     "name": "stdout",
     "output_type": "stream",
     "text": [
      "MSE: 30039.488938120427\n"
     ]
    },
    {
     "name": "stderr",
     "output_type": "stream",
     "text": [
      "                                                                                \r"
     ]
    },
    {
     "name": "stdout",
     "output_type": "stream",
     "text": [
      "RMSE: 173.3190380140636\n"
     ]
    },
    {
     "name": "stderr",
     "output_type": "stream",
     "text": [
      "[Stage 5478:===================================================>  (49 + 2) / 51]\r"
     ]
    },
    {
     "name": "stdout",
     "output_type": "stream",
     "text": [
      "MAE: 21.004838989749768\n"
     ]
    },
    {
     "name": "stderr",
     "output_type": "stream",
     "text": [
      "                                                                                \r"
     ]
    }
   ],
   "source": [
    "# cvModel uses the best model found from the Cross Validation\n",
    "# Evaluate best model\n",
    "print('MSE:',dtevaluator.evaluate(dtpredictions,\n",
    "{dtevaluator.metricName: \"mse\"})\n",
    ")\n",
    "print('RMSE:', dtevaluator.evaluate(dtpredictions,\n",
    "{dtevaluator.metricName: \"rmse\"})\n",
    ")\n",
    "print('MAE:',dtevaluator.evaluate(dtpredictions,\n",
    "{dtevaluator.metricName: \"mae\"})\n",
    ")"
   ]
  },
  {
   "cell_type": "code",
   "execution_count": 155,
   "id": "69a3dec0-36a8-40ca-9207-3890b8788e68",
   "metadata": {},
   "outputs": [
    {
     "name": "stderr",
     "output_type": "stream",
     "text": [
      "                                                                                \r"
     ]
    }
   ],
   "source": [
    "# Original and Predicted data\n",
    "x_ax = range(0, dtpredictions.count())\n",
    "y_pred = dtpredictions.select(\"prediction\").collect()\n",
    "y_orig = dtpredictions.select(\"score\").collect()  "
   ]
  },
  {
   "cell_type": "code",
   "execution_count": 156,
   "id": "11a5e085-ca1d-4752-bb5e-4029d13166cb",
   "metadata": {},
   "outputs": [
    {
     "data": {
      "image/png": "[encoded data removed]",
      "text/plain": [
       "<Figure size 576x576 with 1 Axes>"
      ]
     },
     "metadata": {
      "needs_background": "light"
     },
     "output_type": "display_data"
    }
   ],
   "source": [
    "import matplotlib.pyplot as plt\n",
    "plt.figure(figsize=(8,8))\n",
    "plt.plot(x_ax, y_orig,'orange', label=\"original\")\n",
    "plt.plot(x_ax, y_pred,'darkorchid' ,label=\"predicted\")\n",
    "plt.title(\"Test and predicted data using Decision Tree\")\n",
    "plt.xlabel('Range of data')\n",
    "plt.ylabel('Score')\n",
    "plt.legend(loc='best',fancybox=True, shadow=True)\n",
    "plt.ticklabel_format(style='plain',useOffset=False) \n",
    "plt.grid(True)\n",
    "plt.show()  \n",
    " "
   ]
  },
  {
   "cell_type": "markdown",
   "id": "9c022002-81a0-4d7b-90d7-b24d6209d609",
   "metadata": {},
   "source": [
    "### Question 2 : Predict Controversiality of the comment"
   ]
  },
  {
   "cell_type": "markdown",
   "id": "41a8811c-cb6f-4dd5-bdbb-4b8de095793b",
   "metadata": {},
   "source": [
    "#### ML Transformations"
   ]
  },
  {
   "cell_type": "code",
   "execution_count": 101,
   "id": "181c73ed-7391-41f7-ad82-619b8f7cfc42",
   "metadata": {},
   "outputs": [],
   "source": [
    "import pandas as pd\n",
    "import numpy as np\n",
    "import json\n",
    "from sklearn.metrics import roc_curve, roc_auc_score\n",
    "from pyspark.ml.feature import OneHotEncoder, StringIndexer, IndexToString, VectorAssembler\n",
    "from pyspark.ml.classification import RandomForestClassifier, GBTClassifier, LogisticRegression, LinearSVC\n",
    "from pyspark.ml.evaluation import BinaryClassificationEvaluator, MulticlassClassificationEvaluator, RegressionEvaluator\n",
    "from pyspark.ml import Pipeline, Model\n",
    "from pyspark.ml.pipeline import PipelineModel\n",
    "from pyspark.ml.tuning import ParamGridBuilder, CrossValidator\n",
    "from pyspark.mllib.evaluation import BinaryClassificationMetrics"
   ]
  },
  {
   "cell_type": "code",
   "execution_count": 9,
   "id": "a64a6db1-ce6f-49ba-be8c-3be257c252fa",
   "metadata": {},
   "outputs": [],
   "source": [
    "#Selecting necessary columns\n",
    "df_con = df_full.select(['author_premium', 'controversiality', 'locked', 'no_follow', 'stickied','total_awards_received','comment_length','hour', 'score'] )"
   ]
  },
  {
   "cell_type": "code",
   "execution_count": 10,
   "id": "42291e12-0349-41db-be1d-04d9df489bf3",
   "metadata": {},
   "outputs": [
    {
     "name": "stderr",
     "output_type": "stream",
     "text": [
      "22/04/29 15:35:17 WARN package: Truncated the string representation of a plan since it was too large. This behavior can be adjusted by setting 'spark.sql.debug.maxToStringFields'.\n",
      "                                                                                \r"
     ]
    },
    {
     "name": "stdout",
     "output_type": "stream",
     "text": [
      "+--------------+--------+\n",
      "|author_premium|   count|\n",
      "+--------------+--------+\n",
      "|          null| 2988543|\n",
      "|          true|  763357|\n",
      "|         false|14369052|\n",
      "+--------------+--------+\n",
      "\n"
     ]
    }
   ],
   "source": [
    "#Checking categorical columns\n",
    "df_con.groupBy('author_premium').count().show()"
   ]
  },
  {
   "cell_type": "code",
   "execution_count": 11,
   "id": "a0a689b3-6b8a-40ee-958e-8b6ab49614e2",
   "metadata": {},
   "outputs": [],
   "source": [
    "#Keeping the rows with only True, False as author_premium\n",
    "df_con = df_con.filter((df_con.author_premium == 'true') | (df_con.author_premium == 'false'))"
   ]
  },
  {
   "cell_type": "code",
   "execution_count": 12,
   "id": "883fd4ac-f70f-4cc6-8728-6ab3b2e1e915",
   "metadata": {},
   "outputs": [
    {
     "name": "stderr",
     "output_type": "stream",
     "text": [
      "                                                                                \r"
     ]
    },
    {
     "name": "stdout",
     "output_type": "stream",
     "text": [
      "+----------------+--------+\n",
      "|controversiality|   count|\n",
      "+----------------+--------+\n",
      "|               1|  779649|\n",
      "|               0|14352760|\n",
      "+----------------+--------+\n",
      "\n"
     ]
    }
   ],
   "source": [
    "#Checking the balance of target\n",
    "df_con.groupBy('controversiality').count().show()"
   ]
  },
  {
   "cell_type": "code",
   "execution_count": 13,
   "id": "5436e085-bc00-4693-8a19-a6e68a6d8349",
   "metadata": {},
   "outputs": [
    {
     "name": "stderr",
     "output_type": "stream",
     "text": [
      "                                                                                \r"
     ]
    }
   ],
   "source": [
    "#Downsamping as controversiality is imbalanced\n",
    "major_df = df_con.filter(col(\"controversiality\") == 0)\n",
    "minor_df = df_con.filter(col(\"controversiality\") == 1)\n",
    "ratio = int(major_df.count()/minor_df.count())"
   ]
  },
  {
   "cell_type": "code",
   "execution_count": 14,
   "id": "1a8c1e64-60b8-4058-97e7-8642898827f6",
   "metadata": {},
   "outputs": [],
   "source": [
    "sampled_majority_df = major_df.sample(False, 1/ratio)\n",
    "downsampled_df = sampled_majority_df.unionAll(minor_df)"
   ]
  },
  {
   "cell_type": "code",
   "execution_count": 120,
   "id": "5523ca7c-d11c-4f03-b725-3b4d3ba41efc",
   "metadata": {},
   "outputs": [
    {
     "name": "stderr",
     "output_type": "stream",
     "text": [
      "                                                                                \r"
     ]
    },
    {
     "name": "stdout",
     "output_type": "stream",
     "text": [
      "+----------------+------+\n",
      "|controversiality| count|\n",
      "+----------------+------+\n",
      "|               1|779649|\n",
      "|               0|799348|\n",
      "+----------------+------+\n",
      "\n"
     ]
    }
   ],
   "source": [
    "downsampled_df.groupBy('controversiality').count().show()"
   ]
  },
  {
   "cell_type": "code",
   "execution_count": 61,
   "id": "717b78e1-24b6-4a0f-b50b-69ad8ab996a0",
   "metadata": {},
   "outputs": [],
   "source": [
    "#Splitting the data into train test and predict for our creating the model\n",
    "train_data, test_data = downsampled_df.randomSplit([0.8, 0.2,], 24)"
   ]
  },
  {
   "cell_type": "code",
   "execution_count": 62,
   "id": "0a8243bd-7b76-4b90-a6b0-6be25628e6a9",
   "metadata": {},
   "outputs": [],
   "source": [
    "stringIndexer_hour = StringIndexer(inputCol=\"hour\", outputCol=\"hour_idx\")"
   ]
  },
  {
   "cell_type": "code",
   "execution_count": 63,
   "id": "aa1f0791-68a4-4287-9e02-ee94aa563801",
   "metadata": {},
   "outputs": [],
   "source": [
    "onehot_hour = OneHotEncoder(inputCol=\"hour_idx\", \n",
    "                       outputCol=\"hour_vec\")"
   ]
  },
  {
   "cell_type": "code",
   "execution_count": 64,
   "id": "bc521b6c-5276-47ac-bdf8-17c6e483b15d",
   "metadata": {},
   "outputs": [],
   "source": [
    "vectorAssembler_con = VectorAssembler(\n",
    "    inputCols=['author_premium', 'locked', 'no_follow', 'stickied','total_awards_received','comment_length','hour_vec', 'score'],\n",
    "    outputCol= \"features\")"
   ]
  },
  {
   "cell_type": "markdown",
   "id": "02cc9f20-3384-4add-a023-517f45c47807",
   "metadata": {},
   "source": [
    "#### Logistic Regression"
   ]
  },
  {
   "cell_type": "code",
   "execution_count": 83,
   "id": "102af536-c0bb-4ba8-9c40-d8fe3f55759a",
   "metadata": {},
   "outputs": [],
   "source": [
    "# Create initial LogisticRegression model\n",
    "lr2 = LogisticRegression(labelCol=\"controversiality\", featuresCol=\"features\")"
   ]
  },
  {
   "cell_type": "code",
   "execution_count": 84,
   "id": "adc0170a-e46f-4e44-a635-ee139b19ebc6",
   "metadata": {},
   "outputs": [],
   "source": [
    "#Creating a pipeline\n",
    "pipeline_lr2 = Pipeline(stages=[stringIndexer_hour, onehot_hour, vectorAssembler_con, lr2])"
   ]
  },
  {
   "cell_type": "code",
   "execution_count": 93,
   "id": "a0554fdb-fd9a-451e-971b-7ecf255f7970",
   "metadata": {},
   "outputs": [],
   "source": [
    "# Create ParamGrid for Cross Validation\n",
    "lrparamGrid2 = ParamGridBuilder()\\\n",
    "             .addGrid(lr2.regParam, [0.01, 0.1, 0.5])\\\n",
    "             .addGrid(lr2.elasticNetParam, [0.25, 0.5, 0.75])\\\n",
    "             .addGrid(lr2.maxIter, [5, 10, 20])\\\n",
    "             .build()"
   ]
  },
  {
   "cell_type": "code",
   "execution_count": 94,
   "id": "ab400147-9de2-40d2-9d75-7674a1ca4fcc",
   "metadata": {},
   "outputs": [],
   "source": [
    "# Evaluate model\n",
    "lrevaluator2 = BinaryClassificationEvaluator().setLabelCol(\"controversiality\")"
   ]
  },
  {
   "cell_type": "code",
   "execution_count": 95,
   "id": "bd536eff-6e13-4f8b-9d1a-30265ce58dd5",
   "metadata": {},
   "outputs": [],
   "source": [
    "# Create 3-fold CrossValidator\n",
    "lrcv2 = CrossValidator(estimator = pipeline_lr2,\n",
    "                    estimatorParamMaps = lrparamGrid2,\n",
    "                    evaluator = lrevaluator2,\n",
    "                    numFolds = 3)"
   ]
  },
  {
   "cell_type": "code",
   "execution_count": 96,
   "id": "62485978-e2bd-47b9-89f2-a84d33d38cc4",
   "metadata": {},
   "outputs": [
    {
     "name": "stderr",
     "output_type": "stream",
     "text": [
      "                                                                                \r"
     ]
    }
   ],
   "source": [
    "# Run cross validations\n",
    "lrcvModel2 = lrcv2.fit(train_data)"
   ]
  },
  {
   "cell_type": "code",
   "execution_count": 183,
   "id": "cbb92625-d926-45d6-bb20-a985e20722ef",
   "metadata": {},
   "outputs": [],
   "source": [
    "# Save the model pipeline into s3\n",
    "lrcvModel2.write().save('s3://ssp88-labdata2/lrcvModel2')"
   ]
  },
  {
   "cell_type": "code",
   "execution_count": 99,
   "id": "7868547a-1d05-4891-bbe9-27a20f1ce4ff",
   "metadata": {},
   "outputs": [],
   "source": [
    "# Use test set here so we can measure the accuracy of our model on new data\n",
    "lrprediction2 = lrcvModel2.transform(test_data)"
   ]
  },
  {
   "cell_type": "code",
   "execution_count": 127,
   "id": "f4154875-9147-4287-b0e7-70455c3d856d",
   "metadata": {},
   "outputs": [
    {
     "name": "stderr",
     "output_type": "stream",
     "text": [
      "                                                                                \r"
     ]
    },
    {
     "name": "stdout",
     "output_type": "stream",
     "text": [
      "Accuracy = 0.626823\n",
      "Test Error = 0.373177\n"
     ]
    }
   ],
   "source": [
    "# cvModel uses the best model found from the Cross Validation\n",
    "# Evaluate best model\n",
    "lr_acc2 = lrevaluator2.evaluate(lrprediction2)\n",
    "\n",
    "#Displaying the results\n",
    "print(\"Accuracy = %g\" % lr_acc2)\n",
    "print(\"Test Error = %g\" % (1.0 - lr_acc2))"
   ]
  },
  {
   "cell_type": "code",
   "execution_count": 130,
   "id": "46183a38-d62f-4380-807f-af9e0fc3d521",
   "metadata": {},
   "outputs": [
    {
     "name": "stderr",
     "output_type": "stream",
     "text": [
      "                                                                                \r"
     ]
    }
   ],
   "source": [
    "#Confusion Matrix \n",
    "#y_pred has the predicted labels\n",
    "y_pred_lr=lrprediction2.select(\"prediction\").collect()\n",
    "#y_orig are the actual labels \n",
    "y_orig_lr =lrprediction2.select(\"controversiality\").collect()"
   ]
  },
  {
   "cell_type": "code",
   "execution_count": 131,
   "id": "a06eb82f-011b-4e6d-9ce7-c833aa3a8f53",
   "metadata": {},
   "outputs": [
    {
     "name": "stdout",
     "output_type": "stream",
     "text": [
      "Confusion Matrix:\n",
      "[[ 47209 111748]\n",
      " [ 28353 127511]]\n"
     ]
    }
   ],
   "source": [
    "#Creating the confusion matrix \n",
    "cm = confusion_matrix(y_orig_lr, y_pred_lr)\n",
    "print(\"Confusion Matrix:\")\n",
    "print(cm)"
   ]
  },
  {
   "cell_type": "markdown",
   "id": "98345cec-f0c6-4e29-9c4e-2c4319d1baaa",
   "metadata": {},
   "source": [
    "#### Random Forest"
   ]
  },
  {
   "cell_type": "code",
   "execution_count": 111,
   "id": "359be2fb-8d68-4550-9996-f2dc357a33fc",
   "metadata": {},
   "outputs": [],
   "source": [
    "# Create initial RandomForest model\n",
    "rf2 = RandomForestClassifier(labelCol=\"controversiality\", featuresCol=\"features\")"
   ]
  },
  {
   "cell_type": "code",
   "execution_count": 112,
   "id": "49d34426-347b-4b2a-965b-7e8f44f444ff",
   "metadata": {},
   "outputs": [],
   "source": [
    "#Creating a pipeline\n",
    "pipeline_rf2 = Pipeline(stages=[stringIndexer_hour, onehot_hour, vectorAssembler_con, rf2])"
   ]
  },
  {
   "cell_type": "code",
   "execution_count": 114,
   "id": "658adb30-47d6-46d1-97a4-f7aabea1cf18",
   "metadata": {},
   "outputs": [],
   "source": [
    "# Create ParamGrid for Cross Validation\n",
    "rfparamGrid2 = ParamGridBuilder()\\\n",
    "               .addGrid(rf2.maxDepth, [2, 5, 10])\\\n",
    "               .addGrid(rf2.maxBins, [5, 10, 20])\\\n",
    "               .addGrid(rf2.numTrees, [5, 20, 50])\\\n",
    "               .build()"
   ]
  },
  {
   "cell_type": "code",
   "execution_count": 119,
   "id": "27d878fd-6814-4b83-94f7-af9496176502",
   "metadata": {},
   "outputs": [],
   "source": [
    "# Evaluate model\n",
    "rfevaluator2 = RegressionEvaluator().setLabelCol(\"controversiality\")"
   ]
  },
  {
   "cell_type": "code",
   "execution_count": 122,
   "id": "d72585ca-d325-4436-b22b-bda86e3a6199",
   "metadata": {},
   "outputs": [],
   "source": [
    "# Create 3-fold CrossValidator\n",
    "rfcv2 = CrossValidator(estimator = pipeline_rf2,\n",
    "                      estimatorParamMaps = rfparamGrid2,\n",
    "                      evaluator = rfevaluator2,\n",
    "                      numFolds = 3)"
   ]
  },
  {
   "cell_type": "code",
   "execution_count": 123,
   "id": "b6505a62-7e8b-4887-acb5-9cfa1d7c1e3c",
   "metadata": {},
   "outputs": [
    {
     "name": "stderr",
     "output_type": "stream",
     "text": [
      "22/04/29 17:03:05 WARN CacheManager: Asked to cache already cached data.\n",
      "22/04/29 17:03:05 WARN CacheManager: Asked to cache already cached data.\n",
      "22/04/29 17:05:05 WARN DAGScheduler: Broadcasting large task binary with size 1335.8 KiB\n",
      "22/04/29 17:05:07 WARN DAGScheduler: Broadcasting large task binary with size 1782.4 KiB\n",
      "22/04/29 17:05:35 WARN DAGScheduler: Broadcasting large task binary with size 1002.0 KiB\n",
      "22/04/29 17:05:37 WARN DAGScheduler: Broadcasting large task binary with size 1402.0 KiB\n",
      "22/04/29 17:05:39 WARN DAGScheduler: Broadcasting large task binary with size 1904.9 KiB\n",
      "22/04/29 17:06:06 WARN DAGScheduler: Broadcasting large task binary with size 1003.3 KiB\n",
      "22/04/29 17:06:08 WARN DAGScheduler: Broadcasting large task binary with size 1413.0 KiB\n",
      "22/04/29 17:06:10 WARN DAGScheduler: Broadcasting large task binary with size 1935.1 KiB\n",
      "22/04/29 17:07:55 WARN DAGScheduler: Broadcasting large task binary with size 1000.3 KiB\n",
      "22/04/29 17:07:57 WARN DAGScheduler: Broadcasting large task binary with size 1384.7 KiB\n",
      "22/04/29 17:07:59 WARN DAGScheduler: Broadcasting large task binary with size 1849.5 KiB\n",
      "22/04/29 17:08:26 WARN DAGScheduler: Broadcasting large task binary with size 1020.0 KiB\n",
      "22/04/29 17:08:28 WARN DAGScheduler: Broadcasting large task binary with size 1440.1 KiB\n",
      "22/04/29 17:08:30 WARN DAGScheduler: Broadcasting large task binary with size 1960.8 KiB\n",
      "22/04/29 17:08:55 WARN DAGScheduler: Broadcasting large task binary with size 1030.6 KiB\n",
      "22/04/29 17:08:57 WARN DAGScheduler: Broadcasting large task binary with size 1469.6 KiB\n",
      "22/04/29 17:08:59 WARN DAGScheduler: Broadcasting large task binary with size 2024.9 KiB\n",
      "22/04/29 17:10:49 WARN DAGScheduler: Broadcasting large task binary with size 1378.1 KiB\n",
      "22/04/29 17:10:51 WARN DAGScheduler: Broadcasting large task binary with size 1852.2 KiB\n",
      "22/04/29 17:11:17 WARN DAGScheduler: Broadcasting large task binary with size 1019.6 KiB\n",
      "22/04/29 17:11:19 WARN DAGScheduler: Broadcasting large task binary with size 1428.2 KiB\n",
      "22/04/29 17:11:21 WARN DAGScheduler: Broadcasting large task binary with size 1949.9 KiB\n",
      "22/04/29 17:11:46 WARN DAGScheduler: Broadcasting large task binary with size 1024.5 KiB\n",
      "22/04/29 17:11:47 WARN DAGScheduler: Broadcasting large task binary with size 1455.5 KiB\n",
      "22/04/29 17:11:50 WARN DAGScheduler: Broadcasting large task binary with size 1999.9 KiB\n",
      "                                                                                \r"
     ]
    }
   ],
   "source": [
    "# Run cross validations\n",
    "rfcvModel2 = rfcv2.fit(train_data)"
   ]
  },
  {
   "cell_type": "code",
   "execution_count": 184,
   "id": "dd7ba230-ff71-4616-a90f-18d3c6132d2f",
   "metadata": {},
   "outputs": [],
   "source": [
    "# Save the model pipeline into s3\n",
    "rfcvModel2.write().save('s3://ssp88-labdata2/rfcvModel2')"
   ]
  },
  {
   "cell_type": "code",
   "execution_count": 124,
   "id": "9fcff698-7c80-455c-9c4a-10adfb7b9a5a",
   "metadata": {},
   "outputs": [],
   "source": [
    "# Use test set here so we can measure the accuracy of our model on new data\n",
    "rfprediction2 = rfcvModel2.transform(test_data)"
   ]
  },
  {
   "cell_type": "code",
   "execution_count": 126,
   "id": "33500654-dfb2-49e5-8412-d77380788d91",
   "metadata": {},
   "outputs": [
    {
     "name": "stderr",
     "output_type": "stream",
     "text": [
      "[Stage 18586:==================================================>(100 + 2) / 102]\r"
     ]
    },
    {
     "name": "stdout",
     "output_type": "stream",
     "text": [
      "Accuracy = 0.550374\n",
      "Test Error = 0.449626\n"
     ]
    },
    {
     "name": "stderr",
     "output_type": "stream",
     "text": [
      "                                                                                \r"
     ]
    }
   ],
   "source": [
    "# cvModel uses the best model found from the Cross Validation\n",
    "# Evaluate best model\n",
    "rf_acc2 = rfevaluator2.evaluate(rfprediction2)\n",
    "\n",
    "#Displaying the results\n",
    "print(\"Accuracy = %g\" % rf_acc2)\n",
    "print(\"Test Error = %g\" % (1.0 - rf_acc2))"
   ]
  },
  {
   "cell_type": "code",
   "execution_count": 132,
   "id": "1e943102-d086-4d10-b2e7-9e2ff3b07813",
   "metadata": {},
   "outputs": [
    {
     "name": "stderr",
     "output_type": "stream",
     "text": [
      "                                                                                \r"
     ]
    }
   ],
   "source": [
    "#Confusion Matrix\n",
    "#y_pred has the predicted labels\n",
    "y_pred_rf=rfprediction2.select(\"prediction\").collect()\n",
    "#y_orig are the actual labels \n",
    "y_orig_rf =rfprediction2.select(\"controversiality\").collect()"
   ]
  },
  {
   "cell_type": "code",
   "execution_count": 133,
   "id": "3fd3517e-584f-422c-8cc2-57359650b944",
   "metadata": {},
   "outputs": [
    {
     "name": "stdout",
     "output_type": "stream",
     "text": [
      "Confusion Matrix:\n",
      "[[137319  21638]\n",
      " [ 73725  82139]]\n"
     ]
    }
   ],
   "source": [
    "#Creating the confusion matrix \n",
    "cm = confusion_matrix(y_orig_rf, y_pred_rf)\n",
    "print(\"Confusion Matrix:\")\n",
    "print(cm)"
   ]
  },
  {
   "cell_type": "code",
   "execution_count": null,
   "id": "4fe448ca-94ab-4bc1-be42-df091df02e5c",
   "metadata": {},
   "outputs": [],
   "source": []
  },
  {
   "cell_type": "markdown",
   "id": "dfddbdc1-0b93-4aec-942b-4723061109a6",
   "metadata": {},
   "source": [
    "### ROC Curve"
   ]
  },
  {
   "cell_type": "code",
   "execution_count": 161,
   "id": "92eb9485-8ce7-4cfc-b99b-a9270f630936",
   "metadata": {},
   "outputs": [
    {
     "name": "stderr",
     "output_type": "stream",
     "text": [
      "                                                                                \r"
     ]
    }
   ],
   "source": [
    "from sklearn.metrics import roc_curve\n",
    "from pyspark.ml.functions import vector_to_array\n",
    "\n",
    "y_score_lr = lrprediction2.select(vector_to_array(\"probability\")[1]).rdd.keys().collect()\n",
    "y_true_lr = lrprediction2.select(\"controversiality\").rdd.keys().collect()\n",
    "fprlr, tprlr, thresholdslr = roc_curve(y_true_lr, y_score_lr)"
   ]
  },
  {
   "cell_type": "code",
   "execution_count": 162,
   "id": "0ba65ecf-1f6d-4d66-bf5a-2622a1aa1813",
   "metadata": {},
   "outputs": [
    {
     "name": "stderr",
     "output_type": "stream",
     "text": [
      "                                                                                \r"
     ]
    }
   ],
   "source": [
    "y_score_rf = rfprediction2.select(vector_to_array(\"probability\")[1]).rdd.keys().collect()\n",
    "y_true_rf = rfprediction2.select(\"controversiality\").rdd.keys().collect()\n",
    "fprrf, tprrf, thresholdsrf = roc_curve(y_true_rf, y_score_rf)"
   ]
  },
  {
   "cell_type": "code",
   "execution_count": 179,
   "id": "e4098b08-5479-4895-9a4b-4a46942582f4",
   "metadata": {},
   "outputs": [
    {
     "data": {
      "image/png": "[encoded data removed]",
      "text/plain": [
       "<Figure size 576x576 with 1 Axes>"
      ]
     },
     "metadata": {
      "needs_background": "light"
     },
     "output_type": "display_data"
    },
    {
     "data": {
      "text/plain": [
       "<Figure size 432x288 with 0 Axes>"
      ]
     },
     "metadata": {},
     "output_type": "display_data"
    }
   ],
   "source": [
    "plt.figure(figsize=(8,8))\n",
    "plt.plot([0, 1], [0, 1], 'r--')\n",
    "lr_plot = plt.plot(fprlr,\n",
    "         tprlr,'g', label='logistic regression')\n",
    "rf_plot = plt.plot(fprrf,\n",
    "         tprrf,'b', label='random forest')\n",
    "plt.legend(loc=\"upper left\")\n",
    "plt.xlabel('False Positive Rate')\n",
    "plt.ylabel('True Positive Rate')\n",
    "plt.title(\"ROC Curve\")\n",
    "plt.show()\n",
    "plt.savefig('roc_lr.png')"
   ]
  },
  {
   "cell_type": "code",
   "execution_count": null,
   "id": "c8078382-e975-43a8-89a5-c898855a1d91",
   "metadata": {},
   "outputs": [],
   "source": [
    "spark.stop()"
   ]
  }
 ],
 "metadata": {
  "kernelspec": {
   "display_name": "Python 3 (ipykernel)",
   "language": "python",
   "name": "python3"
  },
  "language_info": {
   "codemirror_mode": {
    "name": "ipython",
    "version": 3
   },
   "file_extension": ".py",
   "mimetype": "text/x-python",
   "name": "python",
   "nbconvert_exporter": "python",
   "pygments_lexer": "ipython3",
   "version": "3.7.11"
  }
 },
 "nbformat": 4,
 "nbformat_minor": 5
}
