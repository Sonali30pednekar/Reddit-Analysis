{
 "cells": [
  {
   "cell_type": "markdown",
   "id": "45e24818-874c-4a1c-bbec-31995beead19",
   "metadata": {},
   "source": [
    "# Reddit Project Starter Script"
   ]
  },
  {
   "cell_type": "markdown",
   "id": "31472461-d990-4b83-a1ee-79e9f41f532e",
   "metadata": {},
   "source": [
    "### Putting data into your own bucket"
   ]
  },
  {
   "cell_type": "markdown",
   "id": "ef68cb6d-6297-4fe7-9c2f-29370fa7a5e5",
   "metadata": {},
   "source": [
    "In the following cell you can view the list of subreddits:"
   ]
  },
  {
   "cell_type": "code",
   "execution_count": 1,
   "id": "64ffa23c-dcb7-400f-9570-81d2118e7eec",
   "metadata": {},
   "outputs": [
    {
     "name": "stdout",
     "output_type": "stream",
     "text": [
      "                           PRE ACTrade/\n",
      "                           PRE AmItheAsshole/\n",
      "                           PRE AskReddit/\n",
      "                           PRE Coronavirus/\n",
      "                           PRE CryptoCurrency/\n",
      "                           PRE MMA/\n",
      "                           PRE Minecraft/\n",
      "                           PRE NoStupidQuestions/\n",
      "                           PRE PoliticalCompassMemes/\n",
      "                           PRE PublicFreakout/\n",
      "                           PRE Showerthoughts/\n",
      "                           PRE Superstonk/\n",
      "                           PRE apexlegends/\n",
      "                           PRE aww/\n",
      "                           PRE conspiracy/\n",
      "                           PRE gaming/\n",
      "                           PRE interestingasfuck/\n",
      "                           PRE leagueoflegends/\n",
      "                           PRE movies/\n",
      "                           PRE nba/\n",
      "                           PRE news/\n",
      "                           PRE pcmasterrace/\n",
      "                           PRE politics/\n",
      "                           PRE relationship_advice/\n",
      "                           PRE soccer/\n",
      "                           PRE stocks/\n",
      "                           PRE teenagers/\n",
      "                           PRE unpopularopinion/\n",
      "                           PRE wallstreetbets/\n",
      "                           PRE worldnews/\n"
     ]
    }
   ],
   "source": [
    "!aws s3 ls s3://bigdatateaching/reddit/subreddits/"
   ]
  },
  {
   "cell_type": "markdown",
   "id": "126e3bc1-53f5-4e01-90ba-f0206e1693e8",
   "metadata": {},
   "source": [
    "In the following cell, you will copy your assigned subreddit from the central teaching bucket to your own persaonl bucket. This cell MUST only be executed once per account!!"
   ]
  },
  {
   "cell_type": "code",
   "execution_count": 2,
   "id": "3606e95b-18ea-4075-abcc-1dce0b07e203",
   "metadata": {},
   "outputs": [
    {
     "name": "stdout",
     "output_type": "stream",
     "text": [
      "copy: s3://bigdatateaching/reddit/subreddits/PublicFreakout/_SUCCESS to s3://ssp88-labdata3/reddit/_SUCCESS\n",
      "copy: s3://bigdatateaching/reddit/subreddits/PublicFreakout/ym_partition=201908/part-00005-e9f60906-3763-4b65-8628-efaba3a2f165.c000.snappy.parquet to s3://ssp88-labdata3/reddit/ym_partition=201908/part-00005-e9f60906-3763-4b65-8628-efaba3a2f165.c000.snappy.parquet\n",
      "copy: s3://bigdatateaching/reddit/subreddits/PublicFreakout/ym_partition=201907/part-00015-e9f60906-3763-4b65-8628-efaba3a2f165.c000.snappy.parquet to s3://ssp88-labdata3/reddit/ym_partition=201907/part-00015-e9f60906-3763-4b65-8628-efaba3a2f165.c000.snappy.parquet\n",
      "copy: s3://bigdatateaching/reddit/subreddits/PublicFreakout/ym_partition=201910/part-00005-e9f60906-3763-4b65-8628-efaba3a2f165.c000.snappy.parquet to s3://ssp88-labdata3/reddit/ym_partition=201910/part-00005-e9f60906-3763-4b65-8628-efaba3a2f165.c000.snappy.parquet\n",
      "copy: s3://bigdatateaching/reddit/subreddits/PublicFreakout/ym_partition=201911/part-00010-e9f60906-3763-4b65-8628-efaba3a2f165.c000.snappy.parquet to s3://ssp88-labdata3/reddit/ym_partition=201911/part-00010-e9f60906-3763-4b65-8628-efaba3a2f165.c000.snappy.parquet\n",
      "copy: s3://bigdatateaching/reddit/subreddits/PublicFreakout/ym_partition=201909/part-00010-e9f60906-3763-4b65-8628-efaba3a2f165.c000.snappy.parquet to s3://ssp88-labdata3/reddit/ym_partition=201909/part-00010-e9f60906-3763-4b65-8628-efaba3a2f165.c000.snappy.parquet\n",
      "copy: s3://bigdatateaching/reddit/subreddits/PublicFreakout/ym_partition=202001/part-00006-e9f60906-3763-4b65-8628-efaba3a2f165.c000.snappy.parquet to s3://ssp88-labdata3/reddit/ym_partition=202001/part-00006-e9f60906-3763-4b65-8628-efaba3a2f165.c000.snappy.parquet\n",
      "copy: s3://bigdatateaching/reddit/subreddits/PublicFreakout/ym_partition=201912/part-00014-e9f60906-3763-4b65-8628-efaba3a2f165.c000.snappy.parquet to s3://ssp88-labdata3/reddit/ym_partition=201912/part-00014-e9f60906-3763-4b65-8628-efaba3a2f165.c000.snappy.parquet\n",
      "copy: s3://bigdatateaching/reddit/subreddits/PublicFreakout/ym_partition=202002/part-00012-e9f60906-3763-4b65-8628-efaba3a2f165.c000.snappy.parquet to s3://ssp88-labdata3/reddit/ym_partition=202002/part-00012-e9f60906-3763-4b65-8628-efaba3a2f165.c000.snappy.parquet\n",
      "copy: s3://bigdatateaching/reddit/subreddits/PublicFreakout/ym_partition=202003/part-00001-e9f60906-3763-4b65-8628-efaba3a2f165.c000.snappy.parquet to s3://ssp88-labdata3/reddit/ym_partition=202003/part-00001-e9f60906-3763-4b65-8628-efaba3a2f165.c000.snappy.parquet\n",
      "copy: s3://bigdatateaching/reddit/subreddits/PublicFreakout/ym_partition=202004/part-00017-e9f60906-3763-4b65-8628-efaba3a2f165.c000.snappy.parquet to s3://ssp88-labdata3/reddit/ym_partition=202004/part-00017-e9f60906-3763-4b65-8628-efaba3a2f165.c000.snappy.parquet\n",
      "copy: s3://bigdatateaching/reddit/subreddits/PublicFreakout/ym_partition=202005/part-00010-e9f60906-3763-4b65-8628-efaba3a2f165.c000.snappy.parquet to s3://ssp88-labdata3/reddit/ym_partition=202005/part-00010-e9f60906-3763-4b65-8628-efaba3a2f165.c000.snappy.parquet\n",
      "copy: s3://bigdatateaching/reddit/subreddits/PublicFreakout/ym_partition=202009/part-00000-e9f60906-3763-4b65-8628-efaba3a2f165.c000.snappy.parquet to s3://ssp88-labdata3/reddit/ym_partition=202009/part-00000-e9f60906-3763-4b65-8628-efaba3a2f165.c000.snappy.parquet\n",
      "copy: s3://bigdatateaching/reddit/subreddits/PublicFreakout/ym_partition=202007/part-00004-e9f60906-3763-4b65-8628-efaba3a2f165.c000.snappy.parquet to s3://ssp88-labdata3/reddit/ym_partition=202007/part-00004-e9f60906-3763-4b65-8628-efaba3a2f165.c000.snappy.parquet\n",
      "copy: s3://bigdatateaching/reddit/subreddits/PublicFreakout/ym_partition=202008/part-00011-e9f60906-3763-4b65-8628-efaba3a2f165.c000.snappy.parquet to s3://ssp88-labdata3/reddit/ym_partition=202008/part-00011-e9f60906-3763-4b65-8628-efaba3a2f165.c000.snappy.parquet\n",
      "copy: s3://bigdatateaching/reddit/subreddits/PublicFreakout/ym_partition=202010/part-00010-e9f60906-3763-4b65-8628-efaba3a2f165.c000.snappy.parquet to s3://ssp88-labdata3/reddit/ym_partition=202010/part-00010-e9f60906-3763-4b65-8628-efaba3a2f165.c000.snappy.parquet\n",
      "copy: s3://bigdatateaching/reddit/subreddits/PublicFreakout/ym_partition=202006/part-00004-e9f60906-3763-4b65-8628-efaba3a2f165.c000.snappy.parquet to s3://ssp88-labdata3/reddit/ym_partition=202006/part-00004-e9f60906-3763-4b65-8628-efaba3a2f165.c000.snappy.parquet\n",
      "copy: s3://bigdatateaching/reddit/subreddits/PublicFreakout/ym_partition=202012/part-00016-e9f60906-3763-4b65-8628-efaba3a2f165.c000.snappy.parquet to s3://ssp88-labdata3/reddit/ym_partition=202012/part-00016-e9f60906-3763-4b65-8628-efaba3a2f165.c000.snappy.parquet\n",
      "copy: s3://bigdatateaching/reddit/subreddits/PublicFreakout/ym_partition=202102/part-00017-e9f60906-3763-4b65-8628-efaba3a2f165.c000.snappy.parquet to s3://ssp88-labdata3/reddit/ym_partition=202102/part-00017-e9f60906-3763-4b65-8628-efaba3a2f165.c000.snappy.parquet\n",
      "copy: s3://bigdatateaching/reddit/subreddits/PublicFreakout/ym_partition=202101/part-00000-e9f60906-3763-4b65-8628-efaba3a2f165.c000.snappy.parquet to s3://ssp88-labdata3/reddit/ym_partition=202101/part-00000-e9f60906-3763-4b65-8628-efaba3a2f165.c000.snappy.parquet\n",
      "copy: s3://bigdatateaching/reddit/subreddits/PublicFreakout/ym_partition=202011/part-00004-e9f60906-3763-4b65-8628-efaba3a2f165.c000.snappy.parquet to s3://ssp88-labdata3/reddit/ym_partition=202011/part-00004-e9f60906-3763-4b65-8628-efaba3a2f165.c000.snappy.parquet\n",
      "copy: s3://bigdatateaching/reddit/subreddits/PublicFreakout/ym_partition=202103/part-00009-e9f60906-3763-4b65-8628-efaba3a2f165.c000.snappy.parquet to s3://ssp88-labdata3/reddit/ym_partition=202103/part-00009-e9f60906-3763-4b65-8628-efaba3a2f165.c000.snappy.parquet\n",
      "copy: s3://bigdatateaching/reddit/subreddits/PublicFreakout/ym_partition=202104/part-00010-e9f60906-3763-4b65-8628-efaba3a2f165.c000.snappy.parquet to s3://ssp88-labdata3/reddit/ym_partition=202104/part-00010-e9f60906-3763-4b65-8628-efaba3a2f165.c000.snappy.parquet\n",
      "copy: s3://bigdatateaching/reddit/subreddits/PublicFreakout/ym_partition=202105/part-00016-e9f60906-3763-4b65-8628-efaba3a2f165.c000.snappy.parquet to s3://ssp88-labdata3/reddit/ym_partition=202105/part-00016-e9f60906-3763-4b65-8628-efaba3a2f165.c000.snappy.parquet\n",
      "copy: s3://bigdatateaching/reddit/subreddits/PublicFreakout/ym_partition=202106/part-00002-e9f60906-3763-4b65-8628-efaba3a2f165.c000.snappy.parquet to s3://ssp88-labdata3/reddit/ym_partition=202106/part-00002-e9f60906-3763-4b65-8628-efaba3a2f165.c000.snappy.parquet\n"
     ]
    }
   ],
   "source": [
    "!aws s3 cp s3://bigdatateaching/reddit/subreddits/PublicFreakout/ s3://ssp88-labdata3/reddit --recursive"
   ]
  },
  {
   "cell_type": "markdown",
   "id": "598eb41d-197c-4f0d-b207-a229e211d97c",
   "metadata": {},
   "source": [
    "### Reading your entire dataset"
   ]
  },
  {
   "cell_type": "code",
   "execution_count": 3,
   "id": "b9dc1d0a-0264-4efe-86d4-3d0756c99c9f",
   "metadata": {},
   "outputs": [],
   "source": [
    "import findspark\n",
    "findspark.init()"
   ]
  },
  {
   "cell_type": "code",
   "execution_count": 4,
   "id": "9db156f0-e1b0-4dad-99b2-a0a247af9e68",
   "metadata": {},
   "outputs": [],
   "source": [
    "import pyspark.sql.functions as f\n",
    "from pyspark.sql.functions import col, lit\n",
    "from pyspark.sql import SparkSession"
   ]
  },
  {
   "cell_type": "code",
   "execution_count": 5,
   "id": "3a82ccb4-e218-4821-a2fd-784909105238",
   "metadata": {},
   "outputs": [
    {
     "name": "stderr",
     "output_type": "stream",
     "text": [
      "Setting default log level to \"WARN\".\n",
      "To adjust logging level use sc.setLogLevel(newLevel). For SparkR, use setLogLevel(newLevel).\n",
      "22/05/03 03:12:04 WARN Client: Neither spark.yarn.jars nor spark.yarn.archive is set, falling back to uploading libraries under SPARK_HOME.\n"
     ]
    }
   ],
   "source": [
    "spark = SparkSession.builder.appName(\"reddit\").getOrCreate()"
   ]
  },
  {
   "cell_type": "markdown",
   "id": "a6564496-f89d-4cd0-8920-1b9ab3448ea1",
   "metadata": {},
   "source": [
    "Make sure your SparkSession is active:"
   ]
  },
  {
   "cell_type": "code",
   "execution_count": 6,
   "id": "705a305d-7dbb-4c08-a7f7-0fee39840510",
   "metadata": {},
   "outputs": [
    {
     "data": {
      "text/html": [
       "\n",
       "            <div>\n",
       "                <p><b>SparkSession - in-memory</b></p>\n",
       "                \n",
       "        <div>\n",
       "            <p><b>SparkContext</b></p>\n",
       "\n",
       "            <p><a href=\"http://ip-172-31-23-67.ec2.internal:4040\">Spark UI</a></p>\n",
       "\n",
       "            <dl>\n",
       "              <dt>Version</dt>\n",
       "                <dd><code>v3.0.0-amzn-0</code></dd>\n",
       "              <dt>Master</dt>\n",
       "                <dd><code>yarn</code></dd>\n",
       "              <dt>AppName</dt>\n",
       "                <dd><code>reddit</code></dd>\n",
       "            </dl>\n",
       "        </div>\n",
       "        \n",
       "            </div>\n",
       "        "
      ],
      "text/plain": [
       "<pyspark.sql.session.SparkSession at 0x7f7d5d08f690>"
      ]
     },
     "execution_count": 6,
     "metadata": {},
     "output_type": "execute_result"
    }
   ],
   "source": [
    "spark"
   ]
  },
  {
   "cell_type": "code",
   "execution_count": 7,
   "id": "edcfea00-1b0c-4c76-94c8-672551d39aba",
   "metadata": {},
   "outputs": [
    {
     "name": "stderr",
     "output_type": "stream",
     "text": [
      "                                                                                \r"
     ]
    }
   ],
   "source": [
    "df_full = spark.read.parquet('s3://ssp88-labdata3/reddit')"
   ]
  },
  {
   "cell_type": "code",
   "execution_count": 8,
   "id": "5cd34f43-88b7-4433-b687-b074a3995c58",
   "metadata": {},
   "outputs": [
    {
     "name": "stderr",
     "output_type": "stream",
     "text": [
      "22/05/03 03:12:34 WARN package: Truncated the string representation of a plan since it was too large. This behavior can be adjusted by setting 'spark.sql.debug.maxToStringFields'.\n",
      "                                                                                \r"
     ]
    },
    {
     "data": {
      "text/plain": [
       "18120952"
      ]
     },
     "execution_count": 8,
     "metadata": {},
     "output_type": "execute_result"
    }
   ],
   "source": [
    "df_full.count()"
   ]
  },
  {
   "cell_type": "markdown",
   "id": "4674dd19-4610-43bf-9add-be638eea625f",
   "metadata": {},
   "source": [
    "### Reading one month worth of data"
   ]
  },
  {
   "cell_type": "code",
   "execution_count": 9,
   "id": "ef20a13c-78f1-4e49-b1a2-4e79e885cb19",
   "metadata": {},
   "outputs": [
    {
     "name": "stdout",
     "output_type": "stream",
     "text": [
      "                           PRE ym_partition=201907/\n",
      "                           PRE ym_partition=201908/\n",
      "                           PRE ym_partition=201909/\n",
      "                           PRE ym_partition=201910/\n",
      "                           PRE ym_partition=201911/\n",
      "                           PRE ym_partition=201912/\n",
      "                           PRE ym_partition=202001/\n",
      "                           PRE ym_partition=202002/\n",
      "                           PRE ym_partition=202003/\n",
      "                           PRE ym_partition=202004/\n",
      "                           PRE ym_partition=202005/\n",
      "                           PRE ym_partition=202006/\n",
      "                           PRE ym_partition=202007/\n",
      "                           PRE ym_partition=202008/\n",
      "                           PRE ym_partition=202009/\n",
      "                           PRE ym_partition=202010/\n",
      "                           PRE ym_partition=202011/\n",
      "                           PRE ym_partition=202012/\n",
      "                           PRE ym_partition=202101/\n",
      "                           PRE ym_partition=202102/\n",
      "                           PRE ym_partition=202103/\n",
      "                           PRE ym_partition=202104/\n",
      "                           PRE ym_partition=202105/\n",
      "                           PRE ym_partition=202106/\n",
      "2022-04-02 00:25:52          0 _SUCCESS\n"
     ]
    }
   ],
   "source": [
    "!aws s3 ls s3://ssp88-labdata2/reddit/"
   ]
  },
  {
   "cell_type": "code",
   "execution_count": 10,
   "id": "c1ea9584-1436-4b0d-a9ef-4d33cb0b41bb",
   "metadata": {},
   "outputs": [
    {
     "name": "stderr",
     "output_type": "stream",
     "text": [
      "                                                                                \r"
     ]
    }
   ],
   "source": [
    "df = spark.read.parquet('s3://ssp88-labdata2/reddit/ym_partition=201907')"
   ]
  },
  {
   "cell_type": "code",
   "execution_count": 11,
   "id": "d582b200-8ce3-44a5-ae39-cceb9af83c46",
   "metadata": {},
   "outputs": [
    {
     "name": "stderr",
     "output_type": "stream",
     "text": [
      "                                                                                \r"
     ]
    },
    {
     "data": {
      "text/plain": [
       "374620"
      ]
     },
     "execution_count": 11,
     "metadata": {},
     "output_type": "execute_result"
    }
   ],
   "source": [
    "df.count()"
   ]
  },
  {
   "cell_type": "markdown",
   "id": "add5d9f8-b75b-45e4-a290-77afb2762332",
   "metadata": {},
   "source": [
    "### Developing on a small piece of your data"
   ]
  },
  {
   "cell_type": "code",
   "execution_count": 12,
   "id": "19a87477-c0d5-4563-a82a-4f0e7b57c0ba",
   "metadata": {},
   "outputs": [],
   "source": [
    "df_small = df.limit(10000)"
   ]
  },
  {
   "cell_type": "code",
   "execution_count": 13,
   "id": "cf34c1bc-9c61-4423-b1ee-efa2cc19a1d3",
   "metadata": {},
   "outputs": [
    {
     "name": "stderr",
     "output_type": "stream",
     "text": [
      "                                                                                \r"
     ]
    },
    {
     "data": {
      "text/plain": [
       "10000"
      ]
     },
     "execution_count": 13,
     "metadata": {},
     "output_type": "execute_result"
    }
   ],
   "source": [
    "df_small.count()"
   ]
  },
  {
   "cell_type": "code",
   "execution_count": 14,
   "id": "e9d987ed-eeb6-4f6d-aa84-84d034682d48",
   "metadata": {},
   "outputs": [
    {
     "name": "stderr",
     "output_type": "stream",
     "text": [
      "[Stage 11:====================================================>   (14 + 1) / 15]\r"
     ]
    },
    {
     "name": "stdout",
     "output_type": "stream",
     "text": [
      "+-------------+----------------+----------------+------------------+-----------------------------+----------------------+---------------------+------------------------+-----------------+-----------------------+-----------------+---------------+--------------------+--------------+--------+--------------------+--------+------------+---------+-------------------------------+----------------+------------+----------------+-----------+-------------+------+------+--------+-------+------------+---------+------+---------+----------+--------------------+-----------+--------------+------------+-----+------------+--------+------------+-----------------------+--------------+----------------+---------------------+--------------+--------------+--------+--------------+\n",
      "|all_awardings|associated_award|          author|author_created_utc|author_flair_background_color|author_flair_css_class|author_flair_richtext|author_flair_template_id|author_flair_text|author_flair_text_color|author_flair_type|author_fullname|author_patreon_flair|author_premium|awarders|                body|can_gild|can_mod_post|collapsed|collapsed_because_crowd_control|collapsed_reason|comment_type|controversiality|created_utc|distinguished|edited|gilded|gildings|     id|is_submitter|  link_id|locked|no_follow| parent_id|           permalink|quarantined|removal_reason|retrieved_on|score|send_replies|stickied|subreddit_id|subreddit_name_prefixed|subreddit_type|top_awarded_type|total_awards_received|treatment_tags|author_cakeday|editable|media_metadata|\n",
      "+-------------+----------------+----------------+------------------+-----------------------------+----------------------+---------------------+------------------------+-----------------+-----------------------+-----------------+---------------+--------------------+--------------+--------+--------------------+--------+------------+---------+-------------------------------+----------------+------------+----------------+-----------+-------------+------+------+--------+-------+------------+---------+------+---------+----------+--------------------+-----------+--------------+------------+-----+------------+--------+------------+-----------------------+--------------+----------------+---------------------+--------------+--------------+--------+--------------+\n",
      "|           []|            None|  Double_Minimum|      1.52192301E9|                         null|                  null|                   []|                    null|             null|                   null|             text|     t2_qw76dep|               false|         false|      []|Seriously, he res...|    true|       false|    false|                           null|            null|        null|               0| 1564287536|         None|  null|     0|      {}|ev8q535|       false|t3_cijav8| false|     true|t1_ev7x78t|/r/PublicFreakout...|      false|          null|  1573113809|    1|        true|   false|    t5_2yrq6|       r/PublicFreakout|        public|            null|                    0|          <NA>|          null|   false|          <NA>|\n",
      "|           []|            None|        kenboned|      1.47642095E9|                         null|                  null|                   []|                    null|             null|                   null|             text|      t2_123vnd|               false|         false|      []|If you're entitle...|    true|       false|    false|                           null|            null|        null|               0| 1564270743|         None|  null|     0|      {}|ev86nx0|       false|t3_ciegvh| false|     true|t1_ev84e7a|/r/PublicFreakout...|      false|          null|  1573103856|    1|        true|   false|    t5_2yrq6|       r/PublicFreakout|        public|            null|                    0|          <NA>|          null|   false|          <NA>|\n",
      "|           []|            None|  weedysexdragon|     1.503630724E9|                         null|                  null|                   []|                    null|             null|                   null|             text|     t2_bnktrt3|               false|         false|      []|You should defini...|    true|       false|    false|                           null|            null|        null|               0| 1564279408|         None|  null|     0|      {}|ev8h3x4|       false|t3_cijav8| false|     true|t1_ev7hzkm|/r/PublicFreakout...|      false|          null|  1573109194|    1|        true|   false|    t5_2yrq6|       r/PublicFreakout|        public|            null|                    0|          <NA>|          null|   false|          <NA>|\n",
      "|           []|            None|       outlawsix|     1.301645111E9|                         null|                  null|                   []|                    null|             null|                   null|             text|       t2_51kh2|               false|         false|      []|             Go away|    true|       false|    false|                           null|            null|        null|               0| 1563595827|         None|  null|     0|      {}|eu9zoeu|       false|t3_cffz93| false|    false|t1_eu9z95w|/r/PublicFreakout...|      false|          null|  1572453382|   10|        true|   false|    t5_2yrq6|       r/PublicFreakout|        public|            null|                    0|          <NA>|          null|   false|           nan|\n",
      "|           []|            None|ScrntnStrnglr666|     1.550172678E9|                         null|                  null|                   []|                    null|             null|                   null|             text|    t2_3840g4dm|               false|         false|      []|Ah yes, because r...|    true|       false|    false|                           null|            null|        null|               0| 1563667144|         None|  null|     0|      {}|euc7fj9|       false|t3_cflxjz| false|     true|t1_eubjw8b|/r/PublicFreakout...|      false|          null|  1572495527|    4|        true|   false|    t5_2yrq6|       r/PublicFreakout|        public|            null|                    0|          <NA>|          null|   false|          <NA>|\n",
      "+-------------+----------------+----------------+------------------+-----------------------------+----------------------+---------------------+------------------------+-----------------+-----------------------+-----------------+---------------+--------------------+--------------+--------+--------------------+--------+------------+---------+-------------------------------+----------------+------------+----------------+-----------+-------------+------+------+--------+-------+------------+---------+------+---------+----------+--------------------+-----------+--------------+------------+-----+------------+--------+------------+-----------------------+--------------+----------------+---------------------+--------------+--------------+--------+--------------+\n",
      "only showing top 5 rows\n",
      "\n"
     ]
    },
    {
     "name": "stderr",
     "output_type": "stream",
     "text": [
      "                                                                                \r"
     ]
    }
   ],
   "source": [
    "df_small.show(5)"
   ]
  },
  {
   "cell_type": "code",
   "execution_count": 15,
   "id": "9b51c856-0b8f-4855-a009-83c3757440dc",
   "metadata": {},
   "outputs": [],
   "source": [
    "spark.stop()"
   ]
  }
 ],
 "metadata": {
  "kernelspec": {
   "display_name": "Python 3 (ipykernel)",
   "language": "python",
   "name": "python3"
  },
  "language_info": {
   "codemirror_mode": {
    "name": "ipython",
    "version": 3
   },
   "file_extension": ".py",
   "mimetype": "text/x-python",
   "name": "python",
   "nbconvert_exporter": "python",
   "pygments_lexer": "ipython3",
   "version": "3.7.11"
  }
 },
 "nbformat": 4,
 "nbformat_minor": 5
}
